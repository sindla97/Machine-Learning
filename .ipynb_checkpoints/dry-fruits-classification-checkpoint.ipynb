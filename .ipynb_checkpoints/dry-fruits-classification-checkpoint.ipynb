{
 "cells": [
  {
   "cell_type": "code",
   "execution_count": 1,
   "id": "03b42d86",
   "metadata": {
    "_cell_guid": "b1076dfc-b9ad-4769-8c92-a6c4dae69d19",
    "_uuid": "8f2839f25d086af736a60e9eeb907d3b93b6e0e5",
    "execution": {
     "iopub.execute_input": "2023-04-24T02:08:43.471802Z",
     "iopub.status.busy": "2023-04-24T02:08:43.471433Z",
     "iopub.status.idle": "2023-04-24T02:08:43.493728Z",
     "shell.execute_reply": "2023-04-24T02:08:43.492946Z"
    },
    "papermill": {
     "duration": 0.032904,
     "end_time": "2023-04-24T02:08:43.496298",
     "exception": false,
     "start_time": "2023-04-24T02:08:43.463394",
     "status": "completed"
    },
    "tags": []
   },
   "outputs": [
    {
     "name": "stdout",
     "output_type": "stream",
     "text": [
      "/kaggle/input/date-fruit-datasets/Date_Fruit_Datasets/Date_Fruit_Datasets.xlsx\n",
      "/kaggle/input/date-fruit-datasets/Date_Fruit_Datasets/Date_Fruit_Datasets_Citation_Request.txt\n",
      "/kaggle/input/date-fruit-datasets/Date_Fruit_Datasets/Date_Fruit_Datasets.arff\n"
     ]
    }
   ],
   "source": [
    "# This Python 3 environment comes with many helpful analytics libraries installed\n",
    "# It is defined by the kaggle/python Docker image: https://github.com/kaggle/docker-python\n",
    "# For example, here's several helpful packages to load\n",
    "\n",
    "import numpy as np # linear algebra\n",
    "import pandas as pd # data processing, CSV file I/O (e.g. pd.read_csv)\n",
    "\n",
    "# Input data files are available in the read-only \"../input/\" directory\n",
    "# For example, running this (by clicking run or pressing Shift+Enter) will list all files under the input directory\n",
    "\n",
    "import os\n",
    "for dirname, _, filenames in os.walk('/kaggle/input'):\n",
    "    for filename in filenames:\n",
    "        print(os.path.join(dirname, filename))\n",
    "\n",
    "# You can write up to 20GB to the current directory (/kaggle/working/) that gets preserved as output when you create a version using \"Save & Run All\" \n",
    "# You can also write temporary files to /kaggle/temp/, but they won't be saved outside of the current session"
   ]
  },
  {
   "cell_type": "code",
   "execution_count": 2,
   "id": "3f33a5b7",
   "metadata": {
    "execution": {
     "iopub.execute_input": "2023-04-24T02:08:43.508383Z",
     "iopub.status.busy": "2023-04-24T02:08:43.507737Z",
     "iopub.status.idle": "2023-04-24T02:08:44.486170Z",
     "shell.execute_reply": "2023-04-24T02:08:44.484973Z"
    },
    "papermill": {
     "duration": 0.987264,
     "end_time": "2023-04-24T02:08:44.488874",
     "exception": false,
     "start_time": "2023-04-24T02:08:43.501610",
     "status": "completed"
    },
    "tags": []
   },
   "outputs": [],
   "source": [
    "import pandas as pd\n",
    "import numpy as np\n",
    "from sklearn.model_selection import *\n",
    "from sklearn.metrics import *\n",
    "from sklearn.preprocessing import *\n",
    "from sklearn.model_selection import *"
   ]
  },
  {
   "cell_type": "code",
   "execution_count": 3,
   "id": "9b418382",
   "metadata": {
    "execution": {
     "iopub.execute_input": "2023-04-24T02:08:44.500976Z",
     "iopub.status.busy": "2023-04-24T02:08:44.500579Z",
     "iopub.status.idle": "2023-04-24T02:08:45.269774Z",
     "shell.execute_reply": "2023-04-24T02:08:45.268646Z"
    },
    "papermill": {
     "duration": 0.778193,
     "end_time": "2023-04-24T02:08:45.272386",
     "exception": false,
     "start_time": "2023-04-24T02:08:44.494193",
     "status": "completed"
    },
    "tags": []
   },
   "outputs": [
    {
     "data": {
      "text/html": [
       "<div>\n",
       "<style scoped>\n",
       "    .dataframe tbody tr th:only-of-type {\n",
       "        vertical-align: middle;\n",
       "    }\n",
       "\n",
       "    .dataframe tbody tr th {\n",
       "        vertical-align: top;\n",
       "    }\n",
       "\n",
       "    .dataframe thead th {\n",
       "        text-align: right;\n",
       "    }\n",
       "</style>\n",
       "<table border=\"1\" class=\"dataframe\">\n",
       "  <thead>\n",
       "    <tr style=\"text-align: right;\">\n",
       "      <th></th>\n",
       "      <th>AREA</th>\n",
       "      <th>PERIMETER</th>\n",
       "      <th>MAJOR_AXIS</th>\n",
       "      <th>MINOR_AXIS</th>\n",
       "      <th>ECCENTRICITY</th>\n",
       "      <th>EQDIASQ</th>\n",
       "      <th>SOLIDITY</th>\n",
       "      <th>CONVEX_AREA</th>\n",
       "      <th>EXTENT</th>\n",
       "      <th>ASPECT_RATIO</th>\n",
       "      <th>...</th>\n",
       "      <th>KurtosisRR</th>\n",
       "      <th>KurtosisRG</th>\n",
       "      <th>KurtosisRB</th>\n",
       "      <th>EntropyRR</th>\n",
       "      <th>EntropyRG</th>\n",
       "      <th>EntropyRB</th>\n",
       "      <th>ALLdaub4RR</th>\n",
       "      <th>ALLdaub4RG</th>\n",
       "      <th>ALLdaub4RB</th>\n",
       "      <th>Class</th>\n",
       "    </tr>\n",
       "  </thead>\n",
       "  <tbody>\n",
       "    <tr>\n",
       "      <th>0</th>\n",
       "      <td>422163</td>\n",
       "      <td>2378.908</td>\n",
       "      <td>837.8484</td>\n",
       "      <td>645.6693</td>\n",
       "      <td>0.6373</td>\n",
       "      <td>733.1539</td>\n",
       "      <td>0.9947</td>\n",
       "      <td>424428</td>\n",
       "      <td>0.7831</td>\n",
       "      <td>1.2976</td>\n",
       "      <td>...</td>\n",
       "      <td>3.2370</td>\n",
       "      <td>2.9574</td>\n",
       "      <td>4.2287</td>\n",
       "      <td>-59191263232</td>\n",
       "      <td>-50714214400</td>\n",
       "      <td>-39922372608</td>\n",
       "      <td>58.7255</td>\n",
       "      <td>54.9554</td>\n",
       "      <td>47.8400</td>\n",
       "      <td>BERHI</td>\n",
       "    </tr>\n",
       "    <tr>\n",
       "      <th>1</th>\n",
       "      <td>338136</td>\n",
       "      <td>2085.144</td>\n",
       "      <td>723.8198</td>\n",
       "      <td>595.2073</td>\n",
       "      <td>0.5690</td>\n",
       "      <td>656.1464</td>\n",
       "      <td>0.9974</td>\n",
       "      <td>339014</td>\n",
       "      <td>0.7795</td>\n",
       "      <td>1.2161</td>\n",
       "      <td>...</td>\n",
       "      <td>2.6228</td>\n",
       "      <td>2.6350</td>\n",
       "      <td>3.1704</td>\n",
       "      <td>-34233065472</td>\n",
       "      <td>-37462601728</td>\n",
       "      <td>-31477794816</td>\n",
       "      <td>50.0259</td>\n",
       "      <td>52.8168</td>\n",
       "      <td>47.8315</td>\n",
       "      <td>BERHI</td>\n",
       "    </tr>\n",
       "    <tr>\n",
       "      <th>2</th>\n",
       "      <td>526843</td>\n",
       "      <td>2647.394</td>\n",
       "      <td>940.7379</td>\n",
       "      <td>715.3638</td>\n",
       "      <td>0.6494</td>\n",
       "      <td>819.0222</td>\n",
       "      <td>0.9962</td>\n",
       "      <td>528876</td>\n",
       "      <td>0.7657</td>\n",
       "      <td>1.3150</td>\n",
       "      <td>...</td>\n",
       "      <td>3.7516</td>\n",
       "      <td>3.8611</td>\n",
       "      <td>4.7192</td>\n",
       "      <td>-93948354560</td>\n",
       "      <td>-74738221056</td>\n",
       "      <td>-60311207936</td>\n",
       "      <td>65.4772</td>\n",
       "      <td>59.2860</td>\n",
       "      <td>51.9378</td>\n",
       "      <td>BERHI</td>\n",
       "    </tr>\n",
       "    <tr>\n",
       "      <th>3</th>\n",
       "      <td>416063</td>\n",
       "      <td>2351.210</td>\n",
       "      <td>827.9804</td>\n",
       "      <td>645.2988</td>\n",
       "      <td>0.6266</td>\n",
       "      <td>727.8378</td>\n",
       "      <td>0.9948</td>\n",
       "      <td>418255</td>\n",
       "      <td>0.7759</td>\n",
       "      <td>1.2831</td>\n",
       "      <td>...</td>\n",
       "      <td>5.0401</td>\n",
       "      <td>8.6136</td>\n",
       "      <td>8.2618</td>\n",
       "      <td>-32074307584</td>\n",
       "      <td>-32060925952</td>\n",
       "      <td>-29575010304</td>\n",
       "      <td>43.3900</td>\n",
       "      <td>44.1259</td>\n",
       "      <td>41.1882</td>\n",
       "      <td>BERHI</td>\n",
       "    </tr>\n",
       "    <tr>\n",
       "      <th>4</th>\n",
       "      <td>347562</td>\n",
       "      <td>2160.354</td>\n",
       "      <td>763.9877</td>\n",
       "      <td>582.8359</td>\n",
       "      <td>0.6465</td>\n",
       "      <td>665.2291</td>\n",
       "      <td>0.9908</td>\n",
       "      <td>350797</td>\n",
       "      <td>0.7569</td>\n",
       "      <td>1.3108</td>\n",
       "      <td>...</td>\n",
       "      <td>2.7016</td>\n",
       "      <td>2.9761</td>\n",
       "      <td>4.4146</td>\n",
       "      <td>-39980974080</td>\n",
       "      <td>-35980042240</td>\n",
       "      <td>-25593278464</td>\n",
       "      <td>52.7743</td>\n",
       "      <td>50.9080</td>\n",
       "      <td>42.6666</td>\n",
       "      <td>BERHI</td>\n",
       "    </tr>\n",
       "  </tbody>\n",
       "</table>\n",
       "<p>5 rows × 35 columns</p>\n",
       "</div>"
      ],
      "text/plain": [
       "     AREA  PERIMETER  MAJOR_AXIS  MINOR_AXIS  ECCENTRICITY   EQDIASQ  \\\n",
       "0  422163   2378.908    837.8484    645.6693        0.6373  733.1539   \n",
       "1  338136   2085.144    723.8198    595.2073        0.5690  656.1464   \n",
       "2  526843   2647.394    940.7379    715.3638        0.6494  819.0222   \n",
       "3  416063   2351.210    827.9804    645.2988        0.6266  727.8378   \n",
       "4  347562   2160.354    763.9877    582.8359        0.6465  665.2291   \n",
       "\n",
       "   SOLIDITY  CONVEX_AREA  EXTENT  ASPECT_RATIO  ...  KurtosisRR  KurtosisRG  \\\n",
       "0    0.9947       424428  0.7831        1.2976  ...      3.2370      2.9574   \n",
       "1    0.9974       339014  0.7795        1.2161  ...      2.6228      2.6350   \n",
       "2    0.9962       528876  0.7657        1.3150  ...      3.7516      3.8611   \n",
       "3    0.9948       418255  0.7759        1.2831  ...      5.0401      8.6136   \n",
       "4    0.9908       350797  0.7569        1.3108  ...      2.7016      2.9761   \n",
       "\n",
       "   KurtosisRB    EntropyRR    EntropyRG    EntropyRB  ALLdaub4RR  ALLdaub4RG  \\\n",
       "0      4.2287 -59191263232 -50714214400 -39922372608     58.7255     54.9554   \n",
       "1      3.1704 -34233065472 -37462601728 -31477794816     50.0259     52.8168   \n",
       "2      4.7192 -93948354560 -74738221056 -60311207936     65.4772     59.2860   \n",
       "3      8.2618 -32074307584 -32060925952 -29575010304     43.3900     44.1259   \n",
       "4      4.4146 -39980974080 -35980042240 -25593278464     52.7743     50.9080   \n",
       "\n",
       "   ALLdaub4RB  Class  \n",
       "0     47.8400  BERHI  \n",
       "1     47.8315  BERHI  \n",
       "2     51.9378  BERHI  \n",
       "3     41.1882  BERHI  \n",
       "4     42.6666  BERHI  \n",
       "\n",
       "[5 rows x 35 columns]"
      ]
     },
     "execution_count": 3,
     "metadata": {},
     "output_type": "execute_result"
    }
   ],
   "source": [
    "df= pd.read_excel('/kaggle/input/date-fruit-datasets/Date_Fruit_Datasets/Date_Fruit_Datasets.xlsx')\n",
    "df.head()"
   ]
  },
  {
   "cell_type": "code",
   "execution_count": 4,
   "id": "4ab8ae14",
   "metadata": {
    "execution": {
     "iopub.execute_input": "2023-04-24T02:08:45.289559Z",
     "iopub.status.busy": "2023-04-24T02:08:45.288819Z",
     "iopub.status.idle": "2023-04-24T02:08:45.303866Z",
     "shell.execute_reply": "2023-04-24T02:08:45.302279Z"
    },
    "papermill": {
     "duration": 0.026371,
     "end_time": "2023-04-24T02:08:45.307426",
     "exception": false,
     "start_time": "2023-04-24T02:08:45.281055",
     "status": "completed"
    },
    "tags": []
   },
   "outputs": [
    {
     "data": {
      "text/plain": [
       "DOKOL     204\n",
       "SAFAVI    199\n",
       "ROTANA    166\n",
       "DEGLET     98\n",
       "SOGAY      94\n",
       "IRAQI      72\n",
       "BERHI      65\n",
       "Name: Class, dtype: int64"
      ]
     },
     "execution_count": 4,
     "metadata": {},
     "output_type": "execute_result"
    }
   ],
   "source": [
    "df.Class.value_counts()"
   ]
  },
  {
   "cell_type": "code",
   "execution_count": 5,
   "id": "4c24571d",
   "metadata": {
    "execution": {
     "iopub.execute_input": "2023-04-24T02:08:45.327244Z",
     "iopub.status.busy": "2023-04-24T02:08:45.326725Z",
     "iopub.status.idle": "2023-04-24T02:08:45.335818Z",
     "shell.execute_reply": "2023-04-24T02:08:45.334682Z"
    },
    "papermill": {
     "duration": 0.022563,
     "end_time": "2023-04-24T02:08:45.338655",
     "exception": false,
     "start_time": "2023-04-24T02:08:45.316092",
     "status": "completed"
    },
    "tags": []
   },
   "outputs": [
    {
     "data": {
      "text/plain": [
       "7"
      ]
     },
     "execution_count": 5,
     "metadata": {},
     "output_type": "execute_result"
    }
   ],
   "source": [
    "df.Class.nunique()"
   ]
  },
  {
   "cell_type": "code",
   "execution_count": 6,
   "id": "275d23aa",
   "metadata": {
    "execution": {
     "iopub.execute_input": "2023-04-24T02:08:45.356820Z",
     "iopub.status.busy": "2023-04-24T02:08:45.356199Z",
     "iopub.status.idle": "2023-04-24T02:08:45.368000Z",
     "shell.execute_reply": "2023-04-24T02:08:45.367190Z"
    },
    "papermill": {
     "duration": 0.024294,
     "end_time": "2023-04-24T02:08:45.370275",
     "exception": false,
     "start_time": "2023-04-24T02:08:45.345981",
     "status": "completed"
    },
    "tags": []
   },
   "outputs": [],
   "source": [
    "y = df.Class\n",
    "X = df.drop('Class', axis= 1)\n",
    "X_train, X_test, y_train, y_test = train_test_split(X, y, test_size = 0.3, \n",
    "                                                    stratify=y, random_state=42) # splitting\n"
   ]
  },
  {
   "cell_type": "code",
   "execution_count": 7,
   "id": "f9f6a32f",
   "metadata": {
    "execution": {
     "iopub.execute_input": "2023-04-24T02:08:45.384242Z",
     "iopub.status.busy": "2023-04-24T02:08:45.383587Z",
     "iopub.status.idle": "2023-04-24T02:08:45.393998Z",
     "shell.execute_reply": "2023-04-24T02:08:45.392866Z"
    },
    "papermill": {
     "duration": 0.019764,
     "end_time": "2023-04-24T02:08:45.396210",
     "exception": false,
     "start_time": "2023-04-24T02:08:45.376446",
     "status": "completed"
    },
    "tags": []
   },
   "outputs": [],
   "source": [
    "scaler = MinMaxScaler()\n",
    "\n",
    "X_train_scaled= scaler.fit_transform(X_train,y_train)\n",
    "X_test_scaled =scaler.transform(X_test)\n",
    "    "
   ]
  },
  {
   "cell_type": "code",
   "execution_count": 8,
   "id": "4c0dc317",
   "metadata": {
    "execution": {
     "iopub.execute_input": "2023-04-24T02:08:45.410137Z",
     "iopub.status.busy": "2023-04-24T02:08:45.409055Z",
     "iopub.status.idle": "2023-04-24T02:08:52.983131Z",
     "shell.execute_reply": "2023-04-24T02:08:52.981903Z"
    },
    "papermill": {
     "duration": 7.583846,
     "end_time": "2023-04-24T02:08:52.985851",
     "exception": false,
     "start_time": "2023-04-24T02:08:45.402005",
     "status": "completed"
    },
    "tags": []
   },
   "outputs": [],
   "source": [
    "le = LabelEncoder() # encoding\n",
    "y_train_label= le.fit_transform(y_train)\n",
    "y_test_label= le.transform(y_test)\n",
    "from keras.utils import np_utils\n",
    "dummy_y_train = np_utils.to_categorical(y_train_label)\n",
    "dummy_y_test = np_utils.to_categorical(y_test_label)\n"
   ]
  },
  {
   "cell_type": "code",
   "execution_count": 9,
   "id": "dd357137",
   "metadata": {
    "execution": {
     "iopub.execute_input": "2023-04-24T02:08:52.998984Z",
     "iopub.status.busy": "2023-04-24T02:08:52.998171Z",
     "iopub.status.idle": "2023-04-24T02:08:53.006749Z",
     "shell.execute_reply": "2023-04-24T02:08:53.005994Z"
    },
    "papermill": {
     "duration": 0.017063,
     "end_time": "2023-04-24T02:08:53.008574",
     "exception": false,
     "start_time": "2023-04-24T02:08:52.991511",
     "status": "completed"
    },
    "tags": []
   },
   "outputs": [],
   "source": [
    "\n",
    "from keras.layers import *\n",
    "from keras import *\n",
    "from keras.models import Sequential\n",
    "from keras.wrappers.scikit_learn import KerasClassifier\n",
    "from keras.utils import np_utils\n",
    "from sklearn.model_selection import cross_val_score\n",
    "from sklearn.model_selection import KFold"
   ]
  },
  {
   "cell_type": "code",
   "execution_count": 10,
   "id": "abb2b519",
   "metadata": {
    "execution": {
     "iopub.execute_input": "2023-04-24T02:08:53.021363Z",
     "iopub.status.busy": "2023-04-24T02:08:53.021001Z",
     "iopub.status.idle": "2023-04-24T02:08:53.233257Z",
     "shell.execute_reply": "2023-04-24T02:08:53.232112Z"
    },
    "papermill": {
     "duration": 0.221241,
     "end_time": "2023-04-24T02:08:53.235279",
     "exception": false,
     "start_time": "2023-04-24T02:08:53.014038",
     "status": "completed"
    },
    "tags": []
   },
   "outputs": [
    {
     "name": "stdout",
     "output_type": "stream",
     "text": [
      "Model: \"sequential\"\n",
      "_________________________________________________________________\n",
      " Layer (type)                Output Shape              Param #   \n",
      "=================================================================\n",
      " dense (Dense)               (None, 66)                2310      \n",
      "                                                                 \n",
      " dense_1 (Dense)             (None, 30)                2010      \n",
      "                                                                 \n",
      " dense_2 (Dense)             (None, 7)                 217       \n",
      "                                                                 \n",
      "=================================================================\n",
      "Total params: 4,537\n",
      "Trainable params: 4,537\n",
      "Non-trainable params: 0\n",
      "_________________________________________________________________\n"
     ]
    }
   ],
   "source": [
    "def model():\n",
    "    model = Sequential()\n",
    "    model.add(Dense(66,input_dim = 34,activation = 'relu'))\n",
    "    model.add(Dense(30,activation = 'relu'))\n",
    "    model.add(Dense(7,activation = 'softmax'))\n",
    "    model.compile(loss='categorical_crossentropy', optimizer='adam', metrics=['accuracy'])\n",
    "    return model\n",
    "model().summary()"
   ]
  },
  {
   "cell_type": "code",
   "execution_count": 11,
   "id": "ea1bbe58",
   "metadata": {
    "execution": {
     "iopub.execute_input": "2023-04-24T02:08:53.251475Z",
     "iopub.status.busy": "2023-04-24T02:08:53.250846Z",
     "iopub.status.idle": "2023-04-24T02:08:53.256816Z",
     "shell.execute_reply": "2023-04-24T02:08:53.255718Z"
    },
    "papermill": {
     "duration": 0.017037,
     "end_time": "2023-04-24T02:08:53.259401",
     "exception": false,
     "start_time": "2023-04-24T02:08:53.242364",
     "status": "completed"
    },
    "tags": []
   },
   "outputs": [
    {
     "name": "stderr",
     "output_type": "stream",
     "text": [
      "/opt/conda/lib/python3.7/site-packages/ipykernel_launcher.py:1: DeprecationWarning: KerasClassifier is deprecated, use Sci-Keras (https://github.com/adriangb/scikeras) instead. See https://www.adriangb.com/scikeras/stable/migration.html for help migrating.\n",
      "  \"\"\"Entry point for launching an IPython kernel.\n"
     ]
    }
   ],
   "source": [
    "estimator = KerasClassifier(build_fn=model, epochs=20, batch_size=25, verbose=0)\n",
    "kfold = KFold(n_splits=10, shuffle=True)"
   ]
  },
  {
   "cell_type": "code",
   "execution_count": 12,
   "id": "e496dd53",
   "metadata": {
    "execution": {
     "iopub.execute_input": "2023-04-24T02:08:53.276017Z",
     "iopub.status.busy": "2023-04-24T02:08:53.275187Z",
     "iopub.status.idle": "2023-04-24T02:08:55.141934Z",
     "shell.execute_reply": "2023-04-24T02:08:55.140785Z"
    },
    "papermill": {
     "duration": 1.87851,
     "end_time": "2023-04-24T02:08:55.144235",
     "exception": false,
     "start_time": "2023-04-24T02:08:53.265725",
     "status": "completed"
    },
    "tags": []
   },
   "outputs": [
    {
     "name": "stdout",
     "output_type": "stream",
     "text": [
      "Epoch 1/20\n",
      "20/20 [==============================] - 1s 2ms/step - loss: 1.8630 - accuracy: 0.4427 \n",
      "Epoch 2/20\n",
      "20/20 [==============================] - 0s 2ms/step - loss: 1.7368 - accuracy: 0.6226\n",
      "Epoch 3/20\n",
      "20/20 [==============================] - 0s 2ms/step - loss: 1.6028 - accuracy: 0.6051\n",
      "Epoch 4/20\n",
      "20/20 [==============================] - 0s 2ms/step - loss: 1.4142 - accuracy: 0.6258\n",
      "Epoch 5/20\n",
      "20/20 [==============================] - 0s 2ms/step - loss: 1.2536 - accuracy: 0.6258\n",
      "Epoch 6/20\n",
      "20/20 [==============================] - 0s 2ms/step - loss: 1.1034 - accuracy: 0.6322\n",
      "Epoch 7/20\n",
      "20/20 [==============================] - 0s 2ms/step - loss: 0.9869 - accuracy: 0.6704\n",
      "Epoch 8/20\n",
      "20/20 [==============================] - 0s 2ms/step - loss: 0.8835 - accuracy: 0.6815\n",
      "Epoch 9/20\n",
      "20/20 [==============================] - 0s 2ms/step - loss: 0.8026 - accuracy: 0.7118\n",
      "Epoch 10/20\n",
      "20/20 [==============================] - 0s 2ms/step - loss: 0.7379 - accuracy: 0.7484\n",
      "Epoch 11/20\n",
      "20/20 [==============================] - 0s 2ms/step - loss: 0.6816 - accuracy: 0.7373\n",
      "Epoch 12/20\n",
      "20/20 [==============================] - 0s 2ms/step - loss: 0.6370 - accuracy: 0.7803\n",
      "Epoch 13/20\n",
      "20/20 [==============================] - 0s 2ms/step - loss: 0.5983 - accuracy: 0.7866\n",
      "Epoch 14/20\n",
      "20/20 [==============================] - 0s 2ms/step - loss: 0.5698 - accuracy: 0.7994\n",
      "Epoch 15/20\n",
      "20/20 [==============================] - 0s 2ms/step - loss: 0.5323 - accuracy: 0.8280\n",
      "Epoch 16/20\n",
      "20/20 [==============================] - 0s 2ms/step - loss: 0.5061 - accuracy: 0.8264\n",
      "Epoch 17/20\n",
      "20/20 [==============================] - 0s 2ms/step - loss: 0.4775 - accuracy: 0.8583\n",
      "Epoch 18/20\n",
      "20/20 [==============================] - 0s 2ms/step - loss: 0.4597 - accuracy: 0.8694\n",
      "Epoch 19/20\n",
      "20/20 [==============================] - 0s 2ms/step - loss: 0.4507 - accuracy: 0.8487\n",
      "Epoch 20/20\n",
      "20/20 [==============================] - 0s 2ms/step - loss: 0.4388 - accuracy: 0.8615\n"
     ]
    },
    {
     "data": {
      "text/plain": [
       "<keras.callbacks.History at 0x7ccf0409c7d0>"
      ]
     },
     "execution_count": 12,
     "metadata": {},
     "output_type": "execute_result"
    }
   ],
   "source": [
    "model().fit(X_train_scaled,dummy_y_train,epochs=20)"
   ]
  },
  {
   "cell_type": "code",
   "execution_count": 13,
   "id": "bc47db9a",
   "metadata": {
    "execution": {
     "iopub.execute_input": "2023-04-24T02:08:55.166415Z",
     "iopub.status.busy": "2023-04-24T02:08:55.165925Z",
     "iopub.status.idle": "2023-04-24T02:09:13.064499Z",
     "shell.execute_reply": "2023-04-24T02:09:13.063727Z"
    },
    "papermill": {
     "duration": 17.91197,
     "end_time": "2023-04-24T02:09:13.066426",
     "exception": false,
     "start_time": "2023-04-24T02:08:55.154456",
     "status": "completed"
    },
    "tags": []
   },
   "outputs": [
    {
     "data": {
      "text/plain": [
       "array([0.82539684, 0.79365081, 0.84126985, 0.79365081, 0.73015875,\n",
       "       0.8888889 , 0.85714287, 0.87301588, 0.87096775, 0.88709676])"
      ]
     },
     "execution_count": 13,
     "metadata": {},
     "output_type": "execute_result"
    }
   ],
   "source": [
    "\n",
    "\n",
    "results = cross_val_score(estimator, X_train_scaled, dummy_y_train, cv=kfold)\n",
    "results"
   ]
  },
  {
   "cell_type": "code",
   "execution_count": 14,
   "id": "fb7e4692",
   "metadata": {
    "execution": {
     "iopub.execute_input": "2023-04-24T02:09:13.088103Z",
     "iopub.status.busy": "2023-04-24T02:09:13.087400Z",
     "iopub.status.idle": "2023-04-24T02:09:13.094975Z",
     "shell.execute_reply": "2023-04-24T02:09:13.093833Z"
    },
    "papermill": {
     "duration": 0.021047,
     "end_time": "2023-04-24T02:09:13.097283",
     "exception": false,
     "start_time": "2023-04-24T02:09:13.076236",
     "status": "completed"
    },
    "tags": []
   },
   "outputs": [],
   "source": [
    "       \n",
    "def create_model_grid(activation = 'relu', \n",
    "                      optimizer='rmsprop'):\n",
    "    # create model\n",
    "    model = Sequential()\n",
    "    \n",
    "    if activation=='relu':\n",
    "        model.add(Dense(68, input_dim=34,  activation='relu'))\n",
    "        model.add(Dense(34, activation='relu'))\n",
    "    if activation=='tanh':\n",
    "        model.add(Dense(68, input_dim=34,  activation='tanh'))\n",
    "        model.add(Dense(34, activation='tanh'))\n",
    "    if activation=='sigmoid':\n",
    "        model.add(Dense(68, input_dim=34,  activation='sigmoid'))\n",
    "        model.add(Dense(34,  activation='sigmoid'))\n",
    "    model.add(Dense(7,  activation='sigmoid'))\n",
    "    \n",
    "    # Compile model\n",
    "    model.compile(loss='categorical_crossentropy', \n",
    "                  optimizer=optimizer, \n",
    "                  metrics=['accuracy'])\n",
    "    return model"
   ]
  },
  {
   "cell_type": "code",
   "execution_count": 15,
   "id": "ab3530b9",
   "metadata": {
    "execution": {
     "iopub.execute_input": "2023-04-24T02:09:13.118636Z",
     "iopub.status.busy": "2023-04-24T02:09:13.118218Z",
     "iopub.status.idle": "2023-04-24T02:09:13.124017Z",
     "shell.execute_reply": "2023-04-24T02:09:13.122970Z"
    },
    "papermill": {
     "duration": 0.018922,
     "end_time": "2023-04-24T02:09:13.126062",
     "exception": false,
     "start_time": "2023-04-24T02:09:13.107140",
     "status": "completed"
    },
    "tags": []
   },
   "outputs": [
    {
     "name": "stderr",
     "output_type": "stream",
     "text": [
      "/opt/conda/lib/python3.7/site-packages/ipykernel_launcher.py:2: DeprecationWarning: KerasClassifier is deprecated, use Sci-Keras (https://github.com/adriangb/scikeras) instead. See https://www.adriangb.com/scikeras/stable/migration.html for help migrating.\n",
      "  \n"
     ]
    }
   ],
   "source": [
    "model_grid = KerasClassifier(build_fn=create_model_grid, \n",
    "                             verbose=0,validation_data=(X_test_scaled, dummy_y_test))"
   ]
  },
  {
   "cell_type": "code",
   "execution_count": 16,
   "id": "071885ed",
   "metadata": {
    "execution": {
     "iopub.execute_input": "2023-04-24T02:09:13.146857Z",
     "iopub.status.busy": "2023-04-24T02:09:13.146440Z",
     "iopub.status.idle": "2023-04-24T02:09:13.151849Z",
     "shell.execute_reply": "2023-04-24T02:09:13.150809Z"
    },
    "papermill": {
     "duration": 0.018522,
     "end_time": "2023-04-24T02:09:13.154064",
     "exception": false,
     "start_time": "2023-04-24T02:09:13.135542",
     "status": "completed"
    },
    "tags": []
   },
   "outputs": [],
   "source": [
    "activations = ['tanh','relu','sigmoid']\n",
    "optimizers = ['rmsprop', 'adam','sgd']\n",
    "epochs = [5,10,25]\n",
    "batches = [8,16,64]"
   ]
  },
  {
   "cell_type": "code",
   "execution_count": 17,
   "id": "7cfbb755",
   "metadata": {
    "execution": {
     "iopub.execute_input": "2023-04-24T02:09:13.175727Z",
     "iopub.status.busy": "2023-04-24T02:09:13.174692Z",
     "iopub.status.idle": "2023-04-24T02:09:13.187899Z",
     "shell.execute_reply": "2023-04-24T02:09:13.186785Z"
    },
    "papermill": {
     "duration": 0.02631,
     "end_time": "2023-04-24T02:09:13.190205",
     "exception": false,
     "start_time": "2023-04-24T02:09:13.163895",
     "status": "completed"
    },
    "tags": []
   },
   "outputs": [
    {
     "data": {
      "text/plain": [
       "GridSearchCV(cv=3,\n",
       "             estimator=<keras.wrappers.scikit_learn.KerasClassifier object at 0x7ccecca924d0>,\n",
       "             param_grid={'activation': ['tanh', 'relu', 'sigmoid'],\n",
       "                         'batch_size': [8, 16, 64], 'epochs': [5, 10, 25],\n",
       "                         'optimizer': ['rmsprop', 'adam', 'sgd']},\n",
       "             verbose=2)"
      ]
     },
     "execution_count": 17,
     "metadata": {},
     "output_type": "execute_result"
    }
   ],
   "source": [
    "from sklearn.model_selection import GridSearchCV\n",
    "\n",
    "param_grid = dict(activation =  activations,\n",
    "                  optimizer=optimizers, \n",
    "                  epochs=epochs, \n",
    "                  batch_size=batches)\n",
    "\n",
    "\n",
    "grid = GridSearchCV(estimator=model_grid, \n",
    "                    param_grid=param_grid,\n",
    "                    cv = 3,\n",
    "                    verbose=2,)\n",
    "grid"
   ]
  },
  {
   "cell_type": "code",
   "execution_count": 18,
   "id": "46d5266d",
   "metadata": {
    "execution": {
     "iopub.execute_input": "2023-04-24T02:09:13.212683Z",
     "iopub.status.busy": "2023-04-24T02:09:13.211595Z",
     "iopub.status.idle": "2023-04-24T02:18:20.002644Z",
     "shell.execute_reply": "2023-04-24T02:18:20.001568Z"
    },
    "papermill": {
     "duration": 546.804756,
     "end_time": "2023-04-24T02:18:20.004940",
     "exception": false,
     "start_time": "2023-04-24T02:09:13.200184",
     "status": "completed"
    },
    "tags": []
   },
   "outputs": [
    {
     "name": "stdout",
     "output_type": "stream",
     "text": [
      "Fitting 3 folds for each of 81 candidates, totalling 243 fits\n",
      "[CV] END activation=tanh, batch_size=8, epochs=5, optimizer=rmsprop; total time=   2.1s\n",
      "[CV] END activation=tanh, batch_size=8, epochs=5, optimizer=rmsprop; total time=   1.7s\n",
      "[CV] END activation=tanh, batch_size=8, epochs=5, optimizer=rmsprop; total time=   1.6s\n",
      "[CV] END activation=tanh, batch_size=8, epochs=5, optimizer=adam; total time=   1.8s\n",
      "[CV] END activation=tanh, batch_size=8, epochs=5, optimizer=adam; total time=   1.7s\n",
      "[CV] END activation=tanh, batch_size=8, epochs=5, optimizer=adam; total time=   2.2s\n",
      "[CV] END activation=tanh, batch_size=8, epochs=5, optimizer=sgd; total time=   2.0s\n",
      "[CV] END activation=tanh, batch_size=8, epochs=5, optimizer=sgd; total time=   2.0s\n",
      "[CV] END activation=tanh, batch_size=8, epochs=5, optimizer=sgd; total time=   1.6s\n",
      "[CV] END activation=tanh, batch_size=8, epochs=10, optimizer=rmsprop; total time=   2.2s\n",
      "[CV] END activation=tanh, batch_size=8, epochs=10, optimizer=rmsprop; total time=   3.4s\n",
      "[CV] END activation=tanh, batch_size=8, epochs=10, optimizer=rmsprop; total time=   2.3s\n",
      "[CV] END activation=tanh, batch_size=8, epochs=10, optimizer=adam; total time=   3.0s\n",
      "[CV] END activation=tanh, batch_size=8, epochs=10, optimizer=adam; total time=   2.5s\n",
      "[CV] END activation=tanh, batch_size=8, epochs=10, optimizer=adam; total time=   2.5s\n",
      "[CV] END activation=tanh, batch_size=8, epochs=10, optimizer=sgd; total time=   3.3s\n",
      "[CV] END activation=tanh, batch_size=8, epochs=10, optimizer=sgd; total time=   2.2s\n",
      "[CV] END activation=tanh, batch_size=8, epochs=10, optimizer=sgd; total time=   2.2s\n",
      "[CV] END activation=tanh, batch_size=8, epochs=25, optimizer=rmsprop; total time=   5.9s\n",
      "[CV] END activation=tanh, batch_size=8, epochs=25, optimizer=rmsprop; total time=   4.3s\n",
      "[CV] END activation=tanh, batch_size=8, epochs=25, optimizer=rmsprop; total time=   4.2s\n",
      "[CV] END activation=tanh, batch_size=8, epochs=25, optimizer=adam; total time=   4.7s\n",
      "[CV] END activation=tanh, batch_size=8, epochs=25, optimizer=adam; total time=   6.0s\n",
      "[CV] END activation=tanh, batch_size=8, epochs=25, optimizer=adam; total time=   4.5s\n",
      "[CV] END activation=tanh, batch_size=8, epochs=25, optimizer=sgd; total time=   4.1s\n",
      "[CV] END activation=tanh, batch_size=8, epochs=25, optimizer=sgd; total time=   5.8s\n",
      "[CV] END activation=tanh, batch_size=8, epochs=25, optimizer=sgd; total time=   4.8s\n",
      "[CV] END activation=tanh, batch_size=16, epochs=5, optimizer=rmsprop; total time=   1.4s\n",
      "[CV] END activation=tanh, batch_size=16, epochs=5, optimizer=rmsprop; total time=   2.0s\n",
      "[CV] END activation=tanh, batch_size=16, epochs=5, optimizer=rmsprop; total time=   1.4s\n",
      "[CV] END activation=tanh, batch_size=16, epochs=5, optimizer=adam; total time=   1.5s\n",
      "[CV] END activation=tanh, batch_size=16, epochs=5, optimizer=adam; total time=   1.5s\n",
      "[CV] END activation=tanh, batch_size=16, epochs=5, optimizer=adam; total time=   1.5s\n",
      "[CV] END activation=tanh, batch_size=16, epochs=5, optimizer=sgd; total time=   1.2s\n",
      "[CV] END activation=tanh, batch_size=16, epochs=5, optimizer=sgd; total time=   1.2s\n",
      "[CV] END activation=tanh, batch_size=16, epochs=5, optimizer=sgd; total time=   1.3s\n",
      "[CV] END activation=tanh, batch_size=16, epochs=10, optimizer=rmsprop; total time=   1.7s\n",
      "[CV] END activation=tanh, batch_size=16, epochs=10, optimizer=rmsprop; total time=   2.0s\n",
      "[CV] END activation=tanh, batch_size=16, epochs=10, optimizer=rmsprop; total time=   1.7s\n",
      "[CV] END activation=tanh, batch_size=16, epochs=10, optimizer=adam; total time=   2.2s\n",
      "[CV] END activation=tanh, batch_size=16, epochs=10, optimizer=adam; total time=   1.9s\n",
      "[CV] END activation=tanh, batch_size=16, epochs=10, optimizer=adam; total time=   2.6s\n",
      "[CV] END activation=tanh, batch_size=16, epochs=10, optimizer=sgd; total time=   1.7s\n",
      "[CV] END activation=tanh, batch_size=16, epochs=10, optimizer=sgd; total time=   1.6s\n",
      "[CV] END activation=tanh, batch_size=16, epochs=10, optimizer=sgd; total time=   1.7s\n",
      "[CV] END activation=tanh, batch_size=16, epochs=25, optimizer=rmsprop; total time=   3.0s\n",
      "[CV] END activation=tanh, batch_size=16, epochs=25, optimizer=rmsprop; total time=   3.1s\n",
      "[CV] END activation=tanh, batch_size=16, epochs=25, optimizer=rmsprop; total time=   3.3s\n",
      "[CV] END activation=tanh, batch_size=16, epochs=25, optimizer=adam; total time=   3.3s\n",
      "[CV] END activation=tanh, batch_size=16, epochs=25, optimizer=adam; total time=   3.1s\n",
      "[CV] END activation=tanh, batch_size=16, epochs=25, optimizer=adam; total time=   3.4s\n",
      "[CV] END activation=tanh, batch_size=16, epochs=25, optimizer=sgd; total time=   2.8s\n",
      "[CV] END activation=tanh, batch_size=16, epochs=25, optimizer=sgd; total time=   2.9s\n",
      "[CV] END activation=tanh, batch_size=16, epochs=25, optimizer=sgd; total time=   2.8s\n",
      "[CV] END activation=tanh, batch_size=64, epochs=5, optimizer=rmsprop; total time=   1.1s\n",
      "[CV] END activation=tanh, batch_size=64, epochs=5, optimizer=rmsprop; total time=   1.4s\n",
      "[CV] END activation=tanh, batch_size=64, epochs=5, optimizer=rmsprop; total time=   1.8s\n",
      "[CV] END activation=tanh, batch_size=64, epochs=5, optimizer=adam; total time=   1.6s\n",
      "[CV] END activation=tanh, batch_size=64, epochs=5, optimizer=adam; total time=   1.4s\n",
      "[CV] END activation=tanh, batch_size=64, epochs=5, optimizer=adam; total time=   1.4s\n",
      "[CV] END activation=tanh, batch_size=64, epochs=5, optimizer=sgd; total time=   1.3s\n",
      "[CV] END activation=tanh, batch_size=64, epochs=5, optimizer=sgd; total time=   1.0s\n",
      "[CV] END activation=tanh, batch_size=64, epochs=5, optimizer=sgd; total time=   1.1s\n",
      "[CV] END activation=tanh, batch_size=64, epochs=10, optimizer=rmsprop; total time=   1.3s\n",
      "[CV] END activation=tanh, batch_size=64, epochs=10, optimizer=rmsprop; total time=   1.3s\n",
      "[CV] END activation=tanh, batch_size=64, epochs=10, optimizer=rmsprop; total time=   1.3s\n",
      "[CV] END activation=tanh, batch_size=64, epochs=10, optimizer=adam; total time=   1.5s\n",
      "[CV] END activation=tanh, batch_size=64, epochs=10, optimizer=adam; total time=   1.5s\n",
      "[CV] END activation=tanh, batch_size=64, epochs=10, optimizer=adam; total time=   1.5s\n",
      "[CV] END activation=tanh, batch_size=64, epochs=10, optimizer=sgd; total time=   1.2s\n",
      "[CV] END activation=tanh, batch_size=64, epochs=10, optimizer=sgd; total time=   1.3s\n",
      "[CV] END activation=tanh, batch_size=64, epochs=10, optimizer=sgd; total time=   1.9s\n",
      "[CV] END activation=tanh, batch_size=64, epochs=25, optimizer=rmsprop; total time=   2.2s\n",
      "[CV] END activation=tanh, batch_size=64, epochs=25, optimizer=rmsprop; total time=   2.0s\n",
      "[CV] END activation=tanh, batch_size=64, epochs=25, optimizer=rmsprop; total time=   2.0s\n",
      "[CV] END activation=tanh, batch_size=64, epochs=25, optimizer=adam; total time=   2.2s\n",
      "[CV] END activation=tanh, batch_size=64, epochs=25, optimizer=adam; total time=   2.1s\n",
      "[CV] END activation=tanh, batch_size=64, epochs=25, optimizer=adam; total time=   2.1s\n",
      "[CV] END activation=tanh, batch_size=64, epochs=25, optimizer=sgd; total time=   2.1s\n",
      "[CV] END activation=tanh, batch_size=64, epochs=25, optimizer=sgd; total time=   1.9s\n",
      "[CV] END activation=tanh, batch_size=64, epochs=25, optimizer=sgd; total time=   1.9s\n",
      "[CV] END activation=relu, batch_size=8, epochs=5, optimizer=rmsprop; total time=   1.6s\n",
      "[CV] END activation=relu, batch_size=8, epochs=5, optimizer=rmsprop; total time=   1.5s\n",
      "[CV] END activation=relu, batch_size=8, epochs=5, optimizer=rmsprop; total time=   2.0s\n",
      "[CV] END activation=relu, batch_size=8, epochs=5, optimizer=adam; total time=   2.2s\n",
      "[CV] END activation=relu, batch_size=8, epochs=5, optimizer=adam; total time=   1.7s\n",
      "[CV] END activation=relu, batch_size=8, epochs=5, optimizer=adam; total time=   2.4s\n",
      "[CV] END activation=relu, batch_size=8, epochs=5, optimizer=sgd; total time=   1.6s\n",
      "[CV] END activation=relu, batch_size=8, epochs=5, optimizer=sgd; total time=   1.5s\n",
      "[CV] END activation=relu, batch_size=8, epochs=5, optimizer=sgd; total time=   2.0s\n",
      "[CV] END activation=relu, batch_size=8, epochs=10, optimizer=rmsprop; total time=   2.3s\n",
      "[CV] END activation=relu, batch_size=8, epochs=10, optimizer=rmsprop; total time=   2.3s\n",
      "[CV] END activation=relu, batch_size=8, epochs=10, optimizer=rmsprop; total time=   3.3s\n",
      "[CV] END activation=relu, batch_size=8, epochs=10, optimizer=adam; total time=   2.6s\n",
      "[CV] END activation=relu, batch_size=8, epochs=10, optimizer=adam; total time=   2.5s\n",
      "[CV] END activation=relu, batch_size=8, epochs=10, optimizer=adam; total time=   3.5s\n",
      "[CV] END activation=relu, batch_size=8, epochs=10, optimizer=sgd; total time=   2.1s\n",
      "[CV] END activation=relu, batch_size=8, epochs=10, optimizer=sgd; total time=   3.2s\n",
      "[CV] END activation=relu, batch_size=8, epochs=10, optimizer=sgd; total time=   3.2s\n",
      "[CV] END activation=relu, batch_size=8, epochs=25, optimizer=rmsprop; total time=   4.1s\n",
      "[CV] END activation=relu, batch_size=8, epochs=25, optimizer=rmsprop; total time=   5.8s\n",
      "[CV] END activation=relu, batch_size=8, epochs=25, optimizer=rmsprop; total time=   5.9s\n",
      "[CV] END activation=relu, batch_size=8, epochs=25, optimizer=adam; total time=   5.4s\n",
      "[CV] END activation=relu, batch_size=8, epochs=25, optimizer=adam; total time=   6.1s\n",
      "[CV] END activation=relu, batch_size=8, epochs=25, optimizer=adam; total time=   4.4s\n",
      "[CV] END activation=relu, batch_size=8, epochs=25, optimizer=sgd; total time=   4.0s\n",
      "[CV] END activation=relu, batch_size=8, epochs=25, optimizer=sgd; total time=   4.0s\n",
      "[CV] END activation=relu, batch_size=8, epochs=25, optimizer=sgd; total time=   3.9s\n",
      "[CV] END activation=relu, batch_size=16, epochs=5, optimizer=rmsprop; total time=   1.2s\n",
      "[CV] END activation=relu, batch_size=16, epochs=5, optimizer=rmsprop; total time=   1.2s\n",
      "[CV] END activation=relu, batch_size=16, epochs=5, optimizer=rmsprop; total time=   1.3s\n",
      "[CV] END activation=relu, batch_size=16, epochs=5, optimizer=adam; total time=   1.5s\n",
      "[CV] END activation=relu, batch_size=16, epochs=5, optimizer=adam; total time=   1.3s\n",
      "[CV] END activation=relu, batch_size=16, epochs=5, optimizer=adam; total time=   1.4s\n",
      "[CV] END activation=relu, batch_size=16, epochs=5, optimizer=sgd; total time=   1.1s\n",
      "[CV] END activation=relu, batch_size=16, epochs=5, optimizer=sgd; total time=   1.3s\n",
      "[CV] END activation=relu, batch_size=16, epochs=5, optimizer=sgd; total time=   1.2s\n",
      "[CV] END activation=relu, batch_size=16, epochs=10, optimizer=rmsprop; total time=   2.2s\n",
      "[CV] END activation=relu, batch_size=16, epochs=10, optimizer=rmsprop; total time=   1.9s\n",
      "[CV] END activation=relu, batch_size=16, epochs=10, optimizer=rmsprop; total time=   1.7s\n",
      "[CV] END activation=relu, batch_size=16, epochs=10, optimizer=adam; total time=   1.8s\n",
      "[CV] END activation=relu, batch_size=16, epochs=10, optimizer=adam; total time=   1.8s\n",
      "[CV] END activation=relu, batch_size=16, epochs=10, optimizer=adam; total time=   1.8s\n",
      "[CV] END activation=relu, batch_size=16, epochs=10, optimizer=sgd; total time=   1.5s\n",
      "[CV] END activation=relu, batch_size=16, epochs=10, optimizer=sgd; total time=   1.5s\n",
      "[CV] END activation=relu, batch_size=16, epochs=10, optimizer=sgd; total time=   1.5s\n",
      "[CV] END activation=relu, batch_size=16, epochs=25, optimizer=rmsprop; total time=   3.3s\n",
      "[CV] END activation=relu, batch_size=16, epochs=25, optimizer=rmsprop; total time=   3.2s\n",
      "[CV] END activation=relu, batch_size=16, epochs=25, optimizer=rmsprop; total time=   2.8s\n",
      "[CV] END activation=relu, batch_size=16, epochs=25, optimizer=adam; total time=   3.4s\n",
      "[CV] END activation=relu, batch_size=16, epochs=25, optimizer=adam; total time=   2.8s\n",
      "[CV] END activation=relu, batch_size=16, epochs=25, optimizer=adam; total time=   2.8s\n",
      "[CV] END activation=relu, batch_size=16, epochs=25, optimizer=sgd; total time=   2.6s\n",
      "[CV] END activation=relu, batch_size=16, epochs=25, optimizer=sgd; total time=   3.4s\n",
      "[CV] END activation=relu, batch_size=16, epochs=25, optimizer=sgd; total time=   2.8s\n",
      "[CV] END activation=relu, batch_size=64, epochs=5, optimizer=rmsprop; total time=   1.1s\n",
      "[CV] END activation=relu, batch_size=64, epochs=5, optimizer=rmsprop; total time=   1.4s\n",
      "[CV] END activation=relu, batch_size=64, epochs=5, optimizer=rmsprop; total time=   1.1s\n",
      "[CV] END activation=relu, batch_size=64, epochs=5, optimizer=adam; total time=   1.2s\n",
      "[CV] END activation=relu, batch_size=64, epochs=5, optimizer=adam; total time=   1.5s\n",
      "[CV] END activation=relu, batch_size=64, epochs=5, optimizer=adam; total time=   1.5s\n",
      "[CV] END activation=relu, batch_size=64, epochs=5, optimizer=sgd; total time=   1.2s\n",
      "[CV] END activation=relu, batch_size=64, epochs=5, optimizer=sgd; total time=   1.0s\n",
      "[CV] END activation=relu, batch_size=64, epochs=5, optimizer=sgd; total time=   1.3s\n",
      "[CV] END activation=relu, batch_size=64, epochs=10, optimizer=rmsprop; total time=   1.2s\n",
      "[CV] END activation=relu, batch_size=64, epochs=10, optimizer=rmsprop; total time=   1.3s\n",
      "[CV] END activation=relu, batch_size=64, epochs=10, optimizer=rmsprop; total time=   1.2s\n",
      "[CV] END activation=relu, batch_size=64, epochs=10, optimizer=adam; total time=   1.4s\n",
      "[CV] END activation=relu, batch_size=64, epochs=10, optimizer=adam; total time=   2.2s\n",
      "[CV] END activation=relu, batch_size=64, epochs=10, optimizer=adam; total time=   1.5s\n",
      "[CV] END activation=relu, batch_size=64, epochs=10, optimizer=sgd; total time=   1.3s\n",
      "[CV] END activation=relu, batch_size=64, epochs=10, optimizer=sgd; total time=   1.2s\n",
      "[CV] END activation=relu, batch_size=64, epochs=10, optimizer=sgd; total time=   1.3s\n",
      "[CV] END activation=relu, batch_size=64, epochs=25, optimizer=rmsprop; total time=   2.0s\n",
      "[CV] END activation=relu, batch_size=64, epochs=25, optimizer=rmsprop; total time=   2.0s\n",
      "[CV] END activation=relu, batch_size=64, epochs=25, optimizer=rmsprop; total time=   2.0s\n",
      "[CV] END activation=relu, batch_size=64, epochs=25, optimizer=adam; total time=   1.9s\n",
      "[CV] END activation=relu, batch_size=64, epochs=25, optimizer=adam; total time=   2.1s\n",
      "[CV] END activation=relu, batch_size=64, epochs=25, optimizer=adam; total time=   1.9s\n",
      "[CV] END activation=relu, batch_size=64, epochs=25, optimizer=sgd; total time=   1.8s\n",
      "[CV] END activation=relu, batch_size=64, epochs=25, optimizer=sgd; total time=   1.7s\n",
      "[CV] END activation=relu, batch_size=64, epochs=25, optimizer=sgd; total time=   1.7s\n",
      "[CV] END activation=sigmoid, batch_size=8, epochs=5, optimizer=rmsprop; total time=   2.0s\n",
      "[CV] END activation=sigmoid, batch_size=8, epochs=5, optimizer=rmsprop; total time=   2.6s\n",
      "[CV] END activation=sigmoid, batch_size=8, epochs=5, optimizer=rmsprop; total time=   2.1s\n",
      "[CV] END activation=sigmoid, batch_size=8, epochs=5, optimizer=adam; total time=   2.3s\n",
      "[CV] END activation=sigmoid, batch_size=8, epochs=5, optimizer=adam; total time=   1.7s\n",
      "[CV] END activation=sigmoid, batch_size=8, epochs=5, optimizer=adam; total time=   1.8s\n",
      "[CV] END activation=sigmoid, batch_size=8, epochs=5, optimizer=sgd; total time=   1.5s\n",
      "[CV] END activation=sigmoid, batch_size=8, epochs=5, optimizer=sgd; total time=   1.5s\n",
      "[CV] END activation=sigmoid, batch_size=8, epochs=5, optimizer=sgd; total time=   1.4s\n",
      "[CV] END activation=sigmoid, batch_size=8, epochs=10, optimizer=rmsprop; total time=   2.2s\n",
      "[CV] END activation=sigmoid, batch_size=8, epochs=10, optimizer=rmsprop; total time=   2.1s\n",
      "[CV] END activation=sigmoid, batch_size=8, epochs=10, optimizer=rmsprop; total time=   3.3s\n",
      "[CV] END activation=sigmoid, batch_size=8, epochs=10, optimizer=adam; total time=   3.5s\n",
      "[CV] END activation=sigmoid, batch_size=8, epochs=10, optimizer=adam; total time=   2.3s\n",
      "[CV] END activation=sigmoid, batch_size=8, epochs=10, optimizer=adam; total time=   2.3s\n",
      "[CV] END activation=sigmoid, batch_size=8, epochs=10, optimizer=sgd; total time=   2.1s\n",
      "[CV] END activation=sigmoid, batch_size=8, epochs=10, optimizer=sgd; total time=   2.0s\n",
      "[CV] END activation=sigmoid, batch_size=8, epochs=10, optimizer=sgd; total time=   2.9s\n",
      "[CV] END activation=sigmoid, batch_size=8, epochs=25, optimizer=rmsprop; total time=   4.3s\n",
      "[CV] END activation=sigmoid, batch_size=8, epochs=25, optimizer=rmsprop; total time=   5.9s\n",
      "[CV] END activation=sigmoid, batch_size=8, epochs=25, optimizer=rmsprop; total time=   4.1s\n",
      "[CV] END activation=sigmoid, batch_size=8, epochs=25, optimizer=adam; total time=   4.3s\n",
      "[CV] END activation=sigmoid, batch_size=8, epochs=25, optimizer=adam; total time=   4.3s\n",
      "[CV] END activation=sigmoid, batch_size=8, epochs=25, optimizer=adam; total time=   4.5s\n",
      "[CV] END activation=sigmoid, batch_size=8, epochs=25, optimizer=sgd; total time=   5.8s\n",
      "[CV] END activation=sigmoid, batch_size=8, epochs=25, optimizer=sgd; total time=   4.0s\n",
      "[CV] END activation=sigmoid, batch_size=8, epochs=25, optimizer=sgd; total time=   3.8s\n",
      "[CV] END activation=sigmoid, batch_size=16, epochs=5, optimizer=rmsprop; total time=   1.3s\n",
      "[CV] END activation=sigmoid, batch_size=16, epochs=5, optimizer=rmsprop; total time=   1.2s\n",
      "[CV] END activation=sigmoid, batch_size=16, epochs=5, optimizer=rmsprop; total time=   1.3s\n",
      "[CV] END activation=sigmoid, batch_size=16, epochs=5, optimizer=adam; total time=   1.3s\n",
      "[CV] END activation=sigmoid, batch_size=16, epochs=5, optimizer=adam; total time=   1.5s\n",
      "[CV] END activation=sigmoid, batch_size=16, epochs=5, optimizer=adam; total time=   2.2s\n",
      "[CV] END activation=sigmoid, batch_size=16, epochs=5, optimizer=sgd; total time=   1.3s\n",
      "[CV] END activation=sigmoid, batch_size=16, epochs=5, optimizer=sgd; total time=   1.2s\n",
      "[CV] END activation=sigmoid, batch_size=16, epochs=5, optimizer=sgd; total time=   1.2s\n",
      "[CV] END activation=sigmoid, batch_size=16, epochs=10, optimizer=rmsprop; total time=   1.6s\n",
      "[CV] END activation=sigmoid, batch_size=16, epochs=10, optimizer=rmsprop; total time=   1.6s\n",
      "[CV] END activation=sigmoid, batch_size=16, epochs=10, optimizer=rmsprop; total time=   1.8s\n",
      "[CV] END activation=sigmoid, batch_size=16, epochs=10, optimizer=adam; total time=   2.1s\n",
      "[CV] END activation=sigmoid, batch_size=16, epochs=10, optimizer=adam; total time=   1.7s\n",
      "[CV] END activation=sigmoid, batch_size=16, epochs=10, optimizer=adam; total time=   1.8s\n",
      "[CV] END activation=sigmoid, batch_size=16, epochs=10, optimizer=sgd; total time=   1.5s\n",
      "[CV] END activation=sigmoid, batch_size=16, epochs=10, optimizer=sgd; total time=   1.5s\n",
      "[CV] END activation=sigmoid, batch_size=16, epochs=10, optimizer=sgd; total time=   1.5s\n",
      "[CV] END activation=sigmoid, batch_size=16, epochs=25, optimizer=rmsprop; total time=   3.2s\n",
      "[CV] END activation=sigmoid, batch_size=16, epochs=25, optimizer=rmsprop; total time=   2.7s\n",
      "[CV] END activation=sigmoid, batch_size=16, epochs=25, optimizer=rmsprop; total time=   2.6s\n",
      "[CV] END activation=sigmoid, batch_size=16, epochs=25, optimizer=adam; total time=   3.8s\n",
      "[CV] END activation=sigmoid, batch_size=16, epochs=25, optimizer=adam; total time=   3.1s\n",
      "[CV] END activation=sigmoid, batch_size=16, epochs=25, optimizer=adam; total time=   3.0s\n",
      "[CV] END activation=sigmoid, batch_size=16, epochs=25, optimizer=sgd; total time=   2.8s\n",
      "[CV] END activation=sigmoid, batch_size=16, epochs=25, optimizer=sgd; total time=   3.2s\n",
      "[CV] END activation=sigmoid, batch_size=16, epochs=25, optimizer=sgd; total time=   3.2s\n",
      "[CV] END activation=sigmoid, batch_size=64, epochs=5, optimizer=rmsprop; total time=   1.0s\n",
      "[CV] END activation=sigmoid, batch_size=64, epochs=5, optimizer=rmsprop; total time=   1.0s\n",
      "[CV] END activation=sigmoid, batch_size=64, epochs=5, optimizer=rmsprop; total time=   1.3s\n",
      "[CV] END activation=sigmoid, batch_size=64, epochs=5, optimizer=adam; total time=   1.2s\n",
      "[CV] END activation=sigmoid, batch_size=64, epochs=5, optimizer=adam; total time=   1.1s\n",
      "[CV] END activation=sigmoid, batch_size=64, epochs=5, optimizer=adam; total time=   1.4s\n",
      "[CV] END activation=sigmoid, batch_size=64, epochs=5, optimizer=sgd; total time=   1.2s\n",
      "[CV] END activation=sigmoid, batch_size=64, epochs=5, optimizer=sgd; total time=   0.9s\n",
      "[CV] END activation=sigmoid, batch_size=64, epochs=5, optimizer=sgd; total time=   1.0s\n",
      "[CV] END activation=sigmoid, batch_size=64, epochs=10, optimizer=rmsprop; total time=   2.1s\n",
      "[CV] END activation=sigmoid, batch_size=64, epochs=10, optimizer=rmsprop; total time=   1.4s\n",
      "[CV] END activation=sigmoid, batch_size=64, epochs=10, optimizer=rmsprop; total time=   1.3s\n",
      "[CV] END activation=sigmoid, batch_size=64, epochs=10, optimizer=adam; total time=   1.5s\n",
      "[CV] END activation=sigmoid, batch_size=64, epochs=10, optimizer=adam; total time=   1.4s\n",
      "[CV] END activation=sigmoid, batch_size=64, epochs=10, optimizer=adam; total time=   1.4s\n",
      "[CV] END activation=sigmoid, batch_size=64, epochs=10, optimizer=sgd; total time=   1.2s\n",
      "[CV] END activation=sigmoid, batch_size=64, epochs=10, optimizer=sgd; total time=   1.2s\n",
      "[CV] END activation=sigmoid, batch_size=64, epochs=10, optimizer=sgd; total time=   1.2s\n",
      "[CV] END activation=sigmoid, batch_size=64, epochs=25, optimizer=rmsprop; total time=   1.9s\n",
      "[CV] END activation=sigmoid, batch_size=64, epochs=25, optimizer=rmsprop; total time=   1.8s\n",
      "[CV] END activation=sigmoid, batch_size=64, epochs=25, optimizer=rmsprop; total time=   1.9s\n",
      "[CV] END activation=sigmoid, batch_size=64, epochs=25, optimizer=adam; total time=   2.0s\n",
      "[CV] END activation=sigmoid, batch_size=64, epochs=25, optimizer=adam; total time=   1.9s\n",
      "[CV] END activation=sigmoid, batch_size=64, epochs=25, optimizer=adam; total time=   1.9s\n",
      "[CV] END activation=sigmoid, batch_size=64, epochs=25, optimizer=sgd; total time=   2.6s\n",
      "[CV] END activation=sigmoid, batch_size=64, epochs=25, optimizer=sgd; total time=   2.0s\n",
      "[CV] END activation=sigmoid, batch_size=64, epochs=25, optimizer=sgd; total time=   1.9s\n"
     ]
    }
   ],
   "source": [
    "grid_result = grid.fit(X_train_scaled, dummy_y_train)"
   ]
  },
  {
   "cell_type": "code",
   "execution_count": 19,
   "id": "cd3ab9a0",
   "metadata": {
    "execution": {
     "iopub.execute_input": "2023-04-24T02:18:20.050591Z",
     "iopub.status.busy": "2023-04-24T02:18:20.049705Z",
     "iopub.status.idle": "2023-04-24T02:18:20.055527Z",
     "shell.execute_reply": "2023-04-24T02:18:20.054699Z"
    },
    "papermill": {
     "duration": 0.030573,
     "end_time": "2023-04-24T02:18:20.057427",
     "exception": false,
     "start_time": "2023-04-24T02:18:20.026854",
     "status": "completed"
    },
    "tags": []
   },
   "outputs": [
    {
     "data": {
      "text/plain": [
       "{'activation': 'tanh', 'batch_size': 8, 'epochs': 25, 'optimizer': 'adam'}"
      ]
     },
     "execution_count": 19,
     "metadata": {},
     "output_type": "execute_result"
    }
   ],
   "source": [
    "grid_result.best_params_"
   ]
  },
  {
   "cell_type": "code",
   "execution_count": 20,
   "id": "123c457f",
   "metadata": {
    "execution": {
     "iopub.execute_input": "2023-04-24T02:18:20.102096Z",
     "iopub.status.busy": "2023-04-24T02:18:20.101248Z",
     "iopub.status.idle": "2023-04-24T02:18:20.106344Z",
     "shell.execute_reply": "2023-04-24T02:18:20.105692Z"
    },
    "papermill": {
     "duration": 0.029169,
     "end_time": "2023-04-24T02:18:20.108111",
     "exception": false,
     "start_time": "2023-04-24T02:18:20.078942",
     "status": "completed"
    },
    "tags": []
   },
   "outputs": [
    {
     "data": {
      "text/plain": [
       "0.898124098777771"
      ]
     },
     "execution_count": 20,
     "metadata": {},
     "output_type": "execute_result"
    }
   ],
   "source": [
    "grid_result.best_score_"
   ]
  }
 ],
 "metadata": {
  "kernelspec": {
   "display_name": "Python 3 (ipykernel)",
   "language": "python",
   "name": "python3"
  },
  "language_info": {
   "codemirror_mode": {
    "name": "ipython",
    "version": 3
   },
   "file_extension": ".py",
   "mimetype": "text/x-python",
   "name": "python",
   "nbconvert_exporter": "python",
   "pygments_lexer": "ipython3",
   "version": "3.9.7"
  },
  "papermill": {
   "default_parameters": {},
   "duration": 588.854546,
   "end_time": "2023-04-24T02:18:23.050275",
   "environment_variables": {},
   "exception": null,
   "input_path": "__notebook__.ipynb",
   "output_path": "__notebook__.ipynb",
   "parameters": {},
   "start_time": "2023-04-24T02:08:34.195729",
   "version": "2.4.0"
  }
 },
 "nbformat": 4,
 "nbformat_minor": 5
}
