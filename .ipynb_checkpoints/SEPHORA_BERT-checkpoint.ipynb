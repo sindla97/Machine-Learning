{
 "cells": [
  {
   "cell_type": "code",
   "execution_count": 1,
   "id": "1e07aad8-155e-4a41-9420-161b7ac6d044",
   "metadata": {},
   "outputs": [
    {
     "name": "stderr",
     "output_type": "stream",
     "text": [
      "C:\\Users\\shanm\\AppData\\Local\\Temp\\ipykernel_2272\\2129287977.py:1: DeprecationWarning: \n",
      "Pyarrow will become a required dependency of pandas in the next major release of pandas (pandas 3.0),\n",
      "(to allow more performant data types, such as the Arrow string type, and better interoperability with other libraries)\n",
      "but was not found to be installed on your system.\n",
      "If this would cause problems for you,\n",
      "please provide us feedback at https://github.com/pandas-dev/pandas/issues/54466\n",
      "        \n",
      "  import pandas as pd\n"
     ]
    },
    {
     "name": "stdout",
     "output_type": "stream",
     "text": [
      "WARNING:tensorflow:From C:\\Users\\shanm\\AppData\\Roaming\\Python\\Python311\\site-packages\\keras\\src\\losses.py:2976: The name tf.losses.sparse_softmax_cross_entropy is deprecated. Please use tf.compat.v1.losses.sparse_softmax_cross_entropy instead.\n",
      "\n"
     ]
    }
   ],
   "source": [
    "import pandas as pd\n",
    "import numpy as np\n",
    "import tensorflow as tf"
   ]
  },
  {
   "cell_type": "code",
   "execution_count": 2,
   "id": "2ceeb655-bc62-49c4-b9b4-a1f9396fd7c9",
   "metadata": {},
   "outputs": [],
   "source": [
    "reviews_sample= pd.read_csv(r\"C:\\Users\\shanm\\OneDrive\\Desktop\\Hemanth\\Git_data\\Sephora_sample\\X_reviews_sample.csv\",low_memory =True)\n",
    "reviews_sample=reviews_sample.head(1000)"
   ]
  },
  {
   "cell_type": "code",
   "execution_count": 3,
   "id": "5fd60e63-85e4-47da-ac2f-45806e21054e",
   "metadata": {},
   "outputs": [],
   "source": [
    "from transformers import BertTokenizerFast, TFBertModel,BatchEncoding,TFBertEmbeddings,BertConfig"
   ]
  },
  {
   "cell_type": "code",
   "execution_count": 4,
   "id": "7c61b24b-1766-4e9f-90e3-18ff37a7814f",
   "metadata": {},
   "outputs": [],
   "source": [
    "tokenize= BertTokenizerFast.from_pretrained('bert-base-uncased')"
   ]
  },
  {
   "cell_type": "code",
   "execution_count": 5,
   "id": "7e185084-d328-499b-8acb-5dadaea0b183",
   "metadata": {},
   "outputs": [],
   "source": [
    "encoded_dict=tokenize([x for x in reviews_sample.clean_text],max_length=60,padding='max_length',truncation=True,return_tensors='tf')"
   ]
  },
  {
   "cell_type": "code",
   "execution_count": 6,
   "id": "8e7723dd-207e-416c-8a35-46d341df9080",
   "metadata": {},
   "outputs": [
    {
     "data": {
      "text/plain": [
       "['[CLS]',\n",
       " 'hi',\n",
       " '!',\n",
       " 'w',\n",
       " '##le',\n",
       " '##com',\n",
       " '##e',\n",
       " 'to',\n",
       " 'the',\n",
       " 'world',\n",
       " '[SEP]']"
      ]
     },
     "execution_count": 6,
     "metadata": {},
     "output_type": "execute_result"
    }
   ],
   "source": [
    "tokenize.convert_ids_to_tokens(tokenize('Hi! wlecome to the world')['input_ids'])"
   ]
  },
  {
   "cell_type": "code",
   "execution_count": 7,
   "id": "09ed2f34-97bd-469b-ac1b-8f646e580471",
   "metadata": {},
   "outputs": [
    {
     "data": {
      "text/plain": [
       "(1000, 60)"
      ]
     },
     "execution_count": 7,
     "metadata": {},
     "output_type": "execute_result"
    }
   ],
   "source": [
    "np.array(encoded_dict['input_ids']).shape"
   ]
  },
  {
   "cell_type": "code",
   "execution_count": 8,
   "id": "50f1ef6f-5ab9-4ea2-9a49-6c4ea1b062ee",
   "metadata": {},
   "outputs": [
    {
     "data": {
      "text/plain": [
       "(60, 60)"
      ]
     },
     "execution_count": 8,
     "metadata": {},
     "output_type": "execute_result"
    }
   ],
   "source": [
    "len(encoded_dict['input_ids'][0]),len(encoded_dict['input_ids'][1])"
   ]
  },
  {
   "cell_type": "code",
   "execution_count": 9,
   "id": "d413e92b-71d2-40fa-b2c1-a6e3f3377c43",
   "metadata": {},
   "outputs": [
    {
     "name": "stdout",
     "output_type": "stream",
     "text": [
      "WARNING:tensorflow:From C:\\Users\\shanm\\AppData\\Roaming\\Python\\Python311\\site-packages\\keras\\src\\backend.py:873: The name tf.get_default_graph is deprecated. Please use tf.compat.v1.get_default_graph instead.\n",
      "\n"
     ]
    },
    {
     "name": "stderr",
     "output_type": "stream",
     "text": [
      "Some weights of the PyTorch model were not used when initializing the TF 2.0 model TFBertModel: ['cls.predictions.transform.LayerNorm.weight', 'cls.seq_relationship.weight', 'cls.seq_relationship.bias', 'cls.predictions.transform.dense.bias', 'cls.predictions.transform.dense.weight', 'cls.predictions.transform.LayerNorm.bias', 'cls.predictions.bias']\n",
      "- This IS expected if you are initializing TFBertModel from a PyTorch model trained on another task or with another architecture (e.g. initializing a TFBertForSequenceClassification model from a BertForPreTraining model).\n",
      "- This IS NOT expected if you are initializing TFBertModel from a PyTorch model that you expect to be exactly identical (e.g. initializing a TFBertForSequenceClassification model from a BertForSequenceClassification model).\n",
      "All the weights of TFBertModel were initialized from the PyTorch model.\n",
      "If your task is similar to the task the model of the checkpoint was trained on, you can already use TFBertModel for predictions without further training.\n"
     ]
    }
   ],
   "source": [
    "model=TFBertModel.from_pretrained('bert-base-uncased')\n",
    "output_embedding=model(encoded_dict['input_ids'],encoded_dict['attention_mask'])"
   ]
  },
  {
   "cell_type": "code",
   "execution_count": 10,
   "id": "c7ee1f6e-e7ff-4490-842f-0e8ec81ac47d",
   "metadata": {},
   "outputs": [],
   "source": [
    "from sklearn.preprocessing import LabelEncoder\n",
    "le = LabelEncoder() # encoding\n",
    "y_label= le.fit_transform(reviews_sample.label)"
   ]
  },
  {
   "cell_type": "code",
   "execution_count": 11,
   "id": "9e64113f-f7f9-4fd5-895b-b21b3472dfbb",
   "metadata": {},
   "outputs": [
    {
     "name": "stdout",
     "output_type": "stream",
     "text": [
      "WARNING:tensorflow:From C:\\Users\\shanm\\AppData\\Roaming\\Python\\Python311\\site-packages\\keras\\src\\optimizers\\__init__.py:309: The name tf.train.Optimizer is deprecated. Please use tf.compat.v1.train.Optimizer instead.\n",
      "\n"
     ]
    }
   ],
   "source": [
    "from tensorflow.keras.models import Sequential\n",
    "from tensorflow.keras.layers import Embedding, Bidirectional, Dropout,Dense\n",
    "from tensorflow.keras.optimizers import Adam\n",
    "model = Sequential()\n",
    "# model.add(Embedding(max_features,64,input_length = 200))\n",
    "# model.add(Bidirectional(LSTM(12, return_sequences = True), input_shape=(200, 64)))\n",
    "# model.add(Bidirectional(LSTM(20),input_shape=(200, 12)))\n",
    "model.add(Dense(768, activation='relu'))\n",
    "model.add(Dropout(0.2))\n",
    "model.add(Dense(np.round(768/4), activation='relu'))\n",
    "model.add(Dropout(0.2))\n",
    "model.add(Dense(np.round(768/8), activation='relu'))\n",
    "model.add(Dropout(0.2))\n",
    "model.add(Dense(1, activation='sigmoid'))\n",
    "model.compile(loss='binary_crossentropy',optimizer='Adam',metrics=['accuracy'])\n"
   ]
  },
  {
   "cell_type": "code",
   "execution_count": 12,
   "id": "ea58b0f1-8834-41c6-9800-cfacbe373c19",
   "metadata": {},
   "outputs": [
    {
     "name": "stdout",
     "output_type": "stream",
     "text": [
      "Epoch 1/5\n",
      "WARNING:tensorflow:From C:\\Users\\shanm\\AppData\\Roaming\\Python\\Python311\\site-packages\\keras\\src\\utils\\tf_utils.py:492: The name tf.ragged.RaggedTensorValue is deprecated. Please use tf.compat.v1.ragged.RaggedTensorValue instead.\n",
      "\n",
      "WARNING:tensorflow:From C:\\Users\\shanm\\AppData\\Roaming\\Python\\Python311\\site-packages\\keras\\src\\engine\\base_layer_utils.py:384: The name tf.executing_eagerly_outside_functions is deprecated. Please use tf.compat.v1.executing_eagerly_outside_functions instead.\n",
      "\n",
      "32/32 [==============================] - 2s 12ms/step - loss: 0.7350 - accuracy: 0.5020\n",
      "Epoch 2/5\n",
      "32/32 [==============================] - 0s 11ms/step - loss: 0.7136 - accuracy: 0.5240\n",
      "Epoch 3/5\n",
      "32/32 [==============================] - 0s 10ms/step - loss: 0.7034 - accuracy: 0.5160\n",
      "Epoch 4/5\n",
      "32/32 [==============================] - 0s 13ms/step - loss: 0.6768 - accuracy: 0.5570\n",
      "Epoch 5/5\n",
      "32/32 [==============================] - 0s 12ms/step - loss: 0.6846 - accuracy: 0.5630\n"
     ]
    },
    {
     "data": {
      "text/plain": [
       "<keras.src.callbacks.History at 0x230d8fc8f10>"
      ]
     },
     "execution_count": 12,
     "metadata": {},
     "output_type": "execute_result"
    }
   ],
   "source": [
    "model.fit(output_embedding.pooler_output,y_label, epochs = 5)"
   ]
  },
  {
   "cell_type": "code",
   "execution_count": 13,
   "id": "be70df0e-a757-4eba-9783-43329471fc69",
   "metadata": {},
   "outputs": [
    {
     "name": "stdout",
     "output_type": "stream",
     "text": [
      "Model: \"sequential\"\n",
      "_________________________________________________________________\n",
      " Layer (type)                Output Shape              Param #   \n",
      "=================================================================\n",
      " dense (Dense)               (None, 768)               590592    \n",
      "                                                                 \n",
      " dropout_37 (Dropout)        (None, 768)               0         \n",
      "                                                                 \n",
      " dense_1 (Dense)             (None, 192)               147648    \n",
      "                                                                 \n",
      " dropout_38 (Dropout)        (None, 192)               0         \n",
      "                                                                 \n",
      " dense_2 (Dense)             (None, 96)                18528     \n",
      "                                                                 \n",
      " dropout_39 (Dropout)        (None, 96)                0         \n",
      "                                                                 \n",
      " dense_3 (Dense)             (None, 1)                 97        \n",
      "                                                                 \n",
      "=================================================================\n",
      "Total params: 756865 (2.89 MB)\n",
      "Trainable params: 756865 (2.89 MB)\n",
      "Non-trainable params: 0 (0.00 Byte)\n",
      "_________________________________________________________________\n"
     ]
    }
   ],
   "source": [
    "model.summary()"
   ]
  }
 ],
 "metadata": {
  "kernelspec": {
   "display_name": "Python 3 (ipykernel)",
   "language": "python",
   "name": "python3"
  },
  "language_info": {
   "codemirror_mode": {
    "name": "ipython",
    "version": 3
   },
   "file_extension": ".py",
   "mimetype": "text/x-python",
   "name": "python",
   "nbconvert_exporter": "python",
   "pygments_lexer": "ipython3",
   "version": "3.11.1"
  }
 },
 "nbformat": 4,
 "nbformat_minor": 5
}
