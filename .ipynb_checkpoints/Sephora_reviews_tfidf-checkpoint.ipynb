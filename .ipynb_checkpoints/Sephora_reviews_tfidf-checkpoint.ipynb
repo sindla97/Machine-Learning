{
 "cells": [
  {
   "cell_type": "code",
   "execution_count": 1,
   "id": "6feb6759",
   "metadata": {},
   "outputs": [],
   "source": [
    "import pandas as pd\n",
    "import numpy as np\n"
   ]
  },
  {
   "cell_type": "code",
   "execution_count": 2,
   "id": "26131e7d",
   "metadata": {},
   "outputs": [
    {
     "data": {
      "text/html": [
       "<div>\n",
       "<style scoped>\n",
       "    .dataframe tbody tr th:only-of-type {\n",
       "        vertical-align: middle;\n",
       "    }\n",
       "\n",
       "    .dataframe tbody tr th {\n",
       "        vertical-align: top;\n",
       "    }\n",
       "\n",
       "    .dataframe thead th {\n",
       "        text-align: right;\n",
       "    }\n",
       "</style>\n",
       "<table border=\"1\" class=\"dataframe\">\n",
       "  <thead>\n",
       "    <tr style=\"text-align: right;\">\n",
       "      <th></th>\n",
       "      <th>Unnamed: 0</th>\n",
       "      <th>review_text</th>\n",
       "      <th>label</th>\n",
       "      <th>rating</th>\n",
       "      <th>text_word_count</th>\n",
       "      <th>clean_text</th>\n",
       "      <th>tokenized_text</th>\n",
       "      <th>tokenized_text_2</th>\n",
       "    </tr>\n",
       "  </thead>\n",
       "  <tbody>\n",
       "    <tr>\n",
       "      <th>0</th>\n",
       "      <td>0</td>\n",
       "      <td>This did nothing for my lips. It smells great ...</td>\n",
       "      <td>0.0</td>\n",
       "      <td>2</td>\n",
       "      <td>24</td>\n",
       "      <td>this did nothing for my lips it smells great b...</td>\n",
       "      <td>['noth', 'lip', 'smell', 'great', 'make', 'lip...</td>\n",
       "      <td>noth lip smell great make lip smoother use two...</td>\n",
       "    </tr>\n",
       "    <tr>\n",
       "      <th>1</th>\n",
       "      <td>1</td>\n",
       "      <td>I first tried the original formulation a coupl...</td>\n",
       "      <td>0.0</td>\n",
       "      <td>2</td>\n",
       "      <td>84</td>\n",
       "      <td>i first tried the original formulation a coupl...</td>\n",
       "      <td>['first', 'tri', 'origin', 'formul', 'coupl', ...</td>\n",
       "      <td>first tri origin formul coupl time sampl fell ...</td>\n",
       "    </tr>\n",
       "    <tr>\n",
       "      <th>2</th>\n",
       "      <td>2</td>\n",
       "      <td>Did absolutely nothing. Tried multiple times t...</td>\n",
       "      <td>0.0</td>\n",
       "      <td>1</td>\n",
       "      <td>24</td>\n",
       "      <td>did absolutely nothing tried multiple times to...</td>\n",
       "      <td>['absolut', 'noth', 'tri', 'multipl', 'time', ...</td>\n",
       "      <td>absolut noth tri multipl time give chanc anyth...</td>\n",
       "    </tr>\n",
       "    <tr>\n",
       "      <th>3</th>\n",
       "      <td>3</td>\n",
       "      <td>Feels nice, does nothing. Very disappointed wi...</td>\n",
       "      <td>0.0</td>\n",
       "      <td>2</td>\n",
       "      <td>29</td>\n",
       "      <td>feels nice does nothing very disappointed with...</td>\n",
       "      <td>['feel', 'nice', 'noth', 'disappoint', 'super'...</td>\n",
       "      <td>feel nice noth disappoint super expens water f...</td>\n",
       "    </tr>\n",
       "    <tr>\n",
       "      <th>4</th>\n",
       "      <td>4</td>\n",
       "      <td>This is literally the best makeup remover. Doe...</td>\n",
       "      <td>1.0</td>\n",
       "      <td>5</td>\n",
       "      <td>12</td>\n",
       "      <td>this is literally the best makeup remover does...</td>\n",
       "      <td>['liter', 'best', 'makeup', 'remov', '’', 'giv...</td>\n",
       "      <td>liter best makeup remov ’ give acn</td>\n",
       "    </tr>\n",
       "  </tbody>\n",
       "</table>\n",
       "</div>"
      ],
      "text/plain": [
       "   Unnamed: 0                                        review_text  label  \\\n",
       "0           0  This did nothing for my lips. It smells great ...    0.0   \n",
       "1           1  I first tried the original formulation a coupl...    0.0   \n",
       "2           2  Did absolutely nothing. Tried multiple times t...    0.0   \n",
       "3           3  Feels nice, does nothing. Very disappointed wi...    0.0   \n",
       "4           4  This is literally the best makeup remover. Doe...    1.0   \n",
       "\n",
       "   rating  text_word_count                                         clean_text  \\\n",
       "0       2               24  this did nothing for my lips it smells great b...   \n",
       "1       2               84  i first tried the original formulation a coupl...   \n",
       "2       1               24  did absolutely nothing tried multiple times to...   \n",
       "3       2               29  feels nice does nothing very disappointed with...   \n",
       "4       5               12  this is literally the best makeup remover does...   \n",
       "\n",
       "                                      tokenized_text  \\\n",
       "0  ['noth', 'lip', 'smell', 'great', 'make', 'lip...   \n",
       "1  ['first', 'tri', 'origin', 'formul', 'coupl', ...   \n",
       "2  ['absolut', 'noth', 'tri', 'multipl', 'time', ...   \n",
       "3  ['feel', 'nice', 'noth', 'disappoint', 'super'...   \n",
       "4  ['liter', 'best', 'makeup', 'remov', '’', 'giv...   \n",
       "\n",
       "                                    tokenized_text_2  \n",
       "0  noth lip smell great make lip smoother use two...  \n",
       "1  first tri origin formul coupl time sampl fell ...  \n",
       "2  absolut noth tri multipl time give chanc anyth...  \n",
       "3  feel nice noth disappoint super expens water f...  \n",
       "4                 liter best makeup remov ’ give acn  "
      ]
     },
     "execution_count": 2,
     "metadata": {},
     "output_type": "execute_result"
    }
   ],
   "source": [
    "reviews_sample= pd.read_csv(r'C:\\Users\\shanm\\OneDrive\\Desktop\\Machine-Learning\\Data\\Sephora_sample\\X_reviews_sample.csv')\n",
    "reviews_sample.head()"
   ]
  },
  {
   "cell_type": "code",
   "execution_count": 3,
   "id": "a1a02de0",
   "metadata": {},
   "outputs": [],
   "source": [
    "X= reviews_sample['tokenized_text_2']\n",
    "y = reviews_sample['label'] "
   ]
  },
  {
   "cell_type": "code",
   "execution_count": 4,
   "id": "3c00159b",
   "metadata": {},
   "outputs": [],
   "source": [
    "from sklearn.model_selection import train_test_split\n",
    "\n",
    "# Split the data into train and test sets\n",
    "X_train, X_test, y_train, y_test = train_test_split(X, y, test_size=0.80)"
   ]
  },
  {
   "cell_type": "code",
   "execution_count": 5,
   "id": "cac6c58e",
   "metadata": {},
   "outputs": [],
   "source": [
    "from sklearn.preprocessing import LabelEncoder\n",
    "le = LabelEncoder() # encoding\n",
    "y_train_label= le.fit_transform(y_train)\n",
    "y_test_label= le.transform(y_test)"
   ]
  },
  {
   "cell_type": "code",
   "execution_count": 6,
   "id": "09b04c00",
   "metadata": {},
   "outputs": [],
   "source": [
    "from sklearn.feature_extraction.text import TfidfVectorizer\n",
    "vec = TfidfVectorizer(stop_words=\"english\", analyzer='word', \n",
    "                            ngram_range=(1, 1), max_df=1.0, min_df=1, max_features=15000)\n",
    "vec.fit(X_train)\n",
    "x_train=vec.transform(X_train)\n",
    "x_test=vec.transform(X_test)"
   ]
  },
  {
   "cell_type": "code",
   "execution_count": 7,
   "id": "36713f61",
   "metadata": {},
   "outputs": [
    {
     "data": {
      "text/plain": [
       "array([[0., 0., 0., ..., 0., 0., 0.]])"
      ]
     },
     "execution_count": 7,
     "metadata": {},
     "output_type": "execute_result"
    }
   ],
   "source": [
    "vec.transform(['happi hear work other hand oili complexion']).toarray()"
   ]
  },
  {
   "cell_type": "code",
   "execution_count": 23,
   "id": "d930a300",
   "metadata": {},
   "outputs": [
    {
     "data": {
      "text/plain": [
       "array(['aa', 'aaaaahmaz', 'aaaaamaz', ..., 'été', 'être', '좋다'],\n",
       "      dtype=object)"
      ]
     },
     "execution_count": 23,
     "metadata": {},
     "output_type": "execute_result"
    }
   ],
   "source": [
    "vec.get_feature_names_out()"
   ]
  },
  {
   "cell_type": "code",
   "execution_count": 9,
   "id": "76c69910",
   "metadata": {},
   "outputs": [],
   "source": [
    " x_train = x_train.toarray()"
   ]
  },
  {
   "cell_type": "code",
   "execution_count": 10,
   "id": "d6c2e280",
   "metadata": {},
   "outputs": [
    {
     "data": {
      "text/plain": [
       "array([0., 0., 0., ..., 0., 0., 0.])"
      ]
     },
     "execution_count": 10,
     "metadata": {},
     "output_type": "execute_result"
    }
   ],
   "source": [
    "x_train[25][:-2]"
   ]
  },
  {
   "cell_type": "code",
   "execution_count": 11,
   "id": "d7aacc45",
   "metadata": {},
   "outputs": [
    {
     "name": "stdout",
     "output_type": "stream",
     "text": [
      "Model: \"sequential\"\n",
      "_________________________________________________________________\n",
      " Layer (type)                Output Shape              Param #   \n",
      "=================================================================\n",
      " dense (Dense)               (None, 50)                750050    \n",
      "                                                                 \n",
      " dense_1 (Dense)             (None, 25)                1275      \n",
      "                                                                 \n",
      " dense_2 (Dense)             (None, 1)                 26        \n",
      "                                                                 \n",
      "=================================================================\n",
      "Total params: 751,351\n",
      "Trainable params: 751,351\n",
      "Non-trainable params: 0\n",
      "_________________________________________________________________\n"
     ]
    }
   ],
   "source": [
    "from tensorflow.keras.models import Sequential\n",
    "from tensorflow.keras.layers import Dense\n",
    "from tensorflow.keras.optimizers import Adam\n",
    "model = Sequential()\n",
    "model.add(Dense(50, input_dim=x_train.shape[1], activation='relu'))\n",
    "model.add(Dense(25, activation='relu'))\n",
    "model.add(Dense(1, activation='sigmoid'))\n",
    "model.compile(loss='binary_crossentropy',optimizer='Adam',metrics=['accuracy'])\n",
    "model.summary()"
   ]
  },
  {
   "cell_type": "code",
   "execution_count": 12,
   "id": "59a03a92",
   "metadata": {},
   "outputs": [
    {
     "name": "stdout",
     "output_type": "stream",
     "text": [
      "Epoch 1/10\n",
      "10/10 [==============================] - 2s 78ms/step - loss: 0.6867 - accuracy: 0.7135\n",
      "Epoch 2/10\n",
      "10/10 [==============================] - 1s 74ms/step - loss: 0.6566 - accuracy: 0.8128\n",
      "Epoch 3/10\n",
      "10/10 [==============================] - 1s 74ms/step - loss: 0.6115 - accuracy: 0.8368\n",
      "Epoch 4/10\n",
      "10/10 [==============================] - 1s 72ms/step - loss: 0.5541 - accuracy: 0.8482\n",
      "Epoch 5/10\n",
      "10/10 [==============================] - 1s 76ms/step - loss: 0.4897 - accuracy: 0.8635\n",
      "Epoch 6/10\n",
      "10/10 [==============================] - 1s 75ms/step - loss: 0.4266 - accuracy: 0.8722\n",
      "Epoch 7/10\n",
      "10/10 [==============================] - 1s 74ms/step - loss: 0.3720 - accuracy: 0.8805\n",
      "Epoch 8/10\n",
      "10/10 [==============================] - 1s 74ms/step - loss: 0.3296 - accuracy: 0.8874\n",
      "Epoch 9/10\n",
      "10/10 [==============================] - 1s 76ms/step - loss: 0.2985 - accuracy: 0.8937\n",
      "Epoch 10/10\n",
      "10/10 [==============================] - 1s 66ms/step - loss: 0.2758 - accuracy: 0.9000\n"
     ]
    },
    {
     "data": {
      "text/plain": [
       "<keras.callbacks.History at 0x28b3ac4f070>"
      ]
     },
     "execution_count": 12,
     "metadata": {},
     "output_type": "execute_result"
    }
   ],
   "source": [
    "model.fit(x_train,y_train_label,epochs=10,steps_per_epoch=10)"
   ]
  },
  {
   "cell_type": "code",
   "execution_count": 24,
   "id": "6e8ccd39",
   "metadata": {},
   "outputs": [
    {
     "data": {
      "text/plain": [
       "array([[0.39144894]], dtype=float32)"
      ]
     },
     "execution_count": 24,
     "metadata": {},
     "output_type": "execute_result"
    }
   ],
   "source": [
    "model.predict(vec.transform(['happi hear work other hand oili complexion']).toarray())"
   ]
  },
  {
   "cell_type": "code",
   "execution_count": null,
   "id": "19c895d8",
   "metadata": {},
   "outputs": [],
   "source": []
  }
 ],
 "metadata": {
  "kernelspec": {
   "display_name": "Python 3 (ipykernel)",
   "language": "python",
   "name": "python3"
  },
  "language_info": {
   "codemirror_mode": {
    "name": "ipython",
    "version": 3
   },
   "file_extension": ".py",
   "mimetype": "text/x-python",
   "name": "python",
   "nbconvert_exporter": "python",
   "pygments_lexer": "ipython3",
   "version": "3.9.7"
  }
 },
 "nbformat": 4,
 "nbformat_minor": 5
}
