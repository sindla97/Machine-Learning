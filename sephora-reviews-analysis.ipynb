{
 "cells": [
  {
   "cell_type": "code",
   "execution_count": 1,
   "id": "cf0c3465",
   "metadata": {
    "_cell_guid": "b1076dfc-b9ad-4769-8c92-a6c4dae69d19",
    "_uuid": "8f2839f25d086af736a60e9eeb907d3b93b6e0e5",
    "execution": {
     "iopub.execute_input": "2023-05-07T00:07:54.550434Z",
     "iopub.status.busy": "2023-05-07T00:07:54.549947Z",
     "iopub.status.idle": "2023-05-07T00:07:54.573888Z",
     "shell.execute_reply": "2023-05-07T00:07:54.572373Z"
    },
    "papermill": {
     "duration": 0.031957,
     "end_time": "2023-05-07T00:07:54.576623",
     "exception": false,
     "start_time": "2023-05-07T00:07:54.544666",
     "status": "completed"
    },
    "tags": []
   },
   "outputs": [
    {
     "name": "stdout",
     "output_type": "stream",
     "text": [
      "/kaggle/input/sephora-products-and-skincare-reviews/product_info.csv\n",
      "/kaggle/input/sephora-products-and-skincare-reviews/reviews_250_500.csv\n",
      "/kaggle/input/sephora-products-and-skincare-reviews/reviews_1500_end.csv\n",
      "/kaggle/input/sephora-products-and-skincare-reviews/reviews_1000_1500.csv\n",
      "/kaggle/input/sephora-products-and-skincare-reviews/reviews_500_750.csv\n",
      "/kaggle/input/sephora-products-and-skincare-reviews/reviews_750_1000.csv\n",
      "/kaggle/input/sephora-products-and-skincare-reviews/reviews_0_250.csv\n"
     ]
    }
   ],
   "source": [
    "# This Python 3 environment comes with many helpful analytics libraries installed\n",
    "# It is defined by the kaggle/python Docker image: https://github.com/kaggle/docker-python\n",
    "# For example, here's several helpful packages to load\n",
    "\n",
    "import numpy as np # linear algebra\n",
    "import pandas as pd # data processing, CSV file I/O (e.g. pd.read_csv)\n",
    "\n",
    "# Input data files are available in the read-only \"../input/\" directory\n",
    "# For example, running this (by clicking run or pressing Shift+Enter) will list all files under the input directory\n",
    "\n",
    "import os\n",
    "for dirname, _, filenames in os.walk('/kaggle/input'):\n",
    "    for filename in filenames:\n",
    "        print(os.path.join(dirname, filename))\n",
    "\n",
    "# You can write up to 20GB to the current directory (/kaggle/working/) that gets preserved as output when you create a version using \"Save & Run All\" \n",
    "# You can also write temporary files to /kaggle/temp/, but they won't be saved outside of the current session"
   ]
  },
  {
   "cell_type": "code",
   "execution_count": 2,
   "id": "0bb3b86d",
   "metadata": {
    "execution": {
     "iopub.execute_input": "2023-05-07T00:07:54.584437Z",
     "iopub.status.busy": "2023-05-07T00:07:54.583974Z",
     "iopub.status.idle": "2023-05-07T00:07:54.903939Z",
     "shell.execute_reply": "2023-05-07T00:07:54.902499Z"
    },
    "papermill": {
     "duration": 0.328473,
     "end_time": "2023-05-07T00:07:54.908173",
     "exception": false,
     "start_time": "2023-05-07T00:07:54.579700",
     "status": "completed"
    },
    "tags": []
   },
   "outputs": [],
   "source": [
    "df_products = pd.read_csv('/kaggle/input/sephora-products-and-skincare-reviews/product_info.csv')"
   ]
  },
  {
   "cell_type": "code",
   "execution_count": 3,
   "id": "b20416db",
   "metadata": {
    "execution": {
     "iopub.execute_input": "2023-05-07T00:07:54.917048Z",
     "iopub.status.busy": "2023-05-07T00:07:54.916542Z",
     "iopub.status.idle": "2023-05-07T00:07:54.977740Z",
     "shell.execute_reply": "2023-05-07T00:07:54.976373Z"
    },
    "papermill": {
     "duration": 0.068325,
     "end_time": "2023-05-07T00:07:54.980042",
     "exception": false,
     "start_time": "2023-05-07T00:07:54.911717",
     "status": "completed"
    },
    "tags": []
   },
   "outputs": [
    {
     "name": "stdout",
     "output_type": "stream",
     "text": [
      "<class 'pandas.core.frame.DataFrame'>\n",
      "RangeIndex: 8494 entries, 0 to 8493\n",
      "Data columns (total 27 columns):\n",
      " #   Column              Non-Null Count  Dtype  \n",
      "---  ------              --------------  -----  \n",
      " 0   product_id          8494 non-null   object \n",
      " 1   product_name        8494 non-null   object \n",
      " 2   brand_id            8494 non-null   int64  \n",
      " 3   brand_name          8494 non-null   object \n",
      " 4   loves_count         8494 non-null   int64  \n",
      " 5   rating              8216 non-null   float64\n",
      " 6   reviews             8216 non-null   float64\n",
      " 7   size                6863 non-null   object \n",
      " 8   variation_type      7050 non-null   object \n",
      " 9   variation_value     6896 non-null   object \n",
      " 10  variation_desc      1250 non-null   object \n",
      " 11  ingredients         7549 non-null   object \n",
      " 12  price_usd           8494 non-null   float64\n",
      " 13  value_price_usd     451 non-null    float64\n",
      " 14  sale_price_usd      270 non-null    float64\n",
      " 15  limited_edition     8494 non-null   int64  \n",
      " 16  new                 8494 non-null   int64  \n",
      " 17  online_only         8494 non-null   int64  \n",
      " 18  out_of_stock        8494 non-null   int64  \n",
      " 19  sephora_exclusive   8494 non-null   int64  \n",
      " 20  highlights          6287 non-null   object \n",
      " 21  primary_category    8494 non-null   object \n",
      " 22  secondary_category  8486 non-null   object \n",
      " 23  tertiary_category   7504 non-null   object \n",
      " 24  child_count         8494 non-null   int64  \n",
      " 25  child_max_price     2754 non-null   float64\n",
      " 26  child_min_price     2754 non-null   float64\n",
      "dtypes: float64(7), int64(8), object(12)\n",
      "memory usage: 1.7+ MB\n"
     ]
    }
   ],
   "source": [
    "df_products.shape\n",
    "df_products.info()"
   ]
  },
  {
   "cell_type": "code",
   "execution_count": 4,
   "id": "1f5f9678",
   "metadata": {
    "execution": {
     "iopub.execute_input": "2023-05-07T00:07:54.988787Z",
     "iopub.status.busy": "2023-05-07T00:07:54.987175Z",
     "iopub.status.idle": "2023-05-07T00:07:55.015902Z",
     "shell.execute_reply": "2023-05-07T00:07:55.014747Z"
    },
    "papermill": {
     "duration": 0.036804,
     "end_time": "2023-05-07T00:07:55.019764",
     "exception": false,
     "start_time": "2023-05-07T00:07:54.982960",
     "status": "completed"
    },
    "tags": []
   },
   "outputs": [
    {
     "data": {
      "text/plain": [
       "product_id               0\n",
       "product_name             0\n",
       "brand_id                 0\n",
       "brand_name               0\n",
       "loves_count              0\n",
       "rating                 278\n",
       "reviews                278\n",
       "size                  1631\n",
       "variation_type        1444\n",
       "variation_value       1598\n",
       "variation_desc        7244\n",
       "ingredients            945\n",
       "price_usd                0\n",
       "value_price_usd       8043\n",
       "sale_price_usd        8224\n",
       "limited_edition          0\n",
       "new                      0\n",
       "online_only              0\n",
       "out_of_stock             0\n",
       "sephora_exclusive        0\n",
       "highlights            2207\n",
       "primary_category         0\n",
       "secondary_category       8\n",
       "tertiary_category      990\n",
       "child_count              0\n",
       "child_max_price       5740\n",
       "child_min_price       5740\n",
       "dtype: int64"
      ]
     },
     "execution_count": 4,
     "metadata": {},
     "output_type": "execute_result"
    }
   ],
   "source": [
    "df_products.isna().sum(axis=0)"
   ]
  },
  {
   "cell_type": "code",
   "execution_count": 5,
   "id": "51394950",
   "metadata": {
    "execution": {
     "iopub.execute_input": "2023-05-07T00:07:55.028352Z",
     "iopub.status.busy": "2023-05-07T00:07:55.027982Z",
     "iopub.status.idle": "2023-05-07T00:07:55.039322Z",
     "shell.execute_reply": "2023-05-07T00:07:55.038117Z"
    },
    "papermill": {
     "duration": 0.018739,
     "end_time": "2023-05-07T00:07:55.041814",
     "exception": false,
     "start_time": "2023-05-07T00:07:55.023075",
     "status": "completed"
    },
    "tags": []
   },
   "outputs": [
    {
     "data": {
      "text/plain": [
       "brand_name\n",
       "SEPHORA COLLECTION         352\n",
       "CLINIQUE                   179\n",
       "Dior                       136\n",
       "tarte                      131\n",
       "NEST New York              115\n",
       "Bumble and bumble          110\n",
       "Kérastase                  108\n",
       "TOM FORD                   100\n",
       "Charlotte Tilbury           99\n",
       "Anastasia Beverly Hills     95\n",
       "Name: product_name, dtype: int64"
      ]
     },
     "execution_count": 5,
     "metadata": {},
     "output_type": "execute_result"
    }
   ],
   "source": [
    "df_products.groupby(['brand_name'])['product_name'].count().sort_values(ascending=False).head(10)"
   ]
  },
  {
   "cell_type": "code",
   "execution_count": 6,
   "id": "ae299b31",
   "metadata": {
    "execution": {
     "iopub.execute_input": "2023-05-07T00:07:55.050403Z",
     "iopub.status.busy": "2023-05-07T00:07:55.049398Z",
     "iopub.status.idle": "2023-05-07T00:07:55.102098Z",
     "shell.execute_reply": "2023-05-07T00:07:55.100940Z"
    },
    "papermill": {
     "duration": 0.059379,
     "end_time": "2023-05-07T00:07:55.104452",
     "exception": false,
     "start_time": "2023-05-07T00:07:55.045073",
     "status": "completed"
    },
    "tags": []
   },
   "outputs": [
    {
     "data": {
      "text/html": [
       "<div>\n",
       "<style scoped>\n",
       "    .dataframe tbody tr th:only-of-type {\n",
       "        vertical-align: middle;\n",
       "    }\n",
       "\n",
       "    .dataframe tbody tr th {\n",
       "        vertical-align: top;\n",
       "    }\n",
       "\n",
       "    .dataframe thead th {\n",
       "        text-align: right;\n",
       "    }\n",
       "</style>\n",
       "<table border=\"1\" class=\"dataframe\">\n",
       "  <thead>\n",
       "    <tr style=\"text-align: right;\">\n",
       "      <th></th>\n",
       "      <th>brand_name</th>\n",
       "      <th>primary_category</th>\n",
       "      <th>product_id</th>\n",
       "      <th>product_rank</th>\n",
       "    </tr>\n",
       "  </thead>\n",
       "  <tbody>\n",
       "    <tr>\n",
       "      <th>0</th>\n",
       "      <td>19-69</td>\n",
       "      <td>Fragrance</td>\n",
       "      <td>14</td>\n",
       "      <td>1.0</td>\n",
       "    </tr>\n",
       "    <tr>\n",
       "      <th>1</th>\n",
       "      <td>54 Thrones</td>\n",
       "      <td>Bath &amp; Body</td>\n",
       "      <td>4</td>\n",
       "      <td>1.0</td>\n",
       "    </tr>\n",
       "    <tr>\n",
       "      <th>2</th>\n",
       "      <td>ABBOTT</td>\n",
       "      <td>Fragrance</td>\n",
       "      <td>13</td>\n",
       "      <td>1.0</td>\n",
       "    </tr>\n",
       "    <tr>\n",
       "      <th>3</th>\n",
       "      <td>AERIN</td>\n",
       "      <td>Fragrance</td>\n",
       "      <td>22</td>\n",
       "      <td>1.0</td>\n",
       "    </tr>\n",
       "    <tr>\n",
       "      <th>6</th>\n",
       "      <td>ALTERNA Haircare</td>\n",
       "      <td>Hair</td>\n",
       "      <td>45</td>\n",
       "      <td>1.0</td>\n",
       "    </tr>\n",
       "    <tr>\n",
       "      <th>...</th>\n",
       "      <td>...</td>\n",
       "      <td>...</td>\n",
       "      <td>...</td>\n",
       "      <td>...</td>\n",
       "    </tr>\n",
       "    <tr>\n",
       "      <th>618</th>\n",
       "      <td>philosophy</td>\n",
       "      <td>Bath &amp; Body</td>\n",
       "      <td>1</td>\n",
       "      <td>1.0</td>\n",
       "    </tr>\n",
       "    <tr>\n",
       "      <th>619</th>\n",
       "      <td>rms beauty</td>\n",
       "      <td>Makeup</td>\n",
       "      <td>11</td>\n",
       "      <td>1.0</td>\n",
       "    </tr>\n",
       "    <tr>\n",
       "      <th>620</th>\n",
       "      <td>shu uemura</td>\n",
       "      <td>Hair</td>\n",
       "      <td>43</td>\n",
       "      <td>1.0</td>\n",
       "    </tr>\n",
       "    <tr>\n",
       "      <th>621</th>\n",
       "      <td>stila</td>\n",
       "      <td>Makeup</td>\n",
       "      <td>10</td>\n",
       "      <td>1.0</td>\n",
       "    </tr>\n",
       "    <tr>\n",
       "      <th>624</th>\n",
       "      <td>tarte</td>\n",
       "      <td>Makeup</td>\n",
       "      <td>100</td>\n",
       "      <td>1.0</td>\n",
       "    </tr>\n",
       "  </tbody>\n",
       "</table>\n",
       "<p>309 rows × 4 columns</p>\n",
       "</div>"
      ],
      "text/plain": [
       "           brand_name primary_category  product_id  product_rank\n",
       "0               19-69        Fragrance          14           1.0\n",
       "1          54 Thrones      Bath & Body           4           1.0\n",
       "2              ABBOTT        Fragrance          13           1.0\n",
       "3               AERIN        Fragrance          22           1.0\n",
       "6    ALTERNA Haircare             Hair          45           1.0\n",
       "..                ...              ...         ...           ...\n",
       "618        philosophy      Bath & Body           1           1.0\n",
       "619        rms beauty           Makeup          11           1.0\n",
       "620        shu uemura             Hair          43           1.0\n",
       "621             stila           Makeup          10           1.0\n",
       "624             tarte           Makeup         100           1.0\n",
       "\n",
       "[309 rows x 4 columns]"
      ]
     },
     "execution_count": 6,
     "metadata": {},
     "output_type": "execute_result"
    }
   ],
   "source": [
    "#popular product_category in each brand\n",
    "\n",
    "tmp = pd.DataFrame(df_products.groupby(['brand_name','primary_category'])['product_id'].count().reset_index())\n",
    "tmp['product_rank'] = tmp.groupby(['brand_name'])['product_id'].rank(method = 'min',ascending = False)\n",
    "tmp[tmp.product_rank == 1]"
   ]
  },
  {
   "cell_type": "code",
   "execution_count": 7,
   "id": "f791beba",
   "metadata": {
    "execution": {
     "iopub.execute_input": "2023-05-07T00:07:55.113464Z",
     "iopub.status.busy": "2023-05-07T00:07:55.112432Z",
     "iopub.status.idle": "2023-05-07T00:07:55.134625Z",
     "shell.execute_reply": "2023-05-07T00:07:55.133197Z"
    },
    "papermill": {
     "duration": 0.029251,
     "end_time": "2023-05-07T00:07:55.137068",
     "exception": false,
     "start_time": "2023-05-07T00:07:55.107817",
     "status": "completed"
    },
    "tags": []
   },
   "outputs": [
    {
     "name": "stderr",
     "output_type": "stream",
     "text": [
      "/tmp/ipykernel_20/3412678004.py:3: SettingWithCopyWarning: \n",
      "A value is trying to be set on a copy of a slice from a DataFrame.\n",
      "Try using .loc[row_indexer,col_indexer] = value instead\n",
      "\n",
      "See the caveats in the documentation: https://pandas.pydata.org/pandas-docs/stable/user_guide/indexing.html#returning-a-view-versus-a-copy\n",
      "  tmp1['rank']= tmp1.groupby(['brand_name'])['loves_count'].rank(method='min',ascending=False)\n"
     ]
    },
    {
     "data": {
      "text/html": [
       "<div>\n",
       "<style scoped>\n",
       "    .dataframe tbody tr th:only-of-type {\n",
       "        vertical-align: middle;\n",
       "    }\n",
       "\n",
       "    .dataframe tbody tr th {\n",
       "        vertical-align: top;\n",
       "    }\n",
       "\n",
       "    .dataframe thead th {\n",
       "        text-align: right;\n",
       "    }\n",
       "</style>\n",
       "<table border=\"1\" class=\"dataframe\">\n",
       "  <thead>\n",
       "    <tr style=\"text-align: right;\">\n",
       "      <th></th>\n",
       "      <th>brand_name</th>\n",
       "      <th>product_name</th>\n",
       "      <th>loves_count</th>\n",
       "      <th>rank</th>\n",
       "    </tr>\n",
       "  </thead>\n",
       "  <tbody>\n",
       "    <tr>\n",
       "      <th>0</th>\n",
       "      <td>19-69</td>\n",
       "      <td>Fragrance Discovery Set</td>\n",
       "      <td>6320</td>\n",
       "      <td>1.0</td>\n",
       "    </tr>\n",
       "    <tr>\n",
       "      <th>1</th>\n",
       "      <td>19-69</td>\n",
       "      <td>La Habana Eau de Parfum</td>\n",
       "      <td>3827</td>\n",
       "      <td>2.0</td>\n",
       "    </tr>\n",
       "    <tr>\n",
       "      <th>2</th>\n",
       "      <td>19-69</td>\n",
       "      <td>Rainbow Bar Eau de Parfum</td>\n",
       "      <td>3253</td>\n",
       "      <td>3.0</td>\n",
       "    </tr>\n",
       "    <tr>\n",
       "      <th>3</th>\n",
       "      <td>19-69</td>\n",
       "      <td>Kasbah Eau de Parfum</td>\n",
       "      <td>3018</td>\n",
       "      <td>4.0</td>\n",
       "    </tr>\n",
       "    <tr>\n",
       "      <th>4</th>\n",
       "      <td>19-69</td>\n",
       "      <td>Purple Haze Eau de Parfum</td>\n",
       "      <td>2691</td>\n",
       "      <td>5.0</td>\n",
       "    </tr>\n",
       "    <tr>\n",
       "      <th>...</th>\n",
       "      <td>...</td>\n",
       "      <td>...</td>\n",
       "      <td>...</td>\n",
       "      <td>...</td>\n",
       "    </tr>\n",
       "    <tr>\n",
       "      <th>8489</th>\n",
       "      <td>Yves Saint Laurent</td>\n",
       "      <td>Couture Clutch Eyeshadow Palette</td>\n",
       "      <td>2790</td>\n",
       "      <td>61.0</td>\n",
       "    </tr>\n",
       "    <tr>\n",
       "      <th>8490</th>\n",
       "      <td>Yves Saint Laurent</td>\n",
       "      <td>L'Homme Eau de Parfum</td>\n",
       "      <td>2319</td>\n",
       "      <td>62.0</td>\n",
       "    </tr>\n",
       "    <tr>\n",
       "      <th>8491</th>\n",
       "      <td>Yves Saint Laurent</td>\n",
       "      <td>Mon Paris Eau de Parfum Gift Set</td>\n",
       "      <td>1475</td>\n",
       "      <td>63.0</td>\n",
       "    </tr>\n",
       "    <tr>\n",
       "      <th>8492</th>\n",
       "      <td>Yves Saint Laurent</td>\n",
       "      <td>Y Eau de Parfum Gift Set</td>\n",
       "      <td>840</td>\n",
       "      <td>64.0</td>\n",
       "    </tr>\n",
       "    <tr>\n",
       "      <th>8493</th>\n",
       "      <td>Yves Saint Laurent</td>\n",
       "      <td>Candy Glaze Lip Gloss Stick Duo with Hyaluroni...</td>\n",
       "      <td>193</td>\n",
       "      <td>65.0</td>\n",
       "    </tr>\n",
       "  </tbody>\n",
       "</table>\n",
       "<p>8494 rows × 4 columns</p>\n",
       "</div>"
      ],
      "text/plain": [
       "              brand_name                                       product_name  \\\n",
       "0                  19-69                            Fragrance Discovery Set   \n",
       "1                  19-69                            La Habana Eau de Parfum   \n",
       "2                  19-69                          Rainbow Bar Eau de Parfum   \n",
       "3                  19-69                               Kasbah Eau de Parfum   \n",
       "4                  19-69                          Purple Haze Eau de Parfum   \n",
       "...                  ...                                                ...   \n",
       "8489  Yves Saint Laurent                   Couture Clutch Eyeshadow Palette   \n",
       "8490  Yves Saint Laurent                              L'Homme Eau de Parfum   \n",
       "8491  Yves Saint Laurent                   Mon Paris Eau de Parfum Gift Set   \n",
       "8492  Yves Saint Laurent                           Y Eau de Parfum Gift Set   \n",
       "8493  Yves Saint Laurent  Candy Glaze Lip Gloss Stick Duo with Hyaluroni...   \n",
       "\n",
       "      loves_count  rank  \n",
       "0            6320   1.0  \n",
       "1            3827   2.0  \n",
       "2            3253   3.0  \n",
       "3            3018   4.0  \n",
       "4            2691   5.0  \n",
       "...           ...   ...  \n",
       "8489         2790  61.0  \n",
       "8490         2319  62.0  \n",
       "8491         1475  63.0  \n",
       "8492          840  64.0  \n",
       "8493          193  65.0  \n",
       "\n",
       "[8494 rows x 4 columns]"
      ]
     },
     "execution_count": 7,
     "metadata": {},
     "output_type": "execute_result"
    }
   ],
   "source": [
    "#popular product in each brand\n",
    "tmp1 = df_products[['brand_name','product_name','loves_count']]\n",
    "tmp1['rank']= tmp1.groupby(['brand_name'])['loves_count'].rank(method='min',ascending=False)\n",
    "tmp1"
   ]
  },
  {
   "cell_type": "code",
   "execution_count": 8,
   "id": "536539b4",
   "metadata": {
    "execution": {
     "iopub.execute_input": "2023-05-07T00:07:55.146237Z",
     "iopub.status.busy": "2023-05-07T00:07:55.145860Z",
     "iopub.status.idle": "2023-05-07T00:07:56.346782Z",
     "shell.execute_reply": "2023-05-07T00:07:56.345064Z"
    },
    "papermill": {
     "duration": 1.209529,
     "end_time": "2023-05-07T00:07:56.350236",
     "exception": true,
     "start_time": "2023-05-07T00:07:55.140707",
     "status": "failed"
    },
    "tags": []
   },
   "outputs": [
    {
     "name": "stdout",
     "output_type": "stream",
     "text": [
      "Unexpected exception formatting exception. Falling back to standard exception\n"
     ]
    },
    {
     "name": "stderr",
     "output_type": "stream",
     "text": [
      "Traceback (most recent call last):\n",
      "  File \"/opt/conda/lib/python3.10/site-packages/pandas/core/frame.py\", line 12020, in _reindex_for_setitem\n",
      "    reindexed_value = value.reindex(index)._values\n",
      "  File \"/opt/conda/lib/python3.10/site-packages/pandas/core/series.py\", line 5094, in reindex\n",
      "    return super().reindex(**kwargs)\n",
      "  File \"/opt/conda/lib/python3.10/site-packages/pandas/core/generic.py\", line 5289, in reindex\n",
      "    return self._reindex_axes(\n",
      "  File \"/opt/conda/lib/python3.10/site-packages/pandas/core/generic.py\", line 5304, in _reindex_axes\n",
      "    new_index, indexer = ax.reindex(\n",
      "  File \"/opt/conda/lib/python3.10/site-packages/pandas/core/indexes/base.py\", line 4434, in reindex\n",
      "    target = self._wrap_reindex_result(target, indexer, preserve_names)\n",
      "  File \"/opt/conda/lib/python3.10/site-packages/pandas/core/indexes/multi.py\", line 2556, in _wrap_reindex_result\n",
      "    target = MultiIndex.from_tuples(target)\n",
      "  File \"/opt/conda/lib/python3.10/site-packages/pandas/core/indexes/multi.py\", line 205, in new_meth\n",
      "    return meth(self_or_cls, *args, **kwargs)\n",
      "  File \"/opt/conda/lib/python3.10/site-packages/pandas/core/indexes/multi.py\", line 573, in from_tuples\n",
      "    arrays = list(lib.tuples_to_object_array(tuples).T)\n",
      "  File \"pandas/_libs/lib.pyx\", line 2984, in pandas._libs.lib.tuples_to_object_array\n",
      "ValueError: Buffer dtype mismatch, expected 'Python object' but got 'long'\n",
      "\n",
      "The above exception was the direct cause of the following exception:\n",
      "\n",
      "Traceback (most recent call last):\n",
      "  File \"/opt/conda/lib/python3.10/site-packages/IPython/core/interactiveshell.py\", line 3505, in run_code\n",
      "    exec(code_obj, self.user_global_ns, self.user_ns)\n",
      "  File \"/tmp/ipykernel_20/377765147.py\", line 3, in <module>\n",
      "    tmp['min_price']=tmp.groupby(['primary_category','secondary_category','tertiary_category'])['price_usd'].min()\n",
      "  File \"/opt/conda/lib/python3.10/site-packages/pandas/core/frame.py\", line 3980, in __setitem__\n",
      "    self._set_item(key, value)\n",
      "  File \"/opt/conda/lib/python3.10/site-packages/pandas/core/frame.py\", line 4174, in _set_item\n",
      "    value = self._sanitize_column(value)\n",
      "  File \"/opt/conda/lib/python3.10/site-packages/pandas/core/frame.py\", line 4912, in _sanitize_column\n",
      "    return _reindex_for_setitem(Series(value), self.index)\n",
      "  File \"/opt/conda/lib/python3.10/site-packages/pandas/core/frame.py\", line 12027, in _reindex_for_setitem\n",
      "    raise TypeError(\n",
      "TypeError: incompatible index of inserted column with frame index\n",
      "\n",
      "During handling of the above exception, another exception occurred:\n",
      "\n",
      "Traceback (most recent call last):\n",
      "  File \"/opt/conda/lib/python3.10/site-packages/IPython/core/interactiveshell.py\", line 2102, in showtraceback\n",
      "    stb = self.InteractiveTB.structured_traceback(\n",
      "  File \"/opt/conda/lib/python3.10/site-packages/IPython/core/ultratb.py\", line 1310, in structured_traceback\n",
      "    return FormattedTB.structured_traceback(\n",
      "  File \"/opt/conda/lib/python3.10/site-packages/IPython/core/ultratb.py\", line 1199, in structured_traceback\n",
      "    return VerboseTB.structured_traceback(\n",
      "  File \"/opt/conda/lib/python3.10/site-packages/IPython/core/ultratb.py\", line 1071, in structured_traceback\n",
      "    formatted_exceptions += self.format_exception_as_a_whole(etype, evalue, etb, lines_of_context,\n",
      "  File \"/opt/conda/lib/python3.10/site-packages/IPython/core/ultratb.py\", line 953, in format_exception_as_a_whole\n",
      "    self.get_records(etb, number_of_lines_of_context, tb_offset) if etb else []\n",
      "  File \"/opt/conda/lib/python3.10/site-packages/IPython/core/ultratb.py\", line 1037, in get_records\n",
      "    FIs.append(FrameInfo(\"Raw frame\", filename, lineno, frame, code))\n",
      "  File \"/opt/conda/lib/python3.10/site-packages/IPython/core/ultratb.py\", line 700, in __init__\n",
      "    ix = inspect.getsourcelines(frame)\n",
      "  File \"/opt/conda/lib/python3.10/inspect.py\", line 1121, in getsourcelines\n",
      "    lines, lnum = findsource(object)\n",
      "  File \"/opt/conda/lib/python3.10/inspect.py\", line 950, in findsource\n",
      "    raise OSError('source code not available')\n",
      "OSError: source code not available\n"
     ]
    }
   ],
   "source": [
    "#Average price of each product category\n",
    "tmp = df_products[['brand_name','primary_category','secondary_category','tertiary_category','price_usd']]\n",
    "tmp['min_price']=tmp.groupby(['primary_category','secondary_category','tertiary_category'])['price_usd'].min()\n",
    "tmp['max_price']=tmp.groupby(['primary_category','secondary_category','tertiary_category'])['price_usd'].max()\n",
    "tmp['mean_price']=tmp.groupby(['primary_category','secondary_category','tertiary_category'])['price_usd'].mean()\n",
    "tmp"
   ]
  }
 ],
 "metadata": {
  "kernelspec": {
   "display_name": "Python 3",
   "language": "python",
   "name": "python3"
  },
  "language_info": {
   "codemirror_mode": {
    "name": "ipython",
    "version": 3
   },
   "file_extension": ".py",
   "mimetype": "text/x-python",
   "name": "python",
   "nbconvert_exporter": "python",
   "pygments_lexer": "ipython3",
   "version": "3.10.10"
  },
  "papermill": {
   "default_parameters": {},
   "duration": 13.369508,
   "end_time": "2023-05-07T00:07:57.381070",
   "environment_variables": {},
   "exception": true,
   "input_path": "__notebook__.ipynb",
   "output_path": "__notebook__.ipynb",
   "parameters": {},
   "start_time": "2023-05-07T00:07:44.011562",
   "version": "2.4.0"
  }
 },
 "nbformat": 4,
 "nbformat_minor": 5
}
