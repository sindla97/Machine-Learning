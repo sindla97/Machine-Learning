{
 "cells": [
  {
   "cell_type": "code",
   "execution_count": 1,
   "id": "862aa654",
   "metadata": {
    "_cell_guid": "b1076dfc-b9ad-4769-8c92-a6c4dae69d19",
    "_uuid": "8f2839f25d086af736a60e9eeb907d3b93b6e0e5",
    "execution": {
     "iopub.execute_input": "2023-05-08T06:28:51.224036Z",
     "iopub.status.busy": "2023-05-08T06:28:51.223621Z",
     "iopub.status.idle": "2023-05-08T06:28:51.269329Z",
     "shell.execute_reply": "2023-05-08T06:28:51.267613Z"
    },
    "papermill": {
     "duration": 0.058009,
     "end_time": "2023-05-08T06:28:51.271775",
     "exception": false,
     "start_time": "2023-05-08T06:28:51.213766",
     "status": "completed"
    },
    "tags": []
   },
   "outputs": [],
   "source": [
    "# This Python 3 environment comes with many helpful analytics libraries installed\n",
    "# It is defined by the kaggle/python Docker image: https://github.com/kaggle/docker-python\n",
    "# For example, here's several helpful packages to load\n",
    "\n",
    "import numpy as np # linear algebra\n",
    "import pandas as pd # data processing, CSV file I/O (e.g. pd.read_csv)\n",
    "\n",
    "# Input data files are available in the read-only \"../input/\" directory\n",
    "# For example, running this (by clicking run or pressing Shift+Enter) will list all files under the input directory\n",
    "\n",
    "# import os\n",
    "# for dirname, _, filenames in os.walk('/kaggle/input'):\n",
    "#     for filename in filenames:\n",
    "#         print(os.path.join(dirname, filename))\n",
    "\n",
    "# You can write up to 20GB to the current directory (/kaggle/working/) that gets preserved as output when you create a version using \"Save & Run All\" \n",
    "# You can also write temporary files to /kaggle/temp/, but they won't be saved outside of the current session"
   ]
  },
  {
   "cell_type": "markdown",
   "id": "d63dd886",
   "metadata": {
    "papermill": {
     "duration": 0.006943,
     "end_time": "2023-05-08T06:28:51.287035",
     "exception": false,
     "start_time": "2023-05-08T06:28:51.280092",
     "status": "completed"
    },
    "tags": []
   },
   "source": [
    "#EDA"
   ]
  },
  {
   "cell_type": "code",
   "execution_count": 2,
   "id": "ce98fe9a",
   "metadata": {
    "execution": {
     "iopub.execute_input": "2023-05-08T06:28:51.303156Z",
     "iopub.status.busy": "2023-05-08T06:28:51.302741Z",
     "iopub.status.idle": "2023-05-08T06:28:51.591211Z",
     "shell.execute_reply": "2023-05-08T06:28:51.590231Z"
    },
    "papermill": {
     "duration": 0.299363,
     "end_time": "2023-05-08T06:28:51.593617",
     "exception": false,
     "start_time": "2023-05-08T06:28:51.294254",
     "status": "completed"
    },
    "tags": []
   },
   "outputs": [],
   "source": [
    "df_products = pd.read_csv(r'C:\\Users\\shanm\\Downloads\\product_info.csv\\product_info.csv')"
   ]
  },
  {
   "cell_type": "code",
   "execution_count": 3,
   "id": "7439b9b5",
   "metadata": {
    "execution": {
     "iopub.execute_input": "2023-05-08T06:28:51.610775Z",
     "iopub.status.busy": "2023-05-08T06:28:51.609821Z",
     "iopub.status.idle": "2023-05-08T06:28:51.656167Z",
     "shell.execute_reply": "2023-05-08T06:28:51.654343Z"
    },
    "papermill": {
     "duration": 0.057098,
     "end_time": "2023-05-08T06:28:51.658519",
     "exception": false,
     "start_time": "2023-05-08T06:28:51.601421",
     "status": "completed"
    },
    "tags": []
   },
   "outputs": [
    {
     "name": "stdout",
     "output_type": "stream",
     "text": [
      "<class 'pandas.core.frame.DataFrame'>\n",
      "RangeIndex: 8494 entries, 0 to 8493\n",
      "Data columns (total 27 columns):\n",
      " #   Column              Non-Null Count  Dtype  \n",
      "---  ------              --------------  -----  \n",
      " 0   product_id          8494 non-null   object \n",
      " 1   product_name        8494 non-null   object \n",
      " 2   brand_id            8494 non-null   int64  \n",
      " 3   brand_name          8494 non-null   object \n",
      " 4   loves_count         8494 non-null   int64  \n",
      " 5   rating              8216 non-null   float64\n",
      " 6   reviews             8216 non-null   float64\n",
      " 7   size                6863 non-null   object \n",
      " 8   variation_type      7050 non-null   object \n",
      " 9   variation_value     6896 non-null   object \n",
      " 10  variation_desc      1250 non-null   object \n",
      " 11  ingredients         7549 non-null   object \n",
      " 12  price_usd           8494 non-null   float64\n",
      " 13  value_price_usd     451 non-null    float64\n",
      " 14  sale_price_usd      270 non-null    float64\n",
      " 15  limited_edition     8494 non-null   int64  \n",
      " 16  new                 8494 non-null   int64  \n",
      " 17  online_only         8494 non-null   int64  \n",
      " 18  out_of_stock        8494 non-null   int64  \n",
      " 19  sephora_exclusive   8494 non-null   int64  \n",
      " 20  highlights          6287 non-null   object \n",
      " 21  primary_category    8494 non-null   object \n",
      " 22  secondary_category  8486 non-null   object \n",
      " 23  tertiary_category   7504 non-null   object \n",
      " 24  child_count         8494 non-null   int64  \n",
      " 25  child_max_price     2754 non-null   float64\n",
      " 26  child_min_price     2754 non-null   float64\n",
      "dtypes: float64(7), int64(8), object(12)\n",
      "memory usage: 1.7+ MB\n"
     ]
    }
   ],
   "source": [
    "df_products.shape\n",
    "df_products.info()"
   ]
  },
  {
   "cell_type": "code",
   "execution_count": 4,
   "id": "28ddd203",
   "metadata": {
    "execution": {
     "iopub.execute_input": "2023-05-08T06:28:51.675063Z",
     "iopub.status.busy": "2023-05-08T06:28:51.674699Z",
     "iopub.status.idle": "2023-05-08T06:28:51.700775Z",
     "shell.execute_reply": "2023-05-08T06:28:51.699606Z"
    },
    "papermill": {
     "duration": 0.037081,
     "end_time": "2023-05-08T06:28:51.703158",
     "exception": false,
     "start_time": "2023-05-08T06:28:51.666077",
     "status": "completed"
    },
    "tags": []
   },
   "outputs": [
    {
     "data": {
      "text/plain": [
       "product_id               0\n",
       "product_name             0\n",
       "brand_id                 0\n",
       "brand_name               0\n",
       "loves_count              0\n",
       "rating                 278\n",
       "reviews                278\n",
       "size                  1631\n",
       "variation_type        1444\n",
       "variation_value       1598\n",
       "variation_desc        7244\n",
       "ingredients            945\n",
       "price_usd                0\n",
       "value_price_usd       8043\n",
       "sale_price_usd        8224\n",
       "limited_edition          0\n",
       "new                      0\n",
       "online_only              0\n",
       "out_of_stock             0\n",
       "sephora_exclusive        0\n",
       "highlights            2207\n",
       "primary_category         0\n",
       "secondary_category       8\n",
       "tertiary_category      990\n",
       "child_count              0\n",
       "child_max_price       5740\n",
       "child_min_price       5740\n",
       "dtype: int64"
      ]
     },
     "execution_count": 4,
     "metadata": {},
     "output_type": "execute_result"
    }
   ],
   "source": [
    "df_products.isna().sum(axis=0)"
   ]
  },
  {
   "cell_type": "code",
   "execution_count": 5,
   "id": "c1668b64",
   "metadata": {
    "execution": {
     "iopub.execute_input": "2023-05-08T06:28:51.720302Z",
     "iopub.status.busy": "2023-05-08T06:28:51.719674Z",
     "iopub.status.idle": "2023-05-08T06:28:51.729026Z",
     "shell.execute_reply": "2023-05-08T06:28:51.728218Z"
    },
    "papermill": {
     "duration": 0.020294,
     "end_time": "2023-05-08T06:28:51.731059",
     "exception": false,
     "start_time": "2023-05-08T06:28:51.710765",
     "status": "completed"
    },
    "tags": []
   },
   "outputs": [
    {
     "data": {
      "text/plain": [
       "brand_name\n",
       "SEPHORA COLLECTION         352\n",
       "CLINIQUE                   179\n",
       "Dior                       136\n",
       "tarte                      131\n",
       "NEST New York              115\n",
       "Bumble and bumble          110\n",
       "Kérastase                  108\n",
       "TOM FORD                   100\n",
       "Charlotte Tilbury           99\n",
       "Anastasia Beverly Hills     95\n",
       "Name: product_name, dtype: int64"
      ]
     },
     "execution_count": 5,
     "metadata": {},
     "output_type": "execute_result"
    }
   ],
   "source": [
    "df_products.groupby(['brand_name'])['product_name'].count().sort_values(ascending=False).head(10)"
   ]
  },
  {
   "cell_type": "code",
   "execution_count": 6,
   "id": "0e8054fa",
   "metadata": {
    "execution": {
     "iopub.execute_input": "2023-05-08T06:28:51.748662Z",
     "iopub.status.busy": "2023-05-08T06:28:51.748100Z",
     "iopub.status.idle": "2023-05-08T06:28:51.793526Z",
     "shell.execute_reply": "2023-05-08T06:28:51.792557Z"
    },
    "papermill": {
     "duration": 0.057282,
     "end_time": "2023-05-08T06:28:51.796197",
     "exception": false,
     "start_time": "2023-05-08T06:28:51.738915",
     "status": "completed"
    },
    "tags": []
   },
   "outputs": [
    {
     "data": {
      "text/html": [
       "<div>\n",
       "<style scoped>\n",
       "    .dataframe tbody tr th:only-of-type {\n",
       "        vertical-align: middle;\n",
       "    }\n",
       "\n",
       "    .dataframe tbody tr th {\n",
       "        vertical-align: top;\n",
       "    }\n",
       "\n",
       "    .dataframe thead th {\n",
       "        text-align: right;\n",
       "    }\n",
       "</style>\n",
       "<table border=\"1\" class=\"dataframe\">\n",
       "  <thead>\n",
       "    <tr style=\"text-align: right;\">\n",
       "      <th></th>\n",
       "      <th>brand_name</th>\n",
       "      <th>primary_category</th>\n",
       "      <th>product_id</th>\n",
       "      <th>product_rank</th>\n",
       "    </tr>\n",
       "  </thead>\n",
       "  <tbody>\n",
       "    <tr>\n",
       "      <th>0</th>\n",
       "      <td>19-69</td>\n",
       "      <td>Fragrance</td>\n",
       "      <td>14</td>\n",
       "      <td>1.0</td>\n",
       "    </tr>\n",
       "    <tr>\n",
       "      <th>1</th>\n",
       "      <td>54 Thrones</td>\n",
       "      <td>Bath &amp; Body</td>\n",
       "      <td>4</td>\n",
       "      <td>1.0</td>\n",
       "    </tr>\n",
       "    <tr>\n",
       "      <th>2</th>\n",
       "      <td>ABBOTT</td>\n",
       "      <td>Fragrance</td>\n",
       "      <td>13</td>\n",
       "      <td>1.0</td>\n",
       "    </tr>\n",
       "    <tr>\n",
       "      <th>3</th>\n",
       "      <td>AERIN</td>\n",
       "      <td>Fragrance</td>\n",
       "      <td>22</td>\n",
       "      <td>1.0</td>\n",
       "    </tr>\n",
       "    <tr>\n",
       "      <th>6</th>\n",
       "      <td>ALTERNA Haircare</td>\n",
       "      <td>Hair</td>\n",
       "      <td>45</td>\n",
       "      <td>1.0</td>\n",
       "    </tr>\n",
       "    <tr>\n",
       "      <th>...</th>\n",
       "      <td>...</td>\n",
       "      <td>...</td>\n",
       "      <td>...</td>\n",
       "      <td>...</td>\n",
       "    </tr>\n",
       "    <tr>\n",
       "      <th>618</th>\n",
       "      <td>philosophy</td>\n",
       "      <td>Bath &amp; Body</td>\n",
       "      <td>1</td>\n",
       "      <td>1.0</td>\n",
       "    </tr>\n",
       "    <tr>\n",
       "      <th>619</th>\n",
       "      <td>rms beauty</td>\n",
       "      <td>Makeup</td>\n",
       "      <td>11</td>\n",
       "      <td>1.0</td>\n",
       "    </tr>\n",
       "    <tr>\n",
       "      <th>620</th>\n",
       "      <td>shu uemura</td>\n",
       "      <td>Hair</td>\n",
       "      <td>43</td>\n",
       "      <td>1.0</td>\n",
       "    </tr>\n",
       "    <tr>\n",
       "      <th>621</th>\n",
       "      <td>stila</td>\n",
       "      <td>Makeup</td>\n",
       "      <td>10</td>\n",
       "      <td>1.0</td>\n",
       "    </tr>\n",
       "    <tr>\n",
       "      <th>624</th>\n",
       "      <td>tarte</td>\n",
       "      <td>Makeup</td>\n",
       "      <td>100</td>\n",
       "      <td>1.0</td>\n",
       "    </tr>\n",
       "  </tbody>\n",
       "</table>\n",
       "<p>309 rows × 4 columns</p>\n",
       "</div>"
      ],
      "text/plain": [
       "           brand_name primary_category  product_id  product_rank\n",
       "0               19-69        Fragrance          14           1.0\n",
       "1          54 Thrones      Bath & Body           4           1.0\n",
       "2              ABBOTT        Fragrance          13           1.0\n",
       "3               AERIN        Fragrance          22           1.0\n",
       "6    ALTERNA Haircare             Hair          45           1.0\n",
       "..                ...              ...         ...           ...\n",
       "618        philosophy      Bath & Body           1           1.0\n",
       "619        rms beauty           Makeup          11           1.0\n",
       "620        shu uemura             Hair          43           1.0\n",
       "621             stila           Makeup          10           1.0\n",
       "624             tarte           Makeup         100           1.0\n",
       "\n",
       "[309 rows x 4 columns]"
      ]
     },
     "execution_count": 6,
     "metadata": {},
     "output_type": "execute_result"
    }
   ],
   "source": [
    "#popular product_category in each brand\n",
    "\n",
    "tmp = pd.DataFrame(df_products.groupby(['brand_name','primary_category'])['product_id'].count().reset_index())\n",
    "tmp['product_rank'] = tmp.groupby(['brand_name'])['product_id'].rank(method = 'min',ascending = False)\n",
    "tmp[tmp.product_rank == 1]"
   ]
  },
  {
   "cell_type": "code",
   "execution_count": 7,
   "id": "f7900a41",
   "metadata": {
    "execution": {
     "iopub.execute_input": "2023-05-08T06:28:51.813687Z",
     "iopub.status.busy": "2023-05-08T06:28:51.813083Z",
     "iopub.status.idle": "2023-05-08T06:28:51.832601Z",
     "shell.execute_reply": "2023-05-08T06:28:51.831533Z"
    },
    "papermill": {
     "duration": 0.030993,
     "end_time": "2023-05-08T06:28:51.835070",
     "exception": false,
     "start_time": "2023-05-08T06:28:51.804077",
     "status": "completed"
    },
    "tags": []
   },
   "outputs": [
    {
     "name": "stderr",
     "output_type": "stream",
     "text": [
      "C:\\Users\\shanm\\AppData\\Local\\Temp/ipykernel_28644/3412678004.py:3: SettingWithCopyWarning: \n",
      "A value is trying to be set on a copy of a slice from a DataFrame.\n",
      "Try using .loc[row_indexer,col_indexer] = value instead\n",
      "\n",
      "See the caveats in the documentation: https://pandas.pydata.org/pandas-docs/stable/user_guide/indexing.html#returning-a-view-versus-a-copy\n",
      "  tmp1['rank']= tmp1.groupby(['brand_name'])['loves_count'].rank(method='min',ascending=False)\n"
     ]
    },
    {
     "data": {
      "text/html": [
       "<div>\n",
       "<style scoped>\n",
       "    .dataframe tbody tr th:only-of-type {\n",
       "        vertical-align: middle;\n",
       "    }\n",
       "\n",
       "    .dataframe tbody tr th {\n",
       "        vertical-align: top;\n",
       "    }\n",
       "\n",
       "    .dataframe thead th {\n",
       "        text-align: right;\n",
       "    }\n",
       "</style>\n",
       "<table border=\"1\" class=\"dataframe\">\n",
       "  <thead>\n",
       "    <tr style=\"text-align: right;\">\n",
       "      <th></th>\n",
       "      <th>brand_name</th>\n",
       "      <th>product_name</th>\n",
       "      <th>loves_count</th>\n",
       "      <th>rank</th>\n",
       "    </tr>\n",
       "  </thead>\n",
       "  <tbody>\n",
       "    <tr>\n",
       "      <th>0</th>\n",
       "      <td>19-69</td>\n",
       "      <td>Fragrance Discovery Set</td>\n",
       "      <td>6320</td>\n",
       "      <td>1.0</td>\n",
       "    </tr>\n",
       "    <tr>\n",
       "      <th>1</th>\n",
       "      <td>19-69</td>\n",
       "      <td>La Habana Eau de Parfum</td>\n",
       "      <td>3827</td>\n",
       "      <td>2.0</td>\n",
       "    </tr>\n",
       "    <tr>\n",
       "      <th>2</th>\n",
       "      <td>19-69</td>\n",
       "      <td>Rainbow Bar Eau de Parfum</td>\n",
       "      <td>3253</td>\n",
       "      <td>3.0</td>\n",
       "    </tr>\n",
       "    <tr>\n",
       "      <th>3</th>\n",
       "      <td>19-69</td>\n",
       "      <td>Kasbah Eau de Parfum</td>\n",
       "      <td>3018</td>\n",
       "      <td>4.0</td>\n",
       "    </tr>\n",
       "    <tr>\n",
       "      <th>4</th>\n",
       "      <td>19-69</td>\n",
       "      <td>Purple Haze Eau de Parfum</td>\n",
       "      <td>2691</td>\n",
       "      <td>5.0</td>\n",
       "    </tr>\n",
       "    <tr>\n",
       "      <th>...</th>\n",
       "      <td>...</td>\n",
       "      <td>...</td>\n",
       "      <td>...</td>\n",
       "      <td>...</td>\n",
       "    </tr>\n",
       "    <tr>\n",
       "      <th>8489</th>\n",
       "      <td>Yves Saint Laurent</td>\n",
       "      <td>Couture Clutch Eyeshadow Palette</td>\n",
       "      <td>2790</td>\n",
       "      <td>61.0</td>\n",
       "    </tr>\n",
       "    <tr>\n",
       "      <th>8490</th>\n",
       "      <td>Yves Saint Laurent</td>\n",
       "      <td>L'Homme Eau de Parfum</td>\n",
       "      <td>2319</td>\n",
       "      <td>62.0</td>\n",
       "    </tr>\n",
       "    <tr>\n",
       "      <th>8491</th>\n",
       "      <td>Yves Saint Laurent</td>\n",
       "      <td>Mon Paris Eau de Parfum Gift Set</td>\n",
       "      <td>1475</td>\n",
       "      <td>63.0</td>\n",
       "    </tr>\n",
       "    <tr>\n",
       "      <th>8492</th>\n",
       "      <td>Yves Saint Laurent</td>\n",
       "      <td>Y Eau de Parfum Gift Set</td>\n",
       "      <td>840</td>\n",
       "      <td>64.0</td>\n",
       "    </tr>\n",
       "    <tr>\n",
       "      <th>8493</th>\n",
       "      <td>Yves Saint Laurent</td>\n",
       "      <td>Candy Glaze Lip Gloss Stick Duo with Hyaluroni...</td>\n",
       "      <td>193</td>\n",
       "      <td>65.0</td>\n",
       "    </tr>\n",
       "  </tbody>\n",
       "</table>\n",
       "<p>8494 rows × 4 columns</p>\n",
       "</div>"
      ],
      "text/plain": [
       "              brand_name                                       product_name  \\\n",
       "0                  19-69                            Fragrance Discovery Set   \n",
       "1                  19-69                            La Habana Eau de Parfum   \n",
       "2                  19-69                          Rainbow Bar Eau de Parfum   \n",
       "3                  19-69                               Kasbah Eau de Parfum   \n",
       "4                  19-69                          Purple Haze Eau de Parfum   \n",
       "...                  ...                                                ...   \n",
       "8489  Yves Saint Laurent                   Couture Clutch Eyeshadow Palette   \n",
       "8490  Yves Saint Laurent                              L'Homme Eau de Parfum   \n",
       "8491  Yves Saint Laurent                   Mon Paris Eau de Parfum Gift Set   \n",
       "8492  Yves Saint Laurent                           Y Eau de Parfum Gift Set   \n",
       "8493  Yves Saint Laurent  Candy Glaze Lip Gloss Stick Duo with Hyaluroni...   \n",
       "\n",
       "      loves_count  rank  \n",
       "0            6320   1.0  \n",
       "1            3827   2.0  \n",
       "2            3253   3.0  \n",
       "3            3018   4.0  \n",
       "4            2691   5.0  \n",
       "...           ...   ...  \n",
       "8489         2790  61.0  \n",
       "8490         2319  62.0  \n",
       "8491         1475  63.0  \n",
       "8492          840  64.0  \n",
       "8493          193  65.0  \n",
       "\n",
       "[8494 rows x 4 columns]"
      ]
     },
     "execution_count": 7,
     "metadata": {},
     "output_type": "execute_result"
    }
   ],
   "source": [
    "#popular product in each brand\n",
    "tmp1 = df_products[['brand_name','product_name','loves_count']]\n",
    "tmp1['rank']= tmp1.groupby(['brand_name'])['loves_count'].rank(method='min',ascending=False)\n",
    "tmp1"
   ]
  },
  {
   "cell_type": "code",
   "execution_count": 8,
   "id": "0d005257",
   "metadata": {
    "execution": {
     "iopub.execute_input": "2023-05-08T06:28:51.853048Z",
     "iopub.status.busy": "2023-05-08T06:28:51.852647Z",
     "iopub.status.idle": "2023-05-08T06:28:51.892231Z",
     "shell.execute_reply": "2023-05-08T06:28:51.891106Z"
    },
    "papermill": {
     "duration": 0.051453,
     "end_time": "2023-05-08T06:28:51.894530",
     "exception": false,
     "start_time": "2023-05-08T06:28:51.843077",
     "status": "completed"
    },
    "tags": []
   },
   "outputs": [
    {
     "data": {
      "text/html": [
       "<div>\n",
       "<style scoped>\n",
       "    .dataframe tbody tr th:only-of-type {\n",
       "        vertical-align: middle;\n",
       "    }\n",
       "\n",
       "    .dataframe tbody tr th {\n",
       "        vertical-align: top;\n",
       "    }\n",
       "\n",
       "    .dataframe thead th {\n",
       "        text-align: right;\n",
       "    }\n",
       "</style>\n",
       "<table border=\"1\" class=\"dataframe\">\n",
       "  <thead>\n",
       "    <tr style=\"text-align: right;\">\n",
       "      <th></th>\n",
       "      <th>primary_category</th>\n",
       "      <th>secondary_category</th>\n",
       "      <th>tertiary_category</th>\n",
       "      <th>min_price</th>\n",
       "      <th>max_price</th>\n",
       "      <th>mean_price</th>\n",
       "    </tr>\n",
       "  </thead>\n",
       "  <tbody>\n",
       "    <tr>\n",
       "      <th>0</th>\n",
       "      <td>Bath &amp; Body</td>\n",
       "      <td>Bath &amp; Shower</td>\n",
       "      <td>Bath Soaks &amp; Bubble Bath</td>\n",
       "      <td>3.0</td>\n",
       "      <td>82.0</td>\n",
       "      <td>29.142857</td>\n",
       "    </tr>\n",
       "    <tr>\n",
       "      <th>1</th>\n",
       "      <td>Bath &amp; Body</td>\n",
       "      <td>Bath &amp; Shower</td>\n",
       "      <td>Body Wash &amp; Shower Gel</td>\n",
       "      <td>6.0</td>\n",
       "      <td>70.0</td>\n",
       "      <td>30.705882</td>\n",
       "    </tr>\n",
       "    <tr>\n",
       "      <th>2</th>\n",
       "      <td>Bath &amp; Body</td>\n",
       "      <td>Bath &amp; Shower</td>\n",
       "      <td>Scrub &amp; Exfoliants</td>\n",
       "      <td>18.0</td>\n",
       "      <td>155.0</td>\n",
       "      <td>43.692308</td>\n",
       "    </tr>\n",
       "    <tr>\n",
       "      <th>3</th>\n",
       "      <td>Bath &amp; Body</td>\n",
       "      <td>Body Care</td>\n",
       "      <td>Cellulite &amp; Stretch Marks</td>\n",
       "      <td>40.0</td>\n",
       "      <td>77.0</td>\n",
       "      <td>62.625000</td>\n",
       "    </tr>\n",
       "    <tr>\n",
       "      <th>4</th>\n",
       "      <td>Bath &amp; Body</td>\n",
       "      <td>Body Care</td>\n",
       "      <td>Deodorant &amp; Antiperspirant</td>\n",
       "      <td>8.0</td>\n",
       "      <td>96.0</td>\n",
       "      <td>28.920000</td>\n",
       "    </tr>\n",
       "    <tr>\n",
       "      <th>...</th>\n",
       "      <td>...</td>\n",
       "      <td>...</td>\n",
       "      <td>...</td>\n",
       "      <td>...</td>\n",
       "      <td>...</td>\n",
       "      <td>...</td>\n",
       "    </tr>\n",
       "    <tr>\n",
       "      <th>130</th>\n",
       "      <td>Tools &amp; Brushes</td>\n",
       "      <td>Brushes &amp; Applicators</td>\n",
       "      <td>Facial Cleansing Brushes</td>\n",
       "      <td>14.0</td>\n",
       "      <td>16.0</td>\n",
       "      <td>15.000000</td>\n",
       "    </tr>\n",
       "    <tr>\n",
       "      <th>131</th>\n",
       "      <td>Tools &amp; Brushes</td>\n",
       "      <td>Brushes &amp; Applicators</td>\n",
       "      <td>Sponges &amp; Applicators</td>\n",
       "      <td>10.0</td>\n",
       "      <td>14.0</td>\n",
       "      <td>12.000000</td>\n",
       "    </tr>\n",
       "    <tr>\n",
       "      <th>132</th>\n",
       "      <td>Tools &amp; Brushes</td>\n",
       "      <td>Hair Tools</td>\n",
       "      <td>Accessories</td>\n",
       "      <td>15.0</td>\n",
       "      <td>45.0</td>\n",
       "      <td>30.000000</td>\n",
       "    </tr>\n",
       "    <tr>\n",
       "      <th>133</th>\n",
       "      <td>Tools &amp; Brushes</td>\n",
       "      <td>Hair Tools</td>\n",
       "      <td>Brushes &amp; Combs</td>\n",
       "      <td>7.0</td>\n",
       "      <td>74.0</td>\n",
       "      <td>26.000000</td>\n",
       "    </tr>\n",
       "    <tr>\n",
       "      <th>134</th>\n",
       "      <td>Tools &amp; Brushes</td>\n",
       "      <td>Hair Tools</td>\n",
       "      <td>Hair Straighteners &amp; Flat Irons</td>\n",
       "      <td>89.0</td>\n",
       "      <td>249.0</td>\n",
       "      <td>169.000000</td>\n",
       "    </tr>\n",
       "  </tbody>\n",
       "</table>\n",
       "<p>135 rows × 6 columns</p>\n",
       "</div>"
      ],
      "text/plain": [
       "    primary_category     secondary_category                tertiary_category  \\\n",
       "0        Bath & Body          Bath & Shower         Bath Soaks & Bubble Bath   \n",
       "1        Bath & Body          Bath & Shower           Body Wash & Shower Gel   \n",
       "2        Bath & Body          Bath & Shower               Scrub & Exfoliants   \n",
       "3        Bath & Body              Body Care        Cellulite & Stretch Marks   \n",
       "4        Bath & Body              Body Care       Deodorant & Antiperspirant   \n",
       "..               ...                    ...                              ...   \n",
       "130  Tools & Brushes  Brushes & Applicators         Facial Cleansing Brushes   \n",
       "131  Tools & Brushes  Brushes & Applicators            Sponges & Applicators   \n",
       "132  Tools & Brushes             Hair Tools                      Accessories   \n",
       "133  Tools & Brushes             Hair Tools                  Brushes & Combs   \n",
       "134  Tools & Brushes             Hair Tools  Hair Straighteners & Flat Irons   \n",
       "\n",
       "     min_price  max_price  mean_price  \n",
       "0          3.0       82.0   29.142857  \n",
       "1          6.0       70.0   30.705882  \n",
       "2         18.0      155.0   43.692308  \n",
       "3         40.0       77.0   62.625000  \n",
       "4          8.0       96.0   28.920000  \n",
       "..         ...        ...         ...  \n",
       "130       14.0       16.0   15.000000  \n",
       "131       10.0       14.0   12.000000  \n",
       "132       15.0       45.0   30.000000  \n",
       "133        7.0       74.0   26.000000  \n",
       "134       89.0      249.0  169.000000  \n",
       "\n",
       "[135 rows x 6 columns]"
      ]
     },
     "execution_count": 8,
     "metadata": {},
     "output_type": "execute_result"
    }
   ],
   "source": [
    "#Average price of each product category\n",
    "tmp = df_products[['primary_category','secondary_category','tertiary_category','price_usd']]\n",
    "tmp1 = pd.DataFrame(tmp.groupby(['primary_category','secondary_category','tertiary_category'])['price_usd'].min().reset_index())\n",
    "tmp1['max_price']=pd.DataFrame(tmp.groupby(['primary_category','secondary_category','tertiary_category'])['price_usd'].max().reset_index())['price_usd']\n",
    "tmp1['mean_price']=pd.DataFrame(tmp.groupby(['primary_category','secondary_category','tertiary_category'])['price_usd'].mean().reset_index())['price_usd']\n",
    "tmp1.rename(columns={'price_usd':'min_price'})"
   ]
  },
  {
   "cell_type": "code",
   "execution_count": 9,
   "id": "cdbc9dd0",
   "metadata": {
    "execution": {
     "iopub.execute_input": "2023-05-08T06:28:51.912760Z",
     "iopub.status.busy": "2023-05-08T06:28:51.912406Z",
     "iopub.status.idle": "2023-05-08T06:28:52.924077Z",
     "shell.execute_reply": "2023-05-08T06:28:52.923002Z"
    },
    "papermill": {
     "duration": 1.023711,
     "end_time": "2023-05-08T06:28:52.926425",
     "exception": false,
     "start_time": "2023-05-08T06:28:51.902714",
     "status": "completed"
    },
    "tags": []
   },
   "outputs": [
    {
     "data": {
      "text/html": [
       "<div>\n",
       "<style scoped>\n",
       "    .dataframe tbody tr th:only-of-type {\n",
       "        vertical-align: middle;\n",
       "    }\n",
       "\n",
       "    .dataframe tbody tr th {\n",
       "        vertical-align: top;\n",
       "    }\n",
       "\n",
       "    .dataframe thead th {\n",
       "        text-align: right;\n",
       "    }\n",
       "</style>\n",
       "<table border=\"1\" class=\"dataframe\">\n",
       "  <thead>\n",
       "    <tr style=\"text-align: right;\">\n",
       "      <th></th>\n",
       "      <th>0</th>\n",
       "      <th>1</th>\n",
       "      <th>2</th>\n",
       "      <th>3</th>\n",
       "      <th>4</th>\n",
       "      <th>5</th>\n",
       "      <th>6</th>\n",
       "      <th>7</th>\n",
       "      <th>8</th>\n",
       "      <th>9</th>\n",
       "      <th>...</th>\n",
       "      <th>710</th>\n",
       "      <th>711</th>\n",
       "      <th>712</th>\n",
       "      <th>713</th>\n",
       "      <th>714</th>\n",
       "      <th>715</th>\n",
       "      <th>716</th>\n",
       "      <th>717</th>\n",
       "      <th>718</th>\n",
       "      <th>719</th>\n",
       "    </tr>\n",
       "  </thead>\n",
       "  <tbody>\n",
       "    <tr>\n",
       "      <th>0</th>\n",
       "      <td>'Capri Eau de Parfum:'</td>\n",
       "      <td>'Alcohol Denat. (SD Alcohol 39C)</td>\n",
       "      <td>Parfum (Fragrance) D-Limonene</td>\n",
       "      <td>Linalool</td>\n",
       "      <td>Benzyl Salicylate</td>\n",
       "      <td>Ethylhexyl Methoxycinnamate</td>\n",
       "      <td>Butyl Methoxydibenzoylmethane</td>\n",
       "      <td>Ethylhexyl Salicylate</td>\n",
       "      <td>Benzl Benzoate</td>\n",
       "      <td>Citral</td>\n",
       "      <td>...</td>\n",
       "      <td>None</td>\n",
       "      <td>None</td>\n",
       "      <td>None</td>\n",
       "      <td>None</td>\n",
       "      <td>None</td>\n",
       "      <td>None</td>\n",
       "      <td>None</td>\n",
       "      <td>None</td>\n",
       "      <td>None</td>\n",
       "      <td>None</td>\n",
       "    </tr>\n",
       "    <tr>\n",
       "      <th>1</th>\n",
       "      <td>'Alcohol Denat. (SD Alcohol 39C)</td>\n",
       "      <td>Parfum (Fragrance) Ethylhexyl Methoxycinnamate</td>\n",
       "      <td>Ethylhexyl Salicylate</td>\n",
       "      <td>Butyl Methoxydibenzoylmethane</td>\n",
       "      <td>Benzyl Alcohol</td>\n",
       "      <td>Benzyl Benzoate</td>\n",
       "      <td>Benzyl Cinnamate</td>\n",
       "      <td>Cinnamal</td>\n",
       "      <td>Citral</td>\n",
       "      <td>Coumarin Limonene</td>\n",
       "      <td>...</td>\n",
       "      <td>None</td>\n",
       "      <td>None</td>\n",
       "      <td>None</td>\n",
       "      <td>None</td>\n",
       "      <td>None</td>\n",
       "      <td>None</td>\n",
       "      <td>None</td>\n",
       "      <td>None</td>\n",
       "      <td>None</td>\n",
       "      <td>None</td>\n",
       "    </tr>\n",
       "    <tr>\n",
       "      <th>2</th>\n",
       "      <td>'Alcohol Denat. (SD Alcohol 39C)</td>\n",
       "      <td>Parfum (Fragrance) D-Limonene</td>\n",
       "      <td>Ethylhexyl Methoxycinnamate</td>\n",
       "      <td>Butyl Methoxydibenzoylmethane</td>\n",
       "      <td>Ethylhexyl Salicylate</td>\n",
       "      <td>Hexyl Cinnamal Citronellol</td>\n",
       "      <td>Linalool</td>\n",
       "      <td>Coumarin</td>\n",
       "      <td>Eugenol</td>\n",
       "      <td>Citral</td>\n",
       "      <td>...</td>\n",
       "      <td>None</td>\n",
       "      <td>None</td>\n",
       "      <td>None</td>\n",
       "      <td>None</td>\n",
       "      <td>None</td>\n",
       "      <td>None</td>\n",
       "      <td>None</td>\n",
       "      <td>None</td>\n",
       "      <td>None</td>\n",
       "      <td>None</td>\n",
       "    </tr>\n",
       "    <tr>\n",
       "      <th>3</th>\n",
       "      <td>'Alcohol Denat. (SD Alcohol 39C)</td>\n",
       "      <td>Parfum (Fragrance) Coumarin</td>\n",
       "      <td>Ethylhexyl Methoxycinnamate</td>\n",
       "      <td>Butyl Methoxydibenzoylmethane</td>\n",
       "      <td>Ethylhexyl Salicylate</td>\n",
       "      <td>D-Limonene</td>\n",
       "      <td>Eugenol</td>\n",
       "      <td>Linalool</td>\n",
       "      <td>Citronellol</td>\n",
       "      <td>Geraniol</td>\n",
       "      <td>...</td>\n",
       "      <td>None</td>\n",
       "      <td>None</td>\n",
       "      <td>None</td>\n",
       "      <td>None</td>\n",
       "      <td>None</td>\n",
       "      <td>None</td>\n",
       "      <td>None</td>\n",
       "      <td>None</td>\n",
       "      <td>None</td>\n",
       "      <td>None</td>\n",
       "    </tr>\n",
       "    <tr>\n",
       "      <th>4</th>\n",
       "      <td>'Alcohol Denat. (SD Alcohol 39C)</td>\n",
       "      <td>Parfum (Fragrance) Octoxynol-10</td>\n",
       "      <td>D-Limonene</td>\n",
       "      <td>Ethylhexyl Methoxycinnamate</td>\n",
       "      <td>Butyl Methoxydibenzoylmethane</td>\n",
       "      <td>Ethylhexyl Salicylate</td>\n",
       "      <td>Geraniol</td>\n",
       "      <td>Linalool</td>\n",
       "      <td>Coumarin</td>\n",
       "      <td>Farnesol</td>\n",
       "      <td>...</td>\n",
       "      <td>None</td>\n",
       "      <td>None</td>\n",
       "      <td>None</td>\n",
       "      <td>None</td>\n",
       "      <td>None</td>\n",
       "      <td>None</td>\n",
       "      <td>None</td>\n",
       "      <td>None</td>\n",
       "      <td>None</td>\n",
       "      <td>None</td>\n",
       "    </tr>\n",
       "    <tr>\n",
       "      <th>...</th>\n",
       "      <td>...</td>\n",
       "      <td>...</td>\n",
       "      <td>...</td>\n",
       "      <td>...</td>\n",
       "      <td>...</td>\n",
       "      <td>...</td>\n",
       "      <td>...</td>\n",
       "      <td>...</td>\n",
       "      <td>...</td>\n",
       "      <td>...</td>\n",
       "      <td>...</td>\n",
       "      <td>...</td>\n",
       "      <td>...</td>\n",
       "      <td>...</td>\n",
       "      <td>...</td>\n",
       "      <td>...</td>\n",
       "      <td>...</td>\n",
       "      <td>...</td>\n",
       "      <td>...</td>\n",
       "      <td>...</td>\n",
       "      <td>...</td>\n",
       "    </tr>\n",
       "    <tr>\n",
       "      <th>8489</th>\n",
       "      <td>'Talc</td>\n",
       "      <td>Synthetic Fluorphlogopite</td>\n",
       "      <td>Triethylhexanoin</td>\n",
       "      <td>Octyldodecyl Stearoyl Stearate</td>\n",
       "      <td>Ci 77891 / Titanium Dioxide</td>\n",
       "      <td>Caprylyl Glycol</td>\n",
       "      <td>Ci 77491</td>\n",
       "      <td>Ci 77499 / Iron Oxides</td>\n",
       "      <td>Dehydroacetic Acid</td>\n",
       "      <td>Phenoxyethanol</td>\n",
       "      <td>...</td>\n",
       "      <td>None</td>\n",
       "      <td>None</td>\n",
       "      <td>None</td>\n",
       "      <td>None</td>\n",
       "      <td>None</td>\n",
       "      <td>None</td>\n",
       "      <td>None</td>\n",
       "      <td>None</td>\n",
       "      <td>None</td>\n",
       "      <td>None</td>\n",
       "    </tr>\n",
       "    <tr>\n",
       "      <th>8490</th>\n",
       "      <td>'Alcohol</td>\n",
       "      <td>Aqua / Water / Eau</td>\n",
       "      <td>Parfum / Fragrance</td>\n",
       "      <td>Limonene</td>\n",
       "      <td>Linalool</td>\n",
       "      <td>Coumarin</td>\n",
       "      <td>Butyl Methoxydibenzoylmethane</td>\n",
       "      <td>Alpha-Isomethyl Ionone</td>\n",
       "      <td>Geraniol</td>\n",
       "      <td>Citral</td>\n",
       "      <td>...</td>\n",
       "      <td>None</td>\n",
       "      <td>None</td>\n",
       "      <td>None</td>\n",
       "      <td>None</td>\n",
       "      <td>None</td>\n",
       "      <td>None</td>\n",
       "      <td>None</td>\n",
       "      <td>None</td>\n",
       "      <td>None</td>\n",
       "      <td>None</td>\n",
       "    </tr>\n",
       "    <tr>\n",
       "      <th>8491</th>\n",
       "      <td>'Mon Paris Eau de Parfum:'</td>\n",
       "      <td>'Alcohol</td>\n",
       "      <td>Parfum/Fragrance</td>\n",
       "      <td>Aqua/Water</td>\n",
       "      <td>Benzyl Salicylate</td>\n",
       "      <td>Linalool</td>\n",
       "      <td>Benzyl Alcohol</td>\n",
       "      <td>Hydroxycitronellal</td>\n",
       "      <td>Ethylhexyl Methoxycinnamate</td>\n",
       "      <td>Limonene</td>\n",
       "      <td>...</td>\n",
       "      <td>None</td>\n",
       "      <td>None</td>\n",
       "      <td>None</td>\n",
       "      <td>None</td>\n",
       "      <td>None</td>\n",
       "      <td>None</td>\n",
       "      <td>None</td>\n",
       "      <td>None</td>\n",
       "      <td>None</td>\n",
       "      <td>None</td>\n",
       "    </tr>\n",
       "    <tr>\n",
       "      <th>8492</th>\n",
       "      <td>'Alcohol</td>\n",
       "      <td>Parfum/Fragrance</td>\n",
       "      <td>Aqua/Water</td>\n",
       "      <td>Limonene</td>\n",
       "      <td>Linalool</td>\n",
       "      <td>Butyl Methoxydibenzoylmethane</td>\n",
       "      <td>Citral</td>\n",
       "      <td>Citronellol</td>\n",
       "      <td>Alpha-Isomethyl Ionone</td>\n",
       "      <td>Geraniol</td>\n",
       "      <td>...</td>\n",
       "      <td>None</td>\n",
       "      <td>None</td>\n",
       "      <td>None</td>\n",
       "      <td>None</td>\n",
       "      <td>None</td>\n",
       "      <td>None</td>\n",
       "      <td>None</td>\n",
       "      <td>None</td>\n",
       "      <td>None</td>\n",
       "      <td>None</td>\n",
       "    </tr>\n",
       "    <tr>\n",
       "      <th>8493</th>\n",
       "      <td>'Diisostearyl Malate</td>\n",
       "      <td>Bis-Behenyl/Isostearyl/Phytosteryl Dimer Dili...</td>\n",
       "      <td>Pentaerythrityl Adipate/Caprate/Caprylate/Hep...</td>\n",
       "      <td>Vp/Hexadecene Copolymer</td>\n",
       "      <td>Paraffin</td>\n",
       "      <td>Octyldodecanol</td>\n",
       "      <td>Cera Microcristallina/Microcrystalline Wax/Ci...</td>\n",
       "      <td>Sorbitan Sesquioleate</td>\n",
       "      <td>Synthetic Wax</td>\n",
       "      <td>Disteardimonium Hectorite</td>\n",
       "      <td>...</td>\n",
       "      <td>None</td>\n",
       "      <td>None</td>\n",
       "      <td>None</td>\n",
       "      <td>None</td>\n",
       "      <td>None</td>\n",
       "      <td>None</td>\n",
       "      <td>None</td>\n",
       "      <td>None</td>\n",
       "      <td>None</td>\n",
       "      <td>None</td>\n",
       "    </tr>\n",
       "  </tbody>\n",
       "</table>\n",
       "<p>8494 rows × 720 columns</p>\n",
       "</div>"
      ],
      "text/plain": [
       "                                   0    \\\n",
       "0               'Capri Eau de Parfum:'   \n",
       "1     'Alcohol Denat. (SD Alcohol 39C)   \n",
       "2     'Alcohol Denat. (SD Alcohol 39C)   \n",
       "3     'Alcohol Denat. (SD Alcohol 39C)   \n",
       "4     'Alcohol Denat. (SD Alcohol 39C)   \n",
       "...                                ...   \n",
       "8489                             'Talc   \n",
       "8490                          'Alcohol   \n",
       "8491        'Mon Paris Eau de Parfum:'   \n",
       "8492                          'Alcohol   \n",
       "8493              'Diisostearyl Malate   \n",
       "\n",
       "                                                    1    \\\n",
       "0                      'Alcohol Denat. (SD Alcohol 39C)   \n",
       "1        Parfum (Fragrance) Ethylhexyl Methoxycinnamate   \n",
       "2                         Parfum (Fragrance) D-Limonene   \n",
       "3                           Parfum (Fragrance) Coumarin   \n",
       "4                       Parfum (Fragrance) Octoxynol-10   \n",
       "...                                                 ...   \n",
       "8489                          Synthetic Fluorphlogopite   \n",
       "8490                                 Aqua / Water / Eau   \n",
       "8491                                           'Alcohol   \n",
       "8492                                   Parfum/Fragrance   \n",
       "8493   Bis-Behenyl/Isostearyl/Phytosteryl Dimer Dili...   \n",
       "\n",
       "                                                    2    \\\n",
       "0                         Parfum (Fragrance) D-Limonene   \n",
       "1                                 Ethylhexyl Salicylate   \n",
       "2                           Ethylhexyl Methoxycinnamate   \n",
       "3                           Ethylhexyl Methoxycinnamate   \n",
       "4                                            D-Limonene   \n",
       "...                                                 ...   \n",
       "8489                                   Triethylhexanoin   \n",
       "8490                                 Parfum / Fragrance   \n",
       "8491                                   Parfum/Fragrance   \n",
       "8492                                         Aqua/Water   \n",
       "8493   Pentaerythrityl Adipate/Caprate/Caprylate/Hep...   \n",
       "\n",
       "                                  3                               4    \\\n",
       "0                            Linalool               Benzyl Salicylate   \n",
       "1       Butyl Methoxydibenzoylmethane                  Benzyl Alcohol   \n",
       "2       Butyl Methoxydibenzoylmethane           Ethylhexyl Salicylate   \n",
       "3       Butyl Methoxydibenzoylmethane           Ethylhexyl Salicylate   \n",
       "4         Ethylhexyl Methoxycinnamate   Butyl Methoxydibenzoylmethane   \n",
       "...                               ...                             ...   \n",
       "8489   Octyldodecyl Stearoyl Stearate     Ci 77891 / Titanium Dioxide   \n",
       "8490                         Limonene                        Linalool   \n",
       "8491                       Aqua/Water               Benzyl Salicylate   \n",
       "8492                         Limonene                        Linalool   \n",
       "8493          Vp/Hexadecene Copolymer                        Paraffin   \n",
       "\n",
       "                                 5    \\\n",
       "0        Ethylhexyl Methoxycinnamate   \n",
       "1                    Benzyl Benzoate   \n",
       "2         Hexyl Cinnamal Citronellol   \n",
       "3                         D-Limonene   \n",
       "4              Ethylhexyl Salicylate   \n",
       "...                              ...   \n",
       "8489                 Caprylyl Glycol   \n",
       "8490                        Coumarin   \n",
       "8491                        Linalool   \n",
       "8492   Butyl Methoxydibenzoylmethane   \n",
       "8493                  Octyldodecanol   \n",
       "\n",
       "                                                    6    \\\n",
       "0                         Butyl Methoxydibenzoylmethane   \n",
       "1                                      Benzyl Cinnamate   \n",
       "2                                              Linalool   \n",
       "3                                               Eugenol   \n",
       "4                                              Geraniol   \n",
       "...                                                 ...   \n",
       "8489                                           Ci 77491   \n",
       "8490                      Butyl Methoxydibenzoylmethane   \n",
       "8491                                     Benzyl Alcohol   \n",
       "8492                                             Citral   \n",
       "8493   Cera Microcristallina/Microcrystalline Wax/Ci...   \n",
       "\n",
       "                          7                             8    \\\n",
       "0       Ethylhexyl Salicylate                Benzl Benzoate   \n",
       "1                    Cinnamal                        Citral   \n",
       "2                    Coumarin                       Eugenol   \n",
       "3                    Linalool                   Citronellol   \n",
       "4                    Linalool                      Coumarin   \n",
       "...                       ...                           ...   \n",
       "8489   Ci 77499 / Iron Oxides            Dehydroacetic Acid   \n",
       "8490   Alpha-Isomethyl Ionone                      Geraniol   \n",
       "8491       Hydroxycitronellal   Ethylhexyl Methoxycinnamate   \n",
       "8492              Citronellol        Alpha-Isomethyl Ionone   \n",
       "8493    Sorbitan Sesquioleate                 Synthetic Wax   \n",
       "\n",
       "                             9    ...   710   711   712   713   714   715  \\\n",
       "0                         Citral  ...  None  None  None  None  None  None   \n",
       "1              Coumarin Limonene  ...  None  None  None  None  None  None   \n",
       "2                         Citral  ...  None  None  None  None  None  None   \n",
       "3                       Geraniol  ...  None  None  None  None  None  None   \n",
       "4                       Farnesol  ...  None  None  None  None  None  None   \n",
       "...                          ...  ...   ...   ...   ...   ...   ...   ...   \n",
       "8489              Phenoxyethanol  ...  None  None  None  None  None  None   \n",
       "8490                      Citral  ...  None  None  None  None  None  None   \n",
       "8491                    Limonene  ...  None  None  None  None  None  None   \n",
       "8492                    Geraniol  ...  None  None  None  None  None  None   \n",
       "8493   Disteardimonium Hectorite  ...  None  None  None  None  None  None   \n",
       "\n",
       "       716   717   718   719  \n",
       "0     None  None  None  None  \n",
       "1     None  None  None  None  \n",
       "2     None  None  None  None  \n",
       "3     None  None  None  None  \n",
       "4     None  None  None  None  \n",
       "...    ...   ...   ...   ...  \n",
       "8489  None  None  None  None  \n",
       "8490  None  None  None  None  \n",
       "8491  None  None  None  None  \n",
       "8492  None  None  None  None  \n",
       "8493  None  None  None  None  \n",
       "\n",
       "[8494 rows x 720 columns]"
      ]
     },
     "execution_count": 9,
     "metadata": {},
     "output_type": "execute_result"
    }
   ],
   "source": [
    "df_products.ingredients.str.replace('[', '', regex=False).str.replace(']', '', regex=False).str.split(',',expand=True)"
   ]
  },
  {
   "cell_type": "markdown",
   "id": "d836ac10",
   "metadata": {
    "papermill": {
     "duration": 0.008626,
     "end_time": "2023-05-08T06:28:52.944114",
     "exception": false,
     "start_time": "2023-05-08T06:28:52.935488",
     "status": "completed"
    },
    "tags": []
   },
   "source": [
    "#Sentiment Analysis"
   ]
  },
  {
   "cell_type": "code",
   "execution_count": 10,
   "id": "a3b53567",
   "metadata": {
    "execution": {
     "iopub.execute_input": "2023-05-08T06:29:02.653746Z",
     "iopub.status.busy": "2023-05-08T06:29:02.653368Z",
     "iopub.status.idle": "2023-05-08T06:29:20.283150Z",
     "shell.execute_reply": "2023-05-08T06:29:20.282090Z"
    },
    "papermill": {
     "duration": 17.643189,
     "end_time": "2023-05-08T06:29:20.285815",
     "exception": false,
     "start_time": "2023-05-08T06:29:02.642626",
     "status": "completed"
    },
    "tags": []
   },
   "outputs": [],
   "source": [
    "reviews_250 = pd.read_csv(r\"C:\\Users\\shanm\\Downloads\\reviews_0_250.csv\\reviews_0_250.csv\",low_memory = False)\n",
    "# reviews_500 = pd.read_csv('/kaggle/input/sephora-products-and-skincare-reviews/reviews_250_500.csv',low_memory = False)\n",
    "# reviwes_750 = pd.read_csv('/kaggle/input/sephora-products-and-skincare-reviews/reviews_500_750.csv',low_memory = False)\n",
    "# reviwes_1000 = pd.read_csv('/kaggle/input/sephora-products-and-skincare-reviews/reviews_750_1000.csv',low_memory = False)\n",
    "# reviwes_1500 = pd.read_csv('/kaggle/input/sephora-products-and-skincare-reviews/reviews_1000_1500.csv',low_memory = False)\n"
   ]
  },
  {
   "cell_type": "code",
   "execution_count": 11,
   "id": "1558f77b",
   "metadata": {
    "execution": {
     "iopub.execute_input": "2023-05-08T06:29:20.307839Z",
     "iopub.status.busy": "2023-05-08T06:29:20.305784Z",
     "iopub.status.idle": "2023-05-08T06:29:21.663252Z",
     "shell.execute_reply": "2023-05-08T06:29:21.662290Z"
    },
    "papermill": {
     "duration": 1.369843,
     "end_time": "2023-05-08T06:29:21.665392",
     "exception": false,
     "start_time": "2023-05-08T06:29:20.295549",
     "status": "completed"
    },
    "tags": []
   },
   "outputs": [
    {
     "data": {
      "text/html": [
       "<div>\n",
       "<style scoped>\n",
       "    .dataframe tbody tr th:only-of-type {\n",
       "        vertical-align: middle;\n",
       "    }\n",
       "\n",
       "    .dataframe tbody tr th {\n",
       "        vertical-align: top;\n",
       "    }\n",
       "\n",
       "    .dataframe thead th {\n",
       "        text-align: right;\n",
       "    }\n",
       "</style>\n",
       "<table border=\"1\" class=\"dataframe\">\n",
       "  <thead>\n",
       "    <tr style=\"text-align: right;\">\n",
       "      <th></th>\n",
       "      <th>review_text</th>\n",
       "      <th>is_recommended</th>\n",
       "      <th>rating</th>\n",
       "    </tr>\n",
       "  </thead>\n",
       "  <tbody>\n",
       "    <tr>\n",
       "      <th>0</th>\n",
       "      <td>I use this with the Nudestix “Citrus Clean Bal...</td>\n",
       "      <td>1.0</td>\n",
       "      <td>5</td>\n",
       "    </tr>\n",
       "    <tr>\n",
       "      <th>1</th>\n",
       "      <td>I bought this lip mask after reading the revie...</td>\n",
       "      <td>0.0</td>\n",
       "      <td>1</td>\n",
       "    </tr>\n",
       "    <tr>\n",
       "      <th>2</th>\n",
       "      <td>My review title says it all! I get so excited ...</td>\n",
       "      <td>1.0</td>\n",
       "      <td>5</td>\n",
       "    </tr>\n",
       "    <tr>\n",
       "      <th>3</th>\n",
       "      <td>I’ve always loved this formula for a long time...</td>\n",
       "      <td>1.0</td>\n",
       "      <td>5</td>\n",
       "    </tr>\n",
       "    <tr>\n",
       "      <th>4</th>\n",
       "      <td>If you have dry cracked lips, this is a must h...</td>\n",
       "      <td>1.0</td>\n",
       "      <td>5</td>\n",
       "    </tr>\n",
       "    <tr>\n",
       "      <th>...</th>\n",
       "      <td>...</td>\n",
       "      <td>...</td>\n",
       "      <td>...</td>\n",
       "    </tr>\n",
       "    <tr>\n",
       "      <th>602125</th>\n",
       "      <td>I can’t say enough great things about this pro...</td>\n",
       "      <td>1.0</td>\n",
       "      <td>5</td>\n",
       "    </tr>\n",
       "    <tr>\n",
       "      <th>602126</th>\n",
       "      <td>I have been using this product for over 6 week...</td>\n",
       "      <td>1.0</td>\n",
       "      <td>5</td>\n",
       "    </tr>\n",
       "    <tr>\n",
       "      <th>602127</th>\n",
       "      <td>I love the Triple Algae Eye Renewal Balm! Once...</td>\n",
       "      <td>1.0</td>\n",
       "      <td>5</td>\n",
       "    </tr>\n",
       "    <tr>\n",
       "      <th>602128</th>\n",
       "      <td>This made the lines around my eyes so much bet...</td>\n",
       "      <td>1.0</td>\n",
       "      <td>5</td>\n",
       "    </tr>\n",
       "    <tr>\n",
       "      <th>602129</th>\n",
       "      <td>So rich &amp; creamy, yet not greasy . . .  It rea...</td>\n",
       "      <td>1.0</td>\n",
       "      <td>5</td>\n",
       "    </tr>\n",
       "  </tbody>\n",
       "</table>\n",
       "<p>602130 rows × 3 columns</p>\n",
       "</div>"
      ],
      "text/plain": [
       "                                              review_text  is_recommended  \\\n",
       "0       I use this with the Nudestix “Citrus Clean Bal...             1.0   \n",
       "1       I bought this lip mask after reading the revie...             0.0   \n",
       "2       My review title says it all! I get so excited ...             1.0   \n",
       "3       I’ve always loved this formula for a long time...             1.0   \n",
       "4       If you have dry cracked lips, this is a must h...             1.0   \n",
       "...                                                   ...             ...   \n",
       "602125  I can’t say enough great things about this pro...             1.0   \n",
       "602126  I have been using this product for over 6 week...             1.0   \n",
       "602127  I love the Triple Algae Eye Renewal Balm! Once...             1.0   \n",
       "602128  This made the lines around my eyes so much bet...             1.0   \n",
       "602129  So rich & creamy, yet not greasy . . .  It rea...             1.0   \n",
       "\n",
       "        rating  \n",
       "0            5  \n",
       "1            1  \n",
       "2            5  \n",
       "3            5  \n",
       "4            5  \n",
       "...        ...  \n",
       "602125       5  \n",
       "602126       5  \n",
       "602127       5  \n",
       "602128       5  \n",
       "602129       5  \n",
       "\n",
       "[602130 rows x 3 columns]"
      ]
     },
     "execution_count": 11,
     "metadata": {},
     "output_type": "execute_result"
    }
   ],
   "source": [
    "reviews = pd.concat([reviews_250])##, reviews_500, reviwes_750, reviwes_1000 , reviwes_1500])\n",
    "reviews = reviews[['review_text' , 'is_recommended' , 'rating']]\n",
    "reviews"
   ]
  },
  {
   "cell_type": "code",
   "execution_count": 12,
   "id": "4760f0b1",
   "metadata": {
    "execution": {
     "iopub.execute_input": "2023-05-08T06:29:21.685988Z",
     "iopub.status.busy": "2023-05-08T06:29:21.685621Z",
     "iopub.status.idle": "2023-05-08T06:29:21.983331Z",
     "shell.execute_reply": "2023-05-08T06:29:21.982182Z"
    },
    "papermill": {
     "duration": 0.310804,
     "end_time": "2023-05-08T06:29:21.985705",
     "exception": false,
     "start_time": "2023-05-08T06:29:21.674901",
     "status": "completed"
    },
    "tags": []
   },
   "outputs": [
    {
     "data": {
      "text/plain": [
       "review_text       999\n",
       "label          117486\n",
       "rating              0\n",
       "dtype: int64"
      ]
     },
     "execution_count": 12,
     "metadata": {},
     "output_type": "execute_result"
    }
   ],
   "source": [
    "reviews.rename(columns = {'is_recommended':'label'},inplace=True)\n",
    "reviews.isna().sum()"
   ]
  },
  {
   "cell_type": "code",
   "execution_count": 13,
   "id": "74146872",
   "metadata": {
    "execution": {
     "iopub.execute_input": "2023-05-08T06:29:22.006724Z",
     "iopub.status.busy": "2023-05-08T06:29:22.006273Z",
     "iopub.status.idle": "2023-05-08T06:29:22.679080Z",
     "shell.execute_reply": "2023-05-08T06:29:22.678087Z"
    },
    "papermill": {
     "duration": 0.686335,
     "end_time": "2023-05-08T06:29:22.681694",
     "exception": false,
     "start_time": "2023-05-08T06:29:21.995359",
     "status": "completed"
    },
    "tags": []
   },
   "outputs": [],
   "source": [
    "reviews.isnull().sum()\n",
    "reviews.dropna(inplace=True)"
   ]
  },
  {
   "cell_type": "code",
   "execution_count": 14,
   "id": "cb71d5db",
   "metadata": {
    "execution": {
     "iopub.execute_input": "2023-05-08T06:29:22.702809Z",
     "iopub.status.busy": "2023-05-08T06:29:22.702419Z",
     "iopub.status.idle": "2023-05-08T06:29:22.958191Z",
     "shell.execute_reply": "2023-05-08T06:29:22.956893Z"
    },
    "papermill": {
     "duration": 0.26898,
     "end_time": "2023-05-08T06:29:22.960306",
     "exception": false,
     "start_time": "2023-05-08T06:29:22.691326",
     "status": "completed"
    },
    "tags": []
   },
   "outputs": [
    {
     "name": "stdout",
     "output_type": "stream",
     "text": [
      "<class 'pandas.core.frame.DataFrame'>\n",
      "Int64Index: 483645 entries, 0 to 602129\n",
      "Data columns (total 3 columns):\n",
      " #   Column       Non-Null Count   Dtype  \n",
      "---  ------       --------------   -----  \n",
      " 0   review_text  483645 non-null  object \n",
      " 1   label        483645 non-null  float64\n",
      " 2   rating       483645 non-null  int64  \n",
      "dtypes: float64(1), int64(1), object(1)\n",
      "memory usage: 14.8+ MB\n"
     ]
    }
   ],
   "source": [
    "reviews.label.astype(int)\n",
    "reviews.info()"
   ]
  },
  {
   "cell_type": "code",
   "execution_count": 15,
   "id": "f48a5589",
   "metadata": {
    "execution": {
     "iopub.execute_input": "2023-05-08T06:29:22.980673Z",
     "iopub.status.busy": "2023-05-08T06:29:22.980286Z",
     "iopub.status.idle": "2023-05-08T06:29:23.006596Z",
     "shell.execute_reply": "2023-05-08T06:29:23.005538Z"
    },
    "papermill": {
     "duration": 0.03928,
     "end_time": "2023-05-08T06:29:23.008927",
     "exception": false,
     "start_time": "2023-05-08T06:29:22.969647",
     "status": "completed"
    },
    "tags": []
   },
   "outputs": [
    {
     "data": {
      "text/plain": [
       "78410"
      ]
     },
     "execution_count": 15,
     "metadata": {},
     "output_type": "execute_result"
    }
   ],
   "source": [
    "num_neg = pd.DataFrame(reviews.label.value_counts().reset_index()).iloc[1,1]\n",
    "num_neg"
   ]
  },
  {
   "cell_type": "code",
   "execution_count": 16,
   "id": "765e0ec3",
   "metadata": {
    "execution": {
     "iopub.execute_input": "2023-05-08T06:29:23.030199Z",
     "iopub.status.busy": "2023-05-08T06:29:23.029796Z",
     "iopub.status.idle": "2023-05-08T06:29:23.340030Z",
     "shell.execute_reply": "2023-05-08T06:29:23.338860Z"
    },
    "papermill": {
     "duration": 0.323769,
     "end_time": "2023-05-08T06:29:23.342368",
     "exception": false,
     "start_time": "2023-05-08T06:29:23.018599",
     "status": "completed"
    },
    "tags": []
   },
   "outputs": [
    {
     "data": {
      "text/plain": [
       "0.0    78410\n",
       "1.0    78410\n",
       "Name: label, dtype: int64"
      ]
     },
     "execution_count": 16,
     "metadata": {},
     "output_type": "execute_result"
    }
   ],
   "source": [
    "reviews_sample = reviews.groupby('label').apply(lambda x : x.sample(num_neg))\n",
    "reviews_sample.label.value_counts()"
   ]
  },
  {
   "cell_type": "markdown",
   "id": "5e6db122",
   "metadata": {
    "papermill": {
     "duration": 0.009351,
     "end_time": "2023-05-08T06:29:23.361549",
     "exception": false,
     "start_time": "2023-05-08T06:29:23.352198",
     "status": "completed"
    },
    "tags": []
   },
   "source": [
    "#text pre-processing"
   ]
  },
  {
   "cell_type": "code",
   "execution_count": 17,
   "id": "a6b0f804",
   "metadata": {
    "execution": {
     "iopub.execute_input": "2023-05-08T06:29:23.383662Z",
     "iopub.status.busy": "2023-05-08T06:29:23.383294Z",
     "iopub.status.idle": "2023-05-08T06:29:24.383884Z",
     "shell.execute_reply": "2023-05-08T06:29:24.382839Z"
    },
    "papermill": {
     "duration": 1.014072,
     "end_time": "2023-05-08T06:29:24.386119",
     "exception": false,
     "start_time": "2023-05-08T06:29:23.372047",
     "status": "completed"
    },
    "tags": []
   },
   "outputs": [
    {
     "data": {
      "text/plain": [
       "'!\"#$%&\\'()*+,-./:;<=>?@[\\\\]^_`{|}~'"
      ]
     },
     "execution_count": 17,
     "metadata": {},
     "output_type": "execute_result"
    }
   ],
   "source": [
    "from sklearn.utils import shuffle\n",
    "import string\n",
    "string.punctuation"
   ]
  },
  {
   "cell_type": "code",
   "execution_count": 18,
   "id": "c4f341b7",
   "metadata": {
    "execution": {
     "iopub.execute_input": "2023-05-08T06:29:24.408034Z",
     "iopub.status.busy": "2023-05-08T06:29:24.407034Z",
     "iopub.status.idle": "2023-05-08T06:29:24.478377Z",
     "shell.execute_reply": "2023-05-08T06:29:24.477348Z"
    },
    "papermill": {
     "duration": 0.084505,
     "end_time": "2023-05-08T06:29:24.480605",
     "exception": false,
     "start_time": "2023-05-08T06:29:24.396100",
     "status": "completed"
    },
    "tags": []
   },
   "outputs": [
    {
     "data": {
      "text/html": [
       "<div>\n",
       "<style scoped>\n",
       "    .dataframe tbody tr th:only-of-type {\n",
       "        vertical-align: middle;\n",
       "    }\n",
       "\n",
       "    .dataframe tbody tr th {\n",
       "        vertical-align: top;\n",
       "    }\n",
       "\n",
       "    .dataframe thead th {\n",
       "        text-align: right;\n",
       "    }\n",
       "</style>\n",
       "<table border=\"1\" class=\"dataframe\">\n",
       "  <thead>\n",
       "    <tr style=\"text-align: right;\">\n",
       "      <th></th>\n",
       "      <th>review_text</th>\n",
       "      <th>label</th>\n",
       "      <th>rating</th>\n",
       "    </tr>\n",
       "  </thead>\n",
       "  <tbody>\n",
       "    <tr>\n",
       "      <th>0</th>\n",
       "      <td>Gel type moisturizers aren’t typically my go-t...</td>\n",
       "      <td>1.0</td>\n",
       "      <td>5</td>\n",
       "    </tr>\n",
       "    <tr>\n",
       "      <th>1</th>\n",
       "      <td>smells great! works really well on my acne sca...</td>\n",
       "      <td>1.0</td>\n",
       "      <td>4</td>\n",
       "    </tr>\n",
       "    <tr>\n",
       "      <th>2</th>\n",
       "      <td>Caused me so many breakouts. I thought this wo...</td>\n",
       "      <td>0.0</td>\n",
       "      <td>1</td>\n",
       "    </tr>\n",
       "    <tr>\n",
       "      <th>3</th>\n",
       "      <td>I could not be happier with this mask! I alway...</td>\n",
       "      <td>1.0</td>\n",
       "      <td>5</td>\n",
       "    </tr>\n",
       "    <tr>\n",
       "      <th>4</th>\n",
       "      <td>Fastest acting spot reducer I have ever tried....</td>\n",
       "      <td>1.0</td>\n",
       "      <td>5</td>\n",
       "    </tr>\n",
       "    <tr>\n",
       "      <th>...</th>\n",
       "      <td>...</td>\n",
       "      <td>...</td>\n",
       "      <td>...</td>\n",
       "    </tr>\n",
       "    <tr>\n",
       "      <th>156815</th>\n",
       "      <td>I got this complimentary in exchange for revie...</td>\n",
       "      <td>0.0</td>\n",
       "      <td>2</td>\n",
       "    </tr>\n",
       "    <tr>\n",
       "      <th>156816</th>\n",
       "      <td>I have been taking care of my skin religiously...</td>\n",
       "      <td>0.0</td>\n",
       "      <td>1</td>\n",
       "    </tr>\n",
       "    <tr>\n",
       "      <th>156817</th>\n",
       "      <td>I love love love this product!!! Works amazing...</td>\n",
       "      <td>1.0</td>\n",
       "      <td>5</td>\n",
       "    </tr>\n",
       "    <tr>\n",
       "      <th>156818</th>\n",
       "      <td>I purchased the Sephora Collection Ultra Glow ...</td>\n",
       "      <td>0.0</td>\n",
       "      <td>2</td>\n",
       "    </tr>\n",
       "    <tr>\n",
       "      <th>156819</th>\n",
       "      <td>I usually use a normal scrub in the shower and...</td>\n",
       "      <td>1.0</td>\n",
       "      <td>5</td>\n",
       "    </tr>\n",
       "  </tbody>\n",
       "</table>\n",
       "<p>156820 rows × 3 columns</p>\n",
       "</div>"
      ],
      "text/plain": [
       "                                              review_text  label  rating\n",
       "0       Gel type moisturizers aren’t typically my go-t...    1.0       5\n",
       "1       smells great! works really well on my acne sca...    1.0       4\n",
       "2       Caused me so many breakouts. I thought this wo...    0.0       1\n",
       "3       I could not be happier with this mask! I alway...    1.0       5\n",
       "4       Fastest acting spot reducer I have ever tried....    1.0       5\n",
       "...                                                   ...    ...     ...\n",
       "156815  I got this complimentary in exchange for revie...    0.0       2\n",
       "156816  I have been taking care of my skin religiously...    0.0       1\n",
       "156817  I love love love this product!!! Works amazing...    1.0       5\n",
       "156818  I purchased the Sephora Collection Ultra Glow ...    0.0       2\n",
       "156819  I usually use a normal scrub in the shower and...    1.0       5\n",
       "\n",
       "[156820 rows x 3 columns]"
      ]
     },
     "execution_count": 18,
     "metadata": {},
     "output_type": "execute_result"
    }
   ],
   "source": [
    "reviews_sample= shuffle(reviews_sample)\n",
    "reviews_sample.reset_index(drop=True, inplace= True)\n",
    "reviews_sample"
   ]
  },
  {
   "cell_type": "code",
   "execution_count": 19,
   "id": "1e1e268c",
   "metadata": {
    "execution": {
     "iopub.execute_input": "2023-05-08T06:29:24.502531Z",
     "iopub.status.busy": "2023-05-08T06:29:24.502173Z",
     "iopub.status.idle": "2023-05-08T06:29:28.186937Z",
     "shell.execute_reply": "2023-05-08T06:29:28.185886Z"
    },
    "papermill": {
     "duration": 3.698947,
     "end_time": "2023-05-08T06:29:28.189775",
     "exception": false,
     "start_time": "2023-05-08T06:29:24.490828",
     "status": "completed"
    },
    "tags": []
   },
   "outputs": [],
   "source": [
    "#reviews_sample.to_csv('/kaggle/working/reviews_sample.csv')"
   ]
  },
  {
   "cell_type": "code",
   "execution_count": 20,
   "id": "2ba9c15b",
   "metadata": {
    "execution": {
     "iopub.execute_input": "2023-05-08T06:29:28.212721Z",
     "iopub.status.busy": "2023-05-08T06:29:28.212363Z",
     "iopub.status.idle": "2023-05-08T06:29:30.100482Z",
     "shell.execute_reply": "2023-05-08T06:29:30.099525Z"
    },
    "papermill": {
     "duration": 1.902374,
     "end_time": "2023-05-08T06:29:30.102959",
     "exception": false,
     "start_time": "2023-05-08T06:29:28.200585",
     "status": "completed"
    },
    "tags": []
   },
   "outputs": [],
   "source": [
    "#reviews_sample = pd.read_csv('/kaggle/working/reviews_sample.csv')"
   ]
  },
  {
   "cell_type": "code",
   "execution_count": 19,
   "id": "e8398b18",
   "metadata": {
    "execution": {
     "iopub.execute_input": "2023-05-08T06:29:30.124816Z",
     "iopub.status.busy": "2023-05-08T06:29:30.124465Z",
     "iopub.status.idle": "2023-05-08T06:29:31.624608Z",
     "shell.execute_reply": "2023-05-08T06:29:31.623480Z"
    },
    "papermill": {
     "duration": 1.513737,
     "end_time": "2023-05-08T06:29:31.626889",
     "exception": false,
     "start_time": "2023-05-08T06:29:30.113152",
     "status": "completed"
    },
    "tags": []
   },
   "outputs": [
    {
     "data": {
      "text/plain": [
       "0          51\n",
       "1          44\n",
       "2          29\n",
       "3          45\n",
       "4          50\n",
       "         ... \n",
       "156815     55\n",
       "156816     82\n",
       "156817     29\n",
       "156818    113\n",
       "156819    246\n",
       "Name: text_word_count, Length: 156820, dtype: int64"
      ]
     },
     "execution_count": 19,
     "metadata": {},
     "output_type": "execute_result"
    }
   ],
   "source": [
    "#number of words in each review\n",
    "reviews_sample['text_word_count']=reviews_sample['review_text'].apply(lambda x:len(x.split()))\n",
    "reviews_sample['text_word_count']"
   ]
  },
  {
   "cell_type": "markdown",
   "id": "bad9aedd",
   "metadata": {
    "papermill": {
     "duration": 0.009906,
     "end_time": "2023-05-08T06:29:31.647242",
     "exception": false,
     "start_time": "2023-05-08T06:29:31.637336",
     "status": "completed"
    },
    "tags": []
   },
   "source": [
    "To prepare the text data for the model building we perform text preprocessing. It is the very first step of NLP projects. Some of the preprocessing steps are:\n",
    "\n",
    "Removing punctuations \\\n",
    "Removing URLs\\\n",
    "Removing Stop words\\\n",
    "Lower casing\\\n",
    "Tokenization\\\n",
    "Stemming\\\n",
    "Lemmatization"
   ]
  },
  {
   "cell_type": "code",
   "execution_count": 20,
   "id": "8fe4e7cb",
   "metadata": {
    "execution": {
     "iopub.execute_input": "2023-05-08T06:29:31.669683Z",
     "iopub.status.busy": "2023-05-08T06:29:31.669295Z",
     "iopub.status.idle": "2023-05-08T06:29:46.199833Z",
     "shell.execute_reply": "2023-05-08T06:29:46.198751Z"
    },
    "papermill": {
     "duration": 14.544802,
     "end_time": "2023-05-08T06:29:46.202405",
     "exception": false,
     "start_time": "2023-05-08T06:29:31.657603",
     "status": "completed"
    },
    "tags": []
   },
   "outputs": [],
   "source": [
    "# removing punctuations\n",
    "def remove_punc(text):\n",
    "    \n",
    "    clean_text = \"\".join([i for i in text if i not in string.punctuation])\n",
    "    return clean_text\n",
    "\n",
    "reviews_sample['clean_text']  = reviews_sample['review_text'].apply(lambda x: remove_punc(x))\n"
   ]
  },
  {
   "cell_type": "code",
   "execution_count": 21,
   "id": "767607cc",
   "metadata": {},
   "outputs": [
    {
     "name": "stdout",
     "output_type": "stream",
     "text": [
      "Requirement already satisfied: bs4 in c:\\users\\shanm\\anaconda3\\envs\\keras_env\\lib\\site-packages (0.0.1)\n",
      "Requirement already satisfied: beautifulsoup4 in c:\\users\\shanm\\anaconda3\\envs\\keras_env\\lib\\site-packages (from bs4) (4.12.2)\n",
      "Requirement already satisfied: soupsieve>1.2 in c:\\users\\shanm\\anaconda3\\envs\\keras_env\\lib\\site-packages (from beautifulsoup4->bs4) (2.4.1)\n",
      "Note: you may need to restart the kernel to use updated packages.\n"
     ]
    }
   ],
   "source": [
    "pip install bs4"
   ]
  },
  {
   "cell_type": "code",
   "execution_count": 22,
   "id": "f4a0993f",
   "metadata": {
    "execution": {
     "iopub.execute_input": "2023-05-08T06:29:46.225789Z",
     "iopub.status.busy": "2023-05-08T06:29:46.225438Z",
     "iopub.status.idle": "2023-05-08T06:30:02.720204Z",
     "shell.execute_reply": "2023-05-08T06:30:02.719057Z"
    },
    "papermill": {
     "duration": 16.509448,
     "end_time": "2023-05-08T06:30:02.722904",
     "exception": false,
     "start_time": "2023-05-08T06:29:46.213456",
     "status": "completed"
    },
    "tags": []
   },
   "outputs": [],
   "source": [
    "# removing HTML text\n",
    "from bs4 import BeautifulSoup\n",
    "def strip_html(text):\n",
    "    soup = BeautifulSoup(text, \"html.parser\")\n",
    "    return soup.get_text()\n",
    "reviews_sample['clean_text']  = reviews_sample['clean_text'].apply(lambda x: strip_html(x))\n"
   ]
  },
  {
   "cell_type": "code",
   "execution_count": 23,
   "id": "f1a6bb19",
   "metadata": {
    "execution": {
     "iopub.execute_input": "2023-05-08T06:30:02.745322Z",
     "iopub.status.busy": "2023-05-08T06:30:02.744665Z",
     "iopub.status.idle": "2023-05-08T06:30:03.741477Z",
     "shell.execute_reply": "2023-05-08T06:30:03.740479Z"
    },
    "papermill": {
     "duration": 1.010729,
     "end_time": "2023-05-08T06:30:03.744115",
     "exception": false,
     "start_time": "2023-05-08T06:30:02.733386",
     "status": "completed"
    },
    "tags": []
   },
   "outputs": [],
   "source": [
    "# converting to lower case\n",
    "reviews_sample['clean_text']  = reviews_sample['clean_text'].apply(lambda x: x.lower())"
   ]
  },
  {
   "cell_type": "code",
   "execution_count": 24,
   "id": "f3444730",
   "metadata": {},
   "outputs": [],
   "source": [
    "import re\n",
    "def remove_special_characters(text, remove_digits=True):\n",
    "    text = re.sub(\"\\d\", \"\", text)\n",
    "    return text\n",
    "reviews_sample['clean_text']  = reviews_sample['clean_text'].apply(remove_special_characters)"
   ]
  },
  {
   "cell_type": "code",
   "execution_count": 25,
   "id": "ab825582",
   "metadata": {},
   "outputs": [
    {
     "name": "stderr",
     "output_type": "stream",
     "text": [
      "[nltk_data] Downloading package punkt to\n",
      "[nltk_data]     C:\\Users\\shanm\\AppData\\Roaming\\nltk_data...\n",
      "[nltk_data]   Package punkt is already up-to-date!\n"
     ]
    },
    {
     "data": {
      "text/plain": [
       "True"
      ]
     },
     "execution_count": 25,
     "metadata": {},
     "output_type": "execute_result"
    }
   ],
   "source": [
    "import nltk\n",
    "nltk.download('punkt')"
   ]
  },
  {
   "cell_type": "code",
   "execution_count": 26,
   "id": "18ea017c",
   "metadata": {
    "execution": {
     "iopub.execute_input": "2023-05-08T06:30:07.900168Z",
     "iopub.status.busy": "2023-05-08T06:30:07.899767Z",
     "iopub.status.idle": "2023-05-08T06:30:44.097380Z",
     "shell.execute_reply": "2023-05-08T06:30:44.096388Z"
    },
    "papermill": {
     "duration": 36.212384,
     "end_time": "2023-05-08T06:30:44.100069",
     "exception": false,
     "start_time": "2023-05-08T06:30:07.887685",
     "status": "completed"
    },
    "tags": []
   },
   "outputs": [],
   "source": [
    "#stop words removal\n",
    "import nltk \n",
    "stopwords = nltk.corpus.stopwords.words('english')\n",
    "from nltk.tokenize import word_tokenize \n",
    "stopwords[0:10]\n",
    "def remove_stopwords(text):\n",
    "    text = [i for i in word_tokenize(text) if i not in stopwords]\n",
    "    return text\n",
    "reviews_sample['tokenized_text']  = reviews_sample['clean_text'].apply(remove_stopwords)"
   ]
  },
  {
   "cell_type": "code",
   "execution_count": 27,
   "id": "0a05400e",
   "metadata": {
    "execution": {
     "iopub.execute_input": "2023-05-08T06:30:44.126911Z",
     "iopub.status.busy": "2023-05-08T06:30:44.126232Z",
     "iopub.status.idle": "2023-05-08T06:35:22.565463Z",
     "shell.execute_reply": "2023-05-08T06:35:22.564394Z"
    },
    "papermill": {
     "duration": 278.457323,
     "end_time": "2023-05-08T06:35:22.567921",
     "exception": false,
     "start_time": "2023-05-08T06:30:44.110598",
     "status": "completed"
    },
    "tags": []
   },
   "outputs": [],
   "source": [
    "#stemming\n",
    "from nltk.stem.porter import PorterStemmer\n",
    "porterstemmer = PorterStemmer()\n",
    "def stemming(text):\n",
    "    text =[porterstemmer.stem(word) for word in text]\n",
    "    return text\n",
    "reviews_sample['tokenized_text']  = reviews_sample['tokenized_text'].apply(stemming)"
   ]
  },
  {
   "cell_type": "code",
   "execution_count": 29,
   "id": "e6e9a5ee",
   "metadata": {
    "execution": {
     "iopub.execute_input": "2023-05-08T06:35:22.591062Z",
     "iopub.status.busy": "2023-05-08T06:35:22.590694Z",
     "iopub.status.idle": "2023-05-08T06:35:22.691352Z",
     "shell.execute_reply": "2023-05-08T06:35:22.690097Z"
    },
    "papermill": {
     "duration": 0.115067,
     "end_time": "2023-05-08T06:35:22.693639",
     "exception": false,
     "start_time": "2023-05-08T06:35:22.578572",
     "status": "completed"
    },
    "tags": []
   },
   "outputs": [
    {
     "data": {
      "text/plain": [
       "tokenized_text    [gel, type, moistur, ’, typic, goto, one, impr...\n",
       "clean_text        gel type moisturizers aren’t typically my goto...\n",
       "Name: 0, dtype: object"
      ]
     },
     "execution_count": 29,
     "metadata": {},
     "output_type": "execute_result"
    }
   ],
   "source": [
    "reviews_sample[['tokenized_text','clean_text']].iloc[0,:]"
   ]
  },
  {
   "cell_type": "code",
   "execution_count": 30,
   "id": "c921febe",
   "metadata": {},
   "outputs": [],
   "source": [
    "reviews_sample['tokenized_text_2']  = reviews_sample['tokenized_text'].apply(lambda x :' '.join(i for i in x))"
   ]
  },
  {
   "cell_type": "code",
   "execution_count": 31,
   "id": "fee68d2a",
   "metadata": {},
   "outputs": [
    {
     "data": {
      "text/plain": [
       "tokenized_text_2    gel type moistur ’ typic goto one impress gel ...\n",
       "clean_text          gel type moisturizers aren’t typically my goto...\n",
       "Name: 0, dtype: object"
      ]
     },
     "execution_count": 31,
     "metadata": {},
     "output_type": "execute_result"
    }
   ],
   "source": [
    "reviews_sample[['tokenized_text_2','clean_text']].iloc[0,:]"
   ]
  },
  {
   "cell_type": "code",
   "execution_count": 32,
   "id": "1b69a787",
   "metadata": {},
   "outputs": [],
   "source": [
    "X= reviews_sample['tokenized_text_2']\n",
    "y = reviews_sample['label'] "
   ]
  },
  {
   "cell_type": "code",
   "execution_count": 35,
   "id": "7fe8a2ab",
   "metadata": {},
   "outputs": [],
   "source": [
    "reviews_sample.to_csv(r'C:\\Users\\shanm\\OneDrive\\Desktop\\Git_data\\Sephora_sample\\X_reviews_sample.csv')"
   ]
  },
  {
   "cell_type": "code",
   "execution_count": 106,
   "id": "f631ebed",
   "metadata": {},
   "outputs": [],
   "source": [
    "from sklearn.model_selection import train_test_split\n",
    "\n",
    "# Split the data into train and test sets\n",
    "X_train, X_test, y_train, y_test = train_test_split(X, y, test_size=0.50)"
   ]
  },
  {
   "cell_type": "code",
   "execution_count": 107,
   "id": "bc878d74",
   "metadata": {},
   "outputs": [],
   "source": [
    "from sklearn.preprocessing import LabelEncoder\n",
    "le = LabelEncoder() # encoding\n",
    "y_train_label= le.fit_transform(y_train)\n",
    "y_test_label= le.transform(y_test)"
   ]
  },
  {
   "cell_type": "code",
   "execution_count": 108,
   "id": "cb57b119",
   "metadata": {},
   "outputs": [],
   "source": [
    "from sklearn.feature_extraction.text import CountVectorizer\n",
    "vec = CountVectorizer(stop_words=\"english\", analyzer='word', \n",
    "                            ngram_range=(1, 1), max_df=1.0, min_df=1, max_features=20000)\n",
    "vec.fit(X_train)\n",
    "x_train=vec.transform(X_train)\n",
    "x_test=vec.transform(X_test)"
   ]
  },
  {
   "cell_type": "code",
   "execution_count": 109,
   "id": "ad570fe2",
   "metadata": {},
   "outputs": [
    {
     "data": {
      "text/plain": [
       "array([[0, 0, 0, ..., 0, 0, 0]], dtype=int64)"
      ]
     },
     "execution_count": 109,
     "metadata": {},
     "output_type": "execute_result"
    }
   ],
   "source": [
    "vec.transform(['happi hear work other hand oili complexion']).toarray()"
   ]
  },
  {
   "cell_type": "code",
   "execution_count": 110,
   "id": "5a978e8b",
   "metadata": {},
   "outputs": [
    {
     "data": {
      "text/plain": [
       "'anyt'"
      ]
     },
     "execution_count": 110,
     "metadata": {},
     "output_type": "execute_result"
    }
   ],
   "source": [
    "vec.get_feature_names_out()[999]"
   ]
  },
  {
   "cell_type": "code",
   "execution_count": 112,
   "id": "15f257a7",
   "metadata": {},
   "outputs": [
    {
     "data": {
      "text/plain": [
       "(array([6702], dtype=int64),)"
      ]
     },
     "execution_count": 112,
     "metadata": {},
     "output_type": "execute_result"
    }
   ],
   "source": [
    "find =vec.get_feature_names_out()\n",
    "np.where(find=='favour')"
   ]
  },
  {
   "cell_type": "code",
   "execution_count": 40,
   "id": "a4185585",
   "metadata": {},
   "outputs": [],
   "source": [
    " x_train = x_train.toarray()"
   ]
  },
  {
   "cell_type": "code",
   "execution_count": 41,
   "id": "554e7d5e",
   "metadata": {},
   "outputs": [
    {
     "data": {
      "text/plain": [
       "((78410, 20000), (78410,))"
      ]
     },
     "execution_count": 41,
     "metadata": {},
     "output_type": "execute_result"
    }
   ],
   "source": [
    "x_train.shape, y_train.shape"
   ]
  },
  {
   "cell_type": "code",
   "execution_count": 43,
   "id": "6768f405",
   "metadata": {},
   "outputs": [],
   "source": [
    "import tensorflow as tf"
   ]
  },
  {
   "cell_type": "code",
   "execution_count": 44,
   "id": "56841589",
   "metadata": {},
   "outputs": [],
   "source": [
    "#y_train = tf.keras.utils.to_categorical(y_train)\n",
    "#y_test = tf.keras.utils.to_categorical(y_test)"
   ]
  },
  {
   "cell_type": "code",
   "execution_count": 45,
   "id": "2c5d2ab8",
   "metadata": {},
   "outputs": [
    {
     "name": "stdout",
     "output_type": "stream",
     "text": [
      "Model: \"sequential\"\n",
      "_________________________________________________________________\n",
      " Layer (type)                Output Shape              Param #   \n",
      "=================================================================\n",
      " dense (Dense)               (None, 16)                320016    \n",
      "                                                                 \n",
      " dense_1 (Dense)             (None, 16)                272       \n",
      "                                                                 \n",
      " dense_2 (Dense)             (None, 1)                 17        \n",
      "                                                                 \n",
      "=================================================================\n",
      "Total params: 320,305\n",
      "Trainable params: 320,305\n",
      "Non-trainable params: 0\n",
      "_________________________________________________________________\n"
     ]
    }
   ],
   "source": [
    "from tensorflow.keras.models import Sequential\n",
    "from tensorflow.keras.layers import Dense\n",
    "from tensorflow.keras.optimizers import Adam\n",
    "model = Sequential()\n",
    "model.add(Dense(16, input_dim=x_train.shape[1], activation='relu'))\n",
    "model.add(Dense(16, activation='relu'))\n",
    "model.add(Dense(1, activation='sigmoid'))\n",
    "model.compile(loss='binary_crossentropy',optimizer='Adam',metrics=['accuracy'])\n",
    "model.summary()"
   ]
  },
  {
   "cell_type": "code",
   "execution_count": 54,
   "id": "b0855767",
   "metadata": {},
   "outputs": [
    {
     "name": "stdout",
     "output_type": "stream",
     "text": [
      "Epoch 1/10\n",
      "2451/2451 [==============================] - 20s 8ms/step - loss: 0.0306 - accuracy: 0.9898\n",
      "Epoch 2/10\n",
      "2451/2451 [==============================] - 14s 6ms/step - loss: 0.0255 - accuracy: 0.9913\n",
      "Epoch 3/10\n",
      "2451/2451 [==============================] - 13s 5ms/step - loss: 0.0211 - accuracy: 0.9929\n",
      "Epoch 4/10\n",
      "2451/2451 [==============================] - 13s 5ms/step - loss: 0.0171 - accuracy: 0.9946\n",
      "Epoch 5/10\n",
      "2451/2451 [==============================] - 13s 5ms/step - loss: 0.0154 - accuracy: 0.9952\n",
      "Epoch 6/10\n",
      "2451/2451 [==============================] - 13s 5ms/step - loss: 0.0127 - accuracy: 0.9962\n",
      "Epoch 7/10\n",
      "2451/2451 [==============================] - 13s 5ms/step - loss: 0.0114 - accuracy: 0.9963\n",
      "Epoch 8/10\n",
      "2451/2451 [==============================] - 13s 5ms/step - loss: 0.0093 - accuracy: 0.9972\n",
      "Epoch 9/10\n",
      "2451/2451 [==============================] - 13s 5ms/step - loss: 0.0096 - accuracy: 0.9968\n",
      "Epoch 10/10\n",
      "2451/2451 [==============================] - 13s 5ms/step - loss: 0.0086 - accuracy: 0.9974\n"
     ]
    },
    {
     "data": {
      "text/plain": [
       "<keras.callbacks.History at 0x187a37b6190>"
      ]
     },
     "execution_count": 54,
     "metadata": {},
     "output_type": "execute_result"
    }
   ],
   "source": [
    "model.fit(x_train,y_train_label,epochs=10)"
   ]
  },
  {
   "cell_type": "code",
   "execution_count": 70,
   "id": "ca024b1c",
   "metadata": {},
   "outputs": [],
   "source": [
    "from sklearn.model_selection import train_test_split\n",
    "\n",
    "# Split the data into train and test sets\n",
    "X_val, X_test2, y_val, y_test2 = train_test_split(X, y ,test_size=0.80, shuffle = True)"
   ]
  },
  {
   "cell_type": "code",
   "execution_count": 71,
   "id": "1c3a4fbd",
   "metadata": {},
   "outputs": [
    {
     "data": {
      "text/plain": [
       "145853    1.0\n",
       "80141     0.0\n",
       "4900      0.0\n",
       "112454    0.0\n",
       "82398     0.0\n",
       "         ... \n",
       "98589     0.0\n",
       "107640    0.0\n",
       "64312     0.0\n",
       "121527    0.0\n",
       "146774    0.0\n",
       "Name: label, Length: 31364, dtype: float64"
      ]
     },
     "execution_count": 71,
     "metadata": {},
     "output_type": "execute_result"
    }
   ],
   "source": [
    "y_val"
   ]
  },
  {
   "cell_type": "code",
   "execution_count": 72,
   "id": "66a28d72",
   "metadata": {},
   "outputs": [],
   "source": [
    "x_val=vec.transform(X_val).toarray()\n",
    "y_val =le.transform(y_val)"
   ]
  },
  {
   "cell_type": "code",
   "execution_count": 77,
   "id": "a2999654",
   "metadata": {},
   "outputs": [
    {
     "data": {
      "text/plain": [
       "(31364, 20000)"
      ]
     },
     "execution_count": 77,
     "metadata": {},
     "output_type": "execute_result"
    }
   ],
   "source": [
    "x_val.shape"
   ]
  },
  {
   "cell_type": "code",
   "execution_count": 78,
   "id": "b62f8f9e",
   "metadata": {},
   "outputs": [],
   "source": [
    "y_pred = model.predict(x_val)"
   ]
  },
  {
   "cell_type": "code",
   "execution_count": 96,
   "id": "12dfa045",
   "metadata": {},
   "outputs": [],
   "source": [
    "\n",
    "condlist = [(y_pred>=0.5), (y_pred<0.5)]\n",
    "choicelist = [1, 0]\n",
    "\n",
    "y_classes = np.select(condlist, choicelist, default=y_pred)"
   ]
  },
  {
   "cell_type": "code",
   "execution_count": 98,
   "id": "d32b6acd",
   "metadata": {},
   "outputs": [
    {
     "data": {
      "text/plain": [
       "array([[1.],\n",
       "       [0.],\n",
       "       [0.],\n",
       "       ...,\n",
       "       [0.],\n",
       "       [0.],\n",
       "       [0.]])"
      ]
     },
     "execution_count": 98,
     "metadata": {},
     "output_type": "execute_result"
    }
   ],
   "source": [
    "y_classes"
   ]
  },
  {
   "cell_type": "code",
   "execution_count": 99,
   "id": "5a225607",
   "metadata": {},
   "outputs": [
    {
     "data": {
      "text/plain": [
       "array([[14734,   914],\n",
       "       [ 1066, 14650]], dtype=int64)"
      ]
     },
     "execution_count": 99,
     "metadata": {},
     "output_type": "execute_result"
    }
   ],
   "source": [
    "from sklearn.metrics import *\n",
    "confusion_matrix(y_val,y_classes)"
   ]
  },
  {
   "cell_type": "code",
   "execution_count": 100,
   "id": "100795dc",
   "metadata": {},
   "outputs": [
    {
     "data": {
      "text/plain": [
       "'              precision    recall  f1-score   support\\n\\n           0       0.93      0.94      0.94     15648\\n           1       0.94      0.93      0.94     15716\\n\\n    accuracy                           0.94     31364\\n   macro avg       0.94      0.94      0.94     31364\\nweighted avg       0.94      0.94      0.94     31364\\n'"
      ]
     },
     "execution_count": 100,
     "metadata": {},
     "output_type": "execute_result"
    }
   ],
   "source": [
    "print(classification_report(y_val,y_classes))"
   ]
  },
  {
   "cell_type": "code",
   "execution_count": null,
   "id": "b7fa8a25",
   "metadata": {},
   "outputs": [],
   "source": [
    "Done"
   ]
  }
 ],
 "metadata": {
  "kernelspec": {
   "display_name": "Python 3 (ipykernel)",
   "language": "python",
   "name": "python3"
  },
  "language_info": {
   "codemirror_mode": {
    "name": "ipython",
    "version": 3
   },
   "file_extension": ".py",
   "mimetype": "text/x-python",
   "name": "python",
   "nbconvert_exporter": "python",
   "pygments_lexer": "ipython3",
   "version": "3.9.7"
  },
  "papermill": {
   "default_parameters": {},
   "duration": 403.694916,
   "end_time": "2023-05-08T06:35:25.324659",
   "environment_variables": {},
   "exception": null,
   "input_path": "__notebook__.ipynb",
   "output_path": "__notebook__.ipynb",
   "parameters": {},
   "start_time": "2023-05-08T06:28:41.629743",
   "version": "2.4.0"
  }
 },
 "nbformat": 4,
 "nbformat_minor": 5
}
