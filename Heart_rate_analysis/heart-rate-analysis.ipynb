{
 "cells": [
  {
   "cell_type": "code",
   "execution_count": 1,
   "metadata": {
    "_cell_guid": "b1076dfc-b9ad-4769-8c92-a6c4dae69d19",
    "_uuid": "8f2839f25d086af736a60e9eeb907d3b93b6e0e5",
    "execution": {
     "iopub.execute_input": "2023-04-22T21:07:23.804099Z",
     "iopub.status.busy": "2023-04-22T21:07:23.803675Z",
     "iopub.status.idle": "2023-04-22T21:07:23.838628Z",
     "shell.execute_reply": "2023-04-22T21:07:23.837683Z",
     "shell.execute_reply.started": "2023-04-22T21:07:23.804014Z"
    }
   },
   "outputs": [
    {
     "name": "stdout",
     "output_type": "stream",
     "text": [
      "/kaggle/input/heart-attack-analysis-prediction-dataset/o2Saturation.csv\n",
      "/kaggle/input/heart-attack-analysis-prediction-dataset/heart.csv\n"
     ]
    }
   ],
   "source": [
    "# This Python 3 environment comes with many helpful analytics libraries installed\n",
    "# It is defined by the kaggle/python Docker image: https://github.com/kaggle/docker-python\n",
    "# For example, here's several helpful packages to load\n",
    "\n",
    "import numpy as np # linear algebra\n",
    "import pandas as pd # data processing, CSV file I/O (e.g. pd.read_csv)\n",
    "\n",
    "# Input data files are available in the read-only \"../input/\" directory\n",
    "# For example, running this (by clicking run or pressing Shift+Enter) will list all files under the input directory\n",
    "\n",
    "import os\n",
    "for dirname, _, filenames in os.walk('/kaggle/input'):\n",
    "    for filename in filenames:\n",
    "        print(os.path.join(dirname, filename))\n",
    "\n",
    "# You can write up to 20GB to the current directory (/kaggle/working/) that gets preserved as output when you create a version using \"Save & Run All\" \n",
    "# You can also write temporary files to /kaggle/temp/, but they won't be saved outside of the current session"
   ]
  },
  {
   "cell_type": "code",
   "execution_count": 2,
   "metadata": {
    "execution": {
     "iopub.execute_input": "2023-04-22T21:07:23.841344Z",
     "iopub.status.busy": "2023-04-22T21:07:23.840626Z",
     "iopub.status.idle": "2023-04-22T21:07:23.862016Z",
     "shell.execute_reply": "2023-04-22T21:07:23.860556Z",
     "shell.execute_reply.started": "2023-04-22T21:07:23.841305Z"
    }
   },
   "outputs": [],
   "source": [
    "df = pd.read_csv('/kaggle/input/heart-attack-analysis-prediction-dataset/heart.csv')\n",
    "\n"
   ]
  },
  {
   "cell_type": "code",
   "execution_count": 3,
   "metadata": {
    "execution": {
     "iopub.execute_input": "2023-04-22T21:07:23.863644Z",
     "iopub.status.busy": "2023-04-22T21:07:23.863332Z",
     "iopub.status.idle": "2023-04-22T21:07:23.880074Z",
     "shell.execute_reply": "2023-04-22T21:07:23.879307Z",
     "shell.execute_reply.started": "2023-04-22T21:07:23.863618Z"
    }
   },
   "outputs": [
    {
     "data": {
      "text/plain": [
       "1    165\n",
       "0    138\n",
       "Name: output, dtype: int64"
      ]
     },
     "execution_count": 3,
     "metadata": {},
     "output_type": "execute_result"
    }
   ],
   "source": [
    "df['output'].value_counts()"
   ]
  },
  {
   "cell_type": "code",
   "execution_count": 4,
   "metadata": {
    "execution": {
     "iopub.execute_input": "2023-04-22T21:07:23.881532Z",
     "iopub.status.busy": "2023-04-22T21:07:23.881048Z",
     "iopub.status.idle": "2023-04-22T21:07:23.897133Z",
     "shell.execute_reply": "2023-04-22T21:07:23.896248Z",
     "shell.execute_reply.started": "2023-04-22T21:07:23.881507Z"
    }
   },
   "outputs": [
    {
     "data": {
      "text/plain": [
       "count    303.000000\n",
       "mean      54.366337\n",
       "std        9.082101\n",
       "min       29.000000\n",
       "25%       47.500000\n",
       "50%       55.000000\n",
       "75%       61.000000\n",
       "max       77.000000\n",
       "Name: age, dtype: float64"
      ]
     },
     "execution_count": 4,
     "metadata": {},
     "output_type": "execute_result"
    }
   ],
   "source": [
    "df['age'].describe()"
   ]
  },
  {
   "cell_type": "code",
   "execution_count": 5,
   "metadata": {
    "execution": {
     "iopub.execute_input": "2023-04-22T21:07:23.899920Z",
     "iopub.status.busy": "2023-04-22T21:07:23.899401Z",
     "iopub.status.idle": "2023-04-22T21:07:23.906861Z",
     "shell.execute_reply": "2023-04-22T21:07:23.906128Z",
     "shell.execute_reply.started": "2023-04-22T21:07:23.899895Z"
    }
   },
   "outputs": [],
   "source": [
    "columns = ['sex','cp','fbs','restecg','exng','slp','caa','thall','output']"
   ]
  },
  {
   "cell_type": "code",
   "execution_count": 6,
   "metadata": {
    "execution": {
     "iopub.execute_input": "2023-04-22T21:07:23.908163Z",
     "iopub.status.busy": "2023-04-22T21:07:23.907710Z",
     "iopub.status.idle": "2023-04-22T21:07:23.935523Z",
     "shell.execute_reply": "2023-04-22T21:07:23.934232Z",
     "shell.execute_reply.started": "2023-04-22T21:07:23.908134Z"
    }
   },
   "outputs": [
    {
     "data": {
      "text/html": [
       "<div>\n",
       "<style scoped>\n",
       "    .dataframe tbody tr th:only-of-type {\n",
       "        vertical-align: middle;\n",
       "    }\n",
       "\n",
       "    .dataframe tbody tr th {\n",
       "        vertical-align: top;\n",
       "    }\n",
       "\n",
       "    .dataframe thead th {\n",
       "        text-align: right;\n",
       "    }\n",
       "</style>\n",
       "<table border=\"1\" class=\"dataframe\">\n",
       "  <thead>\n",
       "    <tr style=\"text-align: right;\">\n",
       "      <th></th>\n",
       "      <th>age</th>\n",
       "      <th>trtbps</th>\n",
       "      <th>chol</th>\n",
       "      <th>thalachh</th>\n",
       "      <th>oldpeak</th>\n",
       "    </tr>\n",
       "  </thead>\n",
       "  <tbody>\n",
       "    <tr>\n",
       "      <th>0</th>\n",
       "      <td>63</td>\n",
       "      <td>145</td>\n",
       "      <td>233</td>\n",
       "      <td>150</td>\n",
       "      <td>2.3</td>\n",
       "    </tr>\n",
       "    <tr>\n",
       "      <th>1</th>\n",
       "      <td>37</td>\n",
       "      <td>130</td>\n",
       "      <td>250</td>\n",
       "      <td>187</td>\n",
       "      <td>3.5</td>\n",
       "    </tr>\n",
       "    <tr>\n",
       "      <th>2</th>\n",
       "      <td>41</td>\n",
       "      <td>130</td>\n",
       "      <td>204</td>\n",
       "      <td>172</td>\n",
       "      <td>1.4</td>\n",
       "    </tr>\n",
       "    <tr>\n",
       "      <th>3</th>\n",
       "      <td>56</td>\n",
       "      <td>120</td>\n",
       "      <td>236</td>\n",
       "      <td>178</td>\n",
       "      <td>0.8</td>\n",
       "    </tr>\n",
       "    <tr>\n",
       "      <th>4</th>\n",
       "      <td>57</td>\n",
       "      <td>120</td>\n",
       "      <td>354</td>\n",
       "      <td>163</td>\n",
       "      <td>0.6</td>\n",
       "    </tr>\n",
       "    <tr>\n",
       "      <th>...</th>\n",
       "      <td>...</td>\n",
       "      <td>...</td>\n",
       "      <td>...</td>\n",
       "      <td>...</td>\n",
       "      <td>...</td>\n",
       "    </tr>\n",
       "    <tr>\n",
       "      <th>298</th>\n",
       "      <td>57</td>\n",
       "      <td>140</td>\n",
       "      <td>241</td>\n",
       "      <td>123</td>\n",
       "      <td>0.2</td>\n",
       "    </tr>\n",
       "    <tr>\n",
       "      <th>299</th>\n",
       "      <td>45</td>\n",
       "      <td>110</td>\n",
       "      <td>264</td>\n",
       "      <td>132</td>\n",
       "      <td>1.2</td>\n",
       "    </tr>\n",
       "    <tr>\n",
       "      <th>300</th>\n",
       "      <td>68</td>\n",
       "      <td>144</td>\n",
       "      <td>193</td>\n",
       "      <td>141</td>\n",
       "      <td>3.4</td>\n",
       "    </tr>\n",
       "    <tr>\n",
       "      <th>301</th>\n",
       "      <td>57</td>\n",
       "      <td>130</td>\n",
       "      <td>131</td>\n",
       "      <td>115</td>\n",
       "      <td>1.2</td>\n",
       "    </tr>\n",
       "    <tr>\n",
       "      <th>302</th>\n",
       "      <td>57</td>\n",
       "      <td>130</td>\n",
       "      <td>236</td>\n",
       "      <td>174</td>\n",
       "      <td>0.0</td>\n",
       "    </tr>\n",
       "  </tbody>\n",
       "</table>\n",
       "<p>303 rows × 5 columns</p>\n",
       "</div>"
      ],
      "text/plain": [
       "     age  trtbps  chol  thalachh  oldpeak\n",
       "0     63     145   233       150      2.3\n",
       "1     37     130   250       187      3.5\n",
       "2     41     130   204       172      1.4\n",
       "3     56     120   236       178      0.8\n",
       "4     57     120   354       163      0.6\n",
       "..   ...     ...   ...       ...      ...\n",
       "298   57     140   241       123      0.2\n",
       "299   45     110   264       132      1.2\n",
       "300   68     144   193       141      3.4\n",
       "301   57     130   131       115      1.2\n",
       "302   57     130   236       174      0.0\n",
       "\n",
       "[303 rows x 5 columns]"
      ]
     },
     "execution_count": 6,
     "metadata": {},
     "output_type": "execute_result"
    }
   ],
   "source": [
    "k  = [x for x in df.columns if x not in columns ]\n",
    "tmp2= df[k]\n",
    "tmp2\n"
   ]
  },
  {
   "cell_type": "code",
   "execution_count": 7,
   "metadata": {
    "execution": {
     "iopub.execute_input": "2023-04-22T21:07:23.937665Z",
     "iopub.status.busy": "2023-04-22T21:07:23.937193Z",
     "iopub.status.idle": "2023-04-22T21:07:23.969298Z",
     "shell.execute_reply": "2023-04-22T21:07:23.967807Z",
     "shell.execute_reply.started": "2023-04-22T21:07:23.937634Z"
    }
   },
   "outputs": [
    {
     "data": {
      "text/html": [
       "<div>\n",
       "<style scoped>\n",
       "    .dataframe tbody tr th:only-of-type {\n",
       "        vertical-align: middle;\n",
       "    }\n",
       "\n",
       "    .dataframe tbody tr th {\n",
       "        vertical-align: top;\n",
       "    }\n",
       "\n",
       "    .dataframe thead th {\n",
       "        text-align: right;\n",
       "    }\n",
       "</style>\n",
       "<table border=\"1\" class=\"dataframe\">\n",
       "  <thead>\n",
       "    <tr style=\"text-align: right;\">\n",
       "      <th></th>\n",
       "      <th>sex</th>\n",
       "      <th>cp</th>\n",
       "      <th>fbs</th>\n",
       "      <th>restecg</th>\n",
       "      <th>exng</th>\n",
       "      <th>slp</th>\n",
       "      <th>caa</th>\n",
       "      <th>thall</th>\n",
       "      <th>output</th>\n",
       "    </tr>\n",
       "  </thead>\n",
       "  <tbody>\n",
       "    <tr>\n",
       "      <th>0</th>\n",
       "      <td>1</td>\n",
       "      <td>3</td>\n",
       "      <td>1</td>\n",
       "      <td>0</td>\n",
       "      <td>0</td>\n",
       "      <td>0</td>\n",
       "      <td>0</td>\n",
       "      <td>1</td>\n",
       "      <td>1</td>\n",
       "    </tr>\n",
       "    <tr>\n",
       "      <th>1</th>\n",
       "      <td>1</td>\n",
       "      <td>2</td>\n",
       "      <td>0</td>\n",
       "      <td>1</td>\n",
       "      <td>0</td>\n",
       "      <td>0</td>\n",
       "      <td>0</td>\n",
       "      <td>2</td>\n",
       "      <td>1</td>\n",
       "    </tr>\n",
       "    <tr>\n",
       "      <th>2</th>\n",
       "      <td>0</td>\n",
       "      <td>1</td>\n",
       "      <td>0</td>\n",
       "      <td>0</td>\n",
       "      <td>0</td>\n",
       "      <td>2</td>\n",
       "      <td>0</td>\n",
       "      <td>2</td>\n",
       "      <td>1</td>\n",
       "    </tr>\n",
       "    <tr>\n",
       "      <th>3</th>\n",
       "      <td>1</td>\n",
       "      <td>1</td>\n",
       "      <td>0</td>\n",
       "      <td>1</td>\n",
       "      <td>0</td>\n",
       "      <td>2</td>\n",
       "      <td>0</td>\n",
       "      <td>2</td>\n",
       "      <td>1</td>\n",
       "    </tr>\n",
       "    <tr>\n",
       "      <th>4</th>\n",
       "      <td>0</td>\n",
       "      <td>0</td>\n",
       "      <td>0</td>\n",
       "      <td>1</td>\n",
       "      <td>1</td>\n",
       "      <td>2</td>\n",
       "      <td>0</td>\n",
       "      <td>2</td>\n",
       "      <td>1</td>\n",
       "    </tr>\n",
       "    <tr>\n",
       "      <th>...</th>\n",
       "      <td>...</td>\n",
       "      <td>...</td>\n",
       "      <td>...</td>\n",
       "      <td>...</td>\n",
       "      <td>...</td>\n",
       "      <td>...</td>\n",
       "      <td>...</td>\n",
       "      <td>...</td>\n",
       "      <td>...</td>\n",
       "    </tr>\n",
       "    <tr>\n",
       "      <th>298</th>\n",
       "      <td>0</td>\n",
       "      <td>0</td>\n",
       "      <td>0</td>\n",
       "      <td>1</td>\n",
       "      <td>1</td>\n",
       "      <td>1</td>\n",
       "      <td>0</td>\n",
       "      <td>3</td>\n",
       "      <td>0</td>\n",
       "    </tr>\n",
       "    <tr>\n",
       "      <th>299</th>\n",
       "      <td>1</td>\n",
       "      <td>3</td>\n",
       "      <td>0</td>\n",
       "      <td>1</td>\n",
       "      <td>0</td>\n",
       "      <td>1</td>\n",
       "      <td>0</td>\n",
       "      <td>3</td>\n",
       "      <td>0</td>\n",
       "    </tr>\n",
       "    <tr>\n",
       "      <th>300</th>\n",
       "      <td>1</td>\n",
       "      <td>0</td>\n",
       "      <td>1</td>\n",
       "      <td>1</td>\n",
       "      <td>0</td>\n",
       "      <td>1</td>\n",
       "      <td>2</td>\n",
       "      <td>3</td>\n",
       "      <td>0</td>\n",
       "    </tr>\n",
       "    <tr>\n",
       "      <th>301</th>\n",
       "      <td>1</td>\n",
       "      <td>0</td>\n",
       "      <td>0</td>\n",
       "      <td>1</td>\n",
       "      <td>1</td>\n",
       "      <td>1</td>\n",
       "      <td>1</td>\n",
       "      <td>3</td>\n",
       "      <td>0</td>\n",
       "    </tr>\n",
       "    <tr>\n",
       "      <th>302</th>\n",
       "      <td>0</td>\n",
       "      <td>1</td>\n",
       "      <td>0</td>\n",
       "      <td>0</td>\n",
       "      <td>0</td>\n",
       "      <td>1</td>\n",
       "      <td>1</td>\n",
       "      <td>2</td>\n",
       "      <td>0</td>\n",
       "    </tr>\n",
       "  </tbody>\n",
       "</table>\n",
       "<p>303 rows × 9 columns</p>\n",
       "</div>"
      ],
      "text/plain": [
       "    sex cp fbs restecg exng slp caa thall output\n",
       "0     1  3   1       0    0   0   0     1      1\n",
       "1     1  2   0       1    0   0   0     2      1\n",
       "2     0  1   0       0    0   2   0     2      1\n",
       "3     1  1   0       1    0   2   0     2      1\n",
       "4     0  0   0       1    1   2   0     2      1\n",
       "..   .. ..  ..     ...  ...  ..  ..   ...    ...\n",
       "298   0  0   0       1    1   1   0     3      0\n",
       "299   1  3   0       1    0   1   0     3      0\n",
       "300   1  0   1       1    0   1   2     3      0\n",
       "301   1  0   0       1    1   1   1     3      0\n",
       "302   0  1   0       0    0   1   1     2      0\n",
       "\n",
       "[303 rows x 9 columns]"
      ]
     },
     "execution_count": 7,
     "metadata": {},
     "output_type": "execute_result"
    }
   ],
   "source": [
    "\n",
    "tmp = df[columns].astype(\"category\")\n",
    "tmp"
   ]
  },
  {
   "cell_type": "code",
   "execution_count": 8,
   "metadata": {
    "execution": {
     "iopub.execute_input": "2023-04-22T21:07:23.971119Z",
     "iopub.status.busy": "2023-04-22T21:07:23.970802Z",
     "iopub.status.idle": "2023-04-22T21:07:23.992398Z",
     "shell.execute_reply": "2023-04-22T21:07:23.990805Z",
     "shell.execute_reply.started": "2023-04-22T21:07:23.971092Z"
    }
   },
   "outputs": [
    {
     "name": "stdout",
     "output_type": "stream",
     "text": [
      "<class 'pandas.core.frame.DataFrame'>\n",
      "RangeIndex: 303 entries, 0 to 302\n",
      "Data columns (total 14 columns):\n",
      " #   Column    Non-Null Count  Dtype   \n",
      "---  ------    --------------  -----   \n",
      " 0   sex       303 non-null    category\n",
      " 1   cp        303 non-null    category\n",
      " 2   fbs       303 non-null    category\n",
      " 3   restecg   303 non-null    category\n",
      " 4   exng      303 non-null    category\n",
      " 5   slp       303 non-null    category\n",
      " 6   caa       303 non-null    category\n",
      " 7   thall     303 non-null    category\n",
      " 8   output    303 non-null    category\n",
      " 9   age       303 non-null    int64   \n",
      " 10  trtbps    303 non-null    int64   \n",
      " 11  chol      303 non-null    int64   \n",
      " 12  thalachh  303 non-null    int64   \n",
      " 13  oldpeak   303 non-null    float64 \n",
      "dtypes: category(9), float64(1), int64(4)\n",
      "memory usage: 16.0 KB\n"
     ]
    }
   ],
   "source": [
    "df_final = pd.concat([tmp,tmp2],axis=1)\n",
    "df_final.info()"
   ]
  },
  {
   "cell_type": "code",
   "execution_count": 9,
   "metadata": {
    "execution": {
     "iopub.execute_input": "2023-04-22T21:07:23.994403Z",
     "iopub.status.busy": "2023-04-22T21:07:23.993973Z",
     "iopub.status.idle": "2023-04-22T21:07:24.003264Z",
     "shell.execute_reply": "2023-04-22T21:07:24.002152Z",
     "shell.execute_reply.started": "2023-04-22T21:07:23.994365Z"
    }
   },
   "outputs": [],
   "source": [
    "y = df.output\n",
    "X = df.drop('output',axis=1)"
   ]
  },
  {
   "cell_type": "code",
   "execution_count": 10,
   "metadata": {
    "execution": {
     "iopub.execute_input": "2023-04-22T21:07:24.004930Z",
     "iopub.status.busy": "2023-04-22T21:07:24.004509Z",
     "iopub.status.idle": "2023-04-22T21:07:24.481857Z",
     "shell.execute_reply": "2023-04-22T21:07:24.481121Z",
     "shell.execute_reply.started": "2023-04-22T21:07:24.004893Z"
    }
   },
   "outputs": [],
   "source": [
    "#test train split\n",
    "import numpy as np\n",
    "from sklearn.model_selection import train_test_split\n",
    "\n",
    "\n",
    "X_train, X_test, y_train, y_test = train_test_split(X, y, test_size=0.2, random_state=42)"
   ]
  },
  {
   "cell_type": "code",
   "execution_count": 20,
   "metadata": {
    "execution": {
     "iopub.execute_input": "2023-04-22T21:13:33.336238Z",
     "iopub.status.busy": "2023-04-22T21:13:33.335848Z",
     "iopub.status.idle": "2023-04-22T21:13:33.343379Z",
     "shell.execute_reply": "2023-04-22T21:13:33.342323Z",
     "shell.execute_reply.started": "2023-04-22T21:13:33.336206Z"
    }
   },
   "outputs": [],
   "source": [
    "from sklearn.model_selection import cross_val_score\n",
    "from sklearn.metrics import confusion_matrix\n",
    "from sklearn.metrics import classification_report\n",
    "from sklearn.tree import DecisionTreeClassifier\n",
    "from sklearn.ensemble import RandomForestClassifier\n",
    "from sklearn.ensemble import GradientBoostingClassifier\n",
    "from sklearn.linear_model import LogisticRegression\n",
    "from sklearn.svm import SVC\n",
    "from sklearn.model_selection import GridSearchCV\n",
    "LR = LogisticRegression()\n",
    "DTC = DecisionTreeClassifier()\n",
    "RFC = RandomForestClassifier()\n",
    "GBC = GradientBoostingClassifier()\n",
    "SVC = SVC()\n",
    "from sklearn.metrics import *"
   ]
  },
  {
   "cell_type": "code",
   "execution_count": 12,
   "metadata": {
    "execution": {
     "iopub.execute_input": "2023-04-22T21:07:24.685361Z",
     "iopub.status.busy": "2023-04-22T21:07:24.684887Z",
     "iopub.status.idle": "2023-04-22T21:07:24.730069Z",
     "shell.execute_reply": "2023-04-22T21:07:24.729088Z",
     "shell.execute_reply.started": "2023-04-22T21:07:24.685321Z"
    }
   },
   "outputs": [
    {
     "name": "stdout",
     "output_type": "stream",
     "text": [
      "              precision    recall  f1-score   support\n",
      "\n",
      "           0       0.89      0.86      0.88        29\n",
      "           1       0.88      0.91      0.89        32\n",
      "\n",
      "    accuracy                           0.89        61\n",
      "   macro avg       0.89      0.88      0.88        61\n",
      "weighted avg       0.89      0.89      0.89        61\n",
      "\n",
      "[[25  4]\n",
      " [ 3 29]]\n"
     ]
    },
    {
     "name": "stderr",
     "output_type": "stream",
     "text": [
      "/opt/conda/lib/python3.7/site-packages/sklearn/linear_model/_logistic.py:818: ConvergenceWarning: lbfgs failed to converge (status=1):\n",
      "STOP: TOTAL NO. of ITERATIONS REACHED LIMIT.\n",
      "\n",
      "Increase the number of iterations (max_iter) or scale the data as shown in:\n",
      "    https://scikit-learn.org/stable/modules/preprocessing.html\n",
      "Please also refer to the documentation for alternative solver options:\n",
      "    https://scikit-learn.org/stable/modules/linear_model.html#logistic-regression\n",
      "  extra_warning_msg=_LOGISTIC_SOLVER_CONVERGENCE_MSG,\n"
     ]
    }
   ],
   "source": [
    "lr = LR.fit(X_train,y_train)\n",
    "y_pred = lr.predict(X_test)\n",
    "print(classification_report(y_test, y_pred))\n",
    "print(confusion_matrix(y_test, y_pred))"
   ]
  },
  {
   "cell_type": "code",
   "execution_count": 13,
   "metadata": {
    "execution": {
     "iopub.execute_input": "2023-04-22T21:07:24.731536Z",
     "iopub.status.busy": "2023-04-22T21:07:24.731232Z",
     "iopub.status.idle": "2023-04-22T21:07:24.819349Z",
     "shell.execute_reply": "2023-04-22T21:07:24.817968Z",
     "shell.execute_reply.started": "2023-04-22T21:07:24.731507Z"
    }
   },
   "outputs": [
    {
     "name": "stdout",
     "output_type": "stream",
     "text": [
      "              precision    recall  f1-score   support\n",
      "\n",
      "           0       0.74      0.79      0.77        29\n",
      "           1       0.80      0.75      0.77        32\n",
      "\n",
      "    accuracy                           0.77        61\n",
      "   macro avg       0.77      0.77      0.77        61\n",
      "weighted avg       0.77      0.77      0.77        61\n",
      "\n",
      "[[23  6]\n",
      " [ 8 24]]\n"
     ]
    }
   ],
   "source": [
    "gbc = GBC.fit(X_train,y_train)\n",
    "y_pred = gbc.predict(X_test)\n",
    "print(classification_report(y_test, y_pred))\n",
    "print(confusion_matrix(y_test, y_pred))"
   ]
  },
  {
   "cell_type": "code",
   "execution_count": 14,
   "metadata": {
    "execution": {
     "iopub.execute_input": "2023-04-22T21:07:24.821760Z",
     "iopub.status.busy": "2023-04-22T21:07:24.821114Z",
     "iopub.status.idle": "2023-04-22T21:07:24.972081Z",
     "shell.execute_reply": "2023-04-22T21:07:24.970586Z",
     "shell.execute_reply.started": "2023-04-22T21:07:24.821696Z"
    }
   },
   "outputs": [
    {
     "name": "stdout",
     "output_type": "stream",
     "text": [
      "              precision    recall  f1-score   support\n",
      "\n",
      "           0       0.86      0.83      0.84        29\n",
      "           1       0.85      0.88      0.86        32\n",
      "\n",
      "    accuracy                           0.85        61\n",
      "   macro avg       0.85      0.85      0.85        61\n",
      "weighted avg       0.85      0.85      0.85        61\n",
      "\n",
      "[[24  5]\n",
      " [ 4 28]]\n"
     ]
    }
   ],
   "source": [
    "rfc = RFC.fit(X_train,y_train)\n",
    "y_pred = rfc.predict(X_test)\n",
    "print(classification_report(y_test, y_pred))\n",
    "print(confusion_matrix(y_test, y_pred))"
   ]
  },
  {
   "cell_type": "code",
   "execution_count": 15,
   "metadata": {
    "execution": {
     "iopub.execute_input": "2023-04-22T21:07:24.974139Z",
     "iopub.status.busy": "2023-04-22T21:07:24.973674Z",
     "iopub.status.idle": "2023-04-22T21:07:24.992608Z",
     "shell.execute_reply": "2023-04-22T21:07:24.991310Z",
     "shell.execute_reply.started": "2023-04-22T21:07:24.974106Z"
    }
   },
   "outputs": [
    {
     "name": "stdout",
     "output_type": "stream",
     "text": [
      "              precision    recall  f1-score   support\n",
      "\n",
      "           0       0.79      0.52      0.62        29\n",
      "           1       0.67      0.88      0.76        32\n",
      "\n",
      "    accuracy                           0.70        61\n",
      "   macro avg       0.73      0.70      0.69        61\n",
      "weighted avg       0.73      0.70      0.69        61\n",
      "\n",
      "[[15 14]\n",
      " [ 4 28]]\n"
     ]
    }
   ],
   "source": [
    "svc = SVC.fit(X_train,y_train)\n",
    "y_pred = svc.predict(X_test)\n",
    "print(classification_report(y_test, y_pred))\n",
    "print(confusion_matrix(y_test, y_pred))"
   ]
  },
  {
   "cell_type": "code",
   "execution_count": 31,
   "metadata": {
    "execution": {
     "iopub.execute_input": "2023-04-22T21:43:46.148914Z",
     "iopub.status.busy": "2023-04-22T21:43:46.148525Z",
     "iopub.status.idle": "2023-04-22T21:43:46.154271Z",
     "shell.execute_reply": "2023-04-22T21:43:46.153279Z",
     "shell.execute_reply.started": "2023-04-22T21:43:46.148877Z"
    }
   },
   "outputs": [],
   "source": [
    "params_SVC = {'C': [1,2], 'kernel': ['linear', 'poly'], 'gamma':['scale'], 'tol':[1e-3,1e-2,1e-1],'probability':[True] }\n",
    "params_gbc = {'loss':['log_loss', 'exponential'],'learning_rate':[0.1,0.2,0.01,0.05]}\n",
    "params = {SVC:(params_SVC),GBC:(params_gbc)}\n"
   ]
  },
  {
   "cell_type": "raw",
   "metadata": {
    "execution": {
     "iopub.execute_input": "2023-04-22T21:07:25.003093Z",
     "iopub.status.busy": "2023-04-22T21:07:25.002844Z",
     "iopub.status.idle": "2023-04-22T21:07:25.015512Z",
     "shell.execute_reply": "2023-04-22T21:07:25.014472Z",
     "shell.execute_reply.started": "2023-04-22T21:07:25.003063Z"
    }
   },
   "source": [
    "\n",
    "for i,j in params.items():\n",
    " print(i,j)\n"
   ]
  },
  {
   "cell_type": "code",
   "execution_count": 32,
   "metadata": {
    "execution": {
     "iopub.execute_input": "2023-04-22T21:43:51.411032Z",
     "iopub.status.busy": "2023-04-22T21:43:51.410657Z",
     "iopub.status.idle": "2023-04-22T21:44:23.916466Z",
     "shell.execute_reply": "2023-04-22T21:44:23.915113Z",
     "shell.execute_reply.started": "2023-04-22T21:43:51.411000Z"
    }
   },
   "outputs": [
    {
     "name": "stdout",
     "output_type": "stream",
     "text": [
      "SVC() {'C': [1, 2], 'kernel': ['linear', 'poly'], 'gamma': ['scale'], 'tol': [0.001, 0.01, 0.1], 'probability': [True]}\n",
      "model_accuracy: 0.8180272108843537\n",
      "roc_auc_score: 0.25969827586206895\n",
      "confusion_matrix: [[26  4]\n",
      " [ 3 28]]\n",
      "precision_score: 0.875\n",
      "Recall_score: 0.9032258064516129\n",
      "              precision    recall  f1-score   support\n",
      "\n",
      "           0       0.87      0.90      0.88        29\n",
      "           1       0.90      0.88      0.89        32\n",
      "\n",
      "    accuracy                           0.89        61\n",
      "   macro avg       0.88      0.89      0.89        61\n",
      "weighted avg       0.89      0.89      0.89        61\n",
      "\n",
      "BEST PARAMETERS:{'C': 2, 'gamma': 'scale', 'kernel': 'linear', 'probability': True, 'tol': 0.1}\n",
      "GradientBoostingClassifier() {'loss': ['log_loss', 'exponential'], 'learning_rate': [0.1, 0.2, 0.01, 0.05]}\n",
      "model_accuracy: 0.8056122448979591\n",
      "roc_auc_score: 0.3372844827586207\n",
      "confusion_matrix: [[23  8]\n",
      " [ 6 24]]\n",
      "precision_score: 0.75\n",
      "Recall_score: 0.8\n",
      "              precision    recall  f1-score   support\n",
      "\n",
      "           0       0.74      0.79      0.77        29\n",
      "           1       0.80      0.75      0.77        32\n",
      "\n",
      "    accuracy                           0.77        61\n",
      "   macro avg       0.77      0.77      0.77        61\n",
      "weighted avg       0.77      0.77      0.77        61\n",
      "\n",
      "BEST PARAMETERS:{'learning_rate': 0.1, 'loss': 'exponential'}\n"
     ]
    },
    {
     "name": "stderr",
     "output_type": "stream",
     "text": [
      "/opt/conda/lib/python3.7/site-packages/sklearn/model_selection/_validation.py:372: FitFailedWarning: \n",
      "20 fits failed out of a total of 40.\n",
      "The score on these train-test partitions for these parameters will be set to nan.\n",
      "If these failures are not expected, you can try to debug them by setting error_score='raise'.\n",
      "\n",
      "Below are more details about the failures:\n",
      "--------------------------------------------------------------------------------\n",
      "20 fits failed with the following error:\n",
      "Traceback (most recent call last):\n",
      "  File \"/opt/conda/lib/python3.7/site-packages/sklearn/model_selection/_validation.py\", line 680, in _fit_and_score\n",
      "    estimator.fit(X_train, y_train, **fit_params)\n",
      "  File \"/opt/conda/lib/python3.7/site-packages/sklearn/ensemble/_gb.py\", line 525, in fit\n",
      "    self._check_params()\n",
      "  File \"/opt/conda/lib/python3.7/site-packages/sklearn/ensemble/_gb.py\", line 282, in _check_params\n",
      "    raise ValueError(\"Loss '{0:s}' not supported. \".format(self.loss))\n",
      "ValueError: Loss 'log_loss' not supported. \n",
      "\n",
      "  warnings.warn(some_fits_failed_message, FitFailedWarning)\n",
      "/opt/conda/lib/python3.7/site-packages/sklearn/model_selection/_search.py:972: UserWarning: One or more of the test scores are non-finite: [       nan 0.80561224        nan 0.78903061        nan 0.79736395\n",
      "        nan 0.79311224]\n",
      "  category=UserWarning,\n"
     ]
    }
   ],
   "source": [
    "for i,j in params.items(): \n",
    "    print(i,j)\n",
    "    clf = GridSearchCV(estimator=i, param_grid=j)\n",
    "    clf.fit(X_train,y_train)\n",
    "    y_pred = clf.predict(X_test)\n",
    "    y_prob = np.max(clf.predict_proba(X_test), axis=1)\n",
    "    print('model_accuracy:',clf.best_score_)\n",
    "    print('roc_auc_score:',roc_auc_score(y_test,y_prob))    \n",
    "    print(r'confusion_matrix:',confusion_matrix(y_pred,y_test))\n",
    "    print('precision_score:',precision_score(y_pred,y_test))\n",
    "    print('Recall_score:',recall_score(y_pred,y_test))\n",
    "    print(classification_report(y_test, y_pred))\n",
    "    print('BEST PARAMETERS:{}'.format(clf.best_params_))"
   ]
  }
 ],
 "metadata": {
  "kernelspec": {
   "display_name": "Python 3",
   "language": "python",
   "name": "python3"
  },
  "language_info": {
   "codemirror_mode": {
    "name": "ipython",
    "version": 3
   },
   "file_extension": ".py",
   "mimetype": "text/x-python",
   "name": "python",
   "nbconvert_exporter": "python",
   "pygments_lexer": "ipython3",
   "version": "3.8.8"
  }
 },
 "nbformat": 4,
 "nbformat_minor": 4
}
