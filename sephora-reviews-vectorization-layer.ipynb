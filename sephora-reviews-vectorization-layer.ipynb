{
 "cells": [
  {
   "cell_type": "code",
   "execution_count": 43,
   "id": "41c4b449",
   "metadata": {},
   "outputs": [],
   "source": [
    "import pandas as pd\n",
    "import numpy as np\n",
    "import tensorflow as tf"
   ]
  },
  {
   "cell_type": "code",
   "execution_count": 44,
   "id": "8a3f800a",
   "metadata": {},
   "outputs": [
    {
     "data": {
      "text/html": [
       "<div>\n",
       "<style scoped>\n",
       "    .dataframe tbody tr th:only-of-type {\n",
       "        vertical-align: middle;\n",
       "    }\n",
       "\n",
       "    .dataframe tbody tr th {\n",
       "        vertical-align: top;\n",
       "    }\n",
       "\n",
       "    .dataframe thead th {\n",
       "        text-align: right;\n",
       "    }\n",
       "</style>\n",
       "<table border=\"1\" class=\"dataframe\">\n",
       "  <thead>\n",
       "    <tr style=\"text-align: right;\">\n",
       "      <th></th>\n",
       "      <th>Unnamed: 0</th>\n",
       "      <th>review_text</th>\n",
       "      <th>label</th>\n",
       "      <th>rating</th>\n",
       "      <th>text_word_count</th>\n",
       "      <th>clean_text</th>\n",
       "      <th>tokenized_text</th>\n",
       "      <th>tokenized_text_2</th>\n",
       "    </tr>\n",
       "  </thead>\n",
       "  <tbody>\n",
       "    <tr>\n",
       "      <th>0</th>\n",
       "      <td>0</td>\n",
       "      <td>Gel type moisturizers aren’t typically my go-t...</td>\n",
       "      <td>1.0</td>\n",
       "      <td>5</td>\n",
       "      <td>51</td>\n",
       "      <td>gel type moisturizers aren’t typically my goto...</td>\n",
       "      <td>['gel', 'type', 'moistur', '’', 'typic', 'goto...</td>\n",
       "      <td>gel type moistur ’ typic goto one impress gel ...</td>\n",
       "    </tr>\n",
       "    <tr>\n",
       "      <th>1</th>\n",
       "      <td>1</td>\n",
       "      <td>smells great! works really well on my acne sca...</td>\n",
       "      <td>1.0</td>\n",
       "      <td>4</td>\n",
       "      <td>44</td>\n",
       "      <td>smells great works really well on my acne scar...</td>\n",
       "      <td>['smell', 'great', 'work', 'realli', 'well', '...</td>\n",
       "      <td>smell great work realli well acn scare need co...</td>\n",
       "    </tr>\n",
       "    <tr>\n",
       "      <th>2</th>\n",
       "      <td>2</td>\n",
       "      <td>Caused me so many breakouts. I thought this wo...</td>\n",
       "      <td>0.0</td>\n",
       "      <td>1</td>\n",
       "      <td>29</td>\n",
       "      <td>caused me so many breakouts i thought this wou...</td>\n",
       "      <td>['caus', 'mani', 'breakout', 'thought', 'would...</td>\n",
       "      <td>caus mani breakout thought would good use clea...</td>\n",
       "    </tr>\n",
       "    <tr>\n",
       "      <th>3</th>\n",
       "      <td>3</td>\n",
       "      <td>I could not be happier with this mask! I alway...</td>\n",
       "      <td>1.0</td>\n",
       "      <td>5</td>\n",
       "      <td>45</td>\n",
       "      <td>i could not be happier with this mask i always...</td>\n",
       "      <td>['could', 'happier', 'mask', 'alway', 'use', '...</td>\n",
       "      <td>could happier mask alway use overnight mask am...</td>\n",
       "    </tr>\n",
       "    <tr>\n",
       "      <th>4</th>\n",
       "      <td>4</td>\n",
       "      <td>Fastest acting spot reducer I have ever tried....</td>\n",
       "      <td>1.0</td>\n",
       "      <td>5</td>\n",
       "      <td>50</td>\n",
       "      <td>fastest acting spot reducer i have ever tried ...</td>\n",
       "      <td>['fastest', 'act', 'spot', 'reduc', 'ever', 't...</td>\n",
       "      <td>fastest act spot reduc ever tri got watch one ...</td>\n",
       "    </tr>\n",
       "  </tbody>\n",
       "</table>\n",
       "</div>"
      ],
      "text/plain": [
       "   Unnamed: 0                                        review_text  label  \\\n",
       "0           0  Gel type moisturizers aren’t typically my go-t...    1.0   \n",
       "1           1  smells great! works really well on my acne sca...    1.0   \n",
       "2           2  Caused me so many breakouts. I thought this wo...    0.0   \n",
       "3           3  I could not be happier with this mask! I alway...    1.0   \n",
       "4           4  Fastest acting spot reducer I have ever tried....    1.0   \n",
       "\n",
       "   rating  text_word_count                                         clean_text  \\\n",
       "0       5               51  gel type moisturizers aren’t typically my goto...   \n",
       "1       4               44  smells great works really well on my acne scar...   \n",
       "2       1               29  caused me so many breakouts i thought this wou...   \n",
       "3       5               45  i could not be happier with this mask i always...   \n",
       "4       5               50  fastest acting spot reducer i have ever tried ...   \n",
       "\n",
       "                                      tokenized_text  \\\n",
       "0  ['gel', 'type', 'moistur', '’', 'typic', 'goto...   \n",
       "1  ['smell', 'great', 'work', 'realli', 'well', '...   \n",
       "2  ['caus', 'mani', 'breakout', 'thought', 'would...   \n",
       "3  ['could', 'happier', 'mask', 'alway', 'use', '...   \n",
       "4  ['fastest', 'act', 'spot', 'reduc', 'ever', 't...   \n",
       "\n",
       "                                    tokenized_text_2  \n",
       "0  gel type moistur ’ typic goto one impress gel ...  \n",
       "1  smell great work realli well acn scare need co...  \n",
       "2  caus mani breakout thought would good use clea...  \n",
       "3  could happier mask alway use overnight mask am...  \n",
       "4  fastest act spot reduc ever tri got watch one ...  "
      ]
     },
     "execution_count": 44,
     "metadata": {},
     "output_type": "execute_result"
    }
   ],
   "source": [
    "reviews_sample= pd.read_csv(r'C:\\Users\\shanm\\OneDrive\\Desktop\\Git_data\\Sephora_sample\\X_reviews_sample.csv',low_memory =True)\n",
    "reviews_sample.head()"
   ]
  },
  {
   "cell_type": "code",
   "execution_count": 45,
   "id": "20101b7b",
   "metadata": {},
   "outputs": [
    {
     "data": {
      "text/html": [
       "<div>\n",
       "<style scoped>\n",
       "    .dataframe tbody tr th:only-of-type {\n",
       "        vertical-align: middle;\n",
       "    }\n",
       "\n",
       "    .dataframe tbody tr th {\n",
       "        vertical-align: top;\n",
       "    }\n",
       "\n",
       "    .dataframe thead th {\n",
       "        text-align: right;\n",
       "    }\n",
       "</style>\n",
       "<table border=\"1\" class=\"dataframe\">\n",
       "  <thead>\n",
       "    <tr style=\"text-align: right;\">\n",
       "      <th></th>\n",
       "      <th>Unnamed: 0</th>\n",
       "      <th>review_text</th>\n",
       "      <th>label</th>\n",
       "      <th>rating</th>\n",
       "      <th>text_word_count</th>\n",
       "      <th>clean_text</th>\n",
       "      <th>tokenized_text</th>\n",
       "      <th>tokenized_text_2</th>\n",
       "    </tr>\n",
       "  </thead>\n",
       "  <tbody>\n",
       "    <tr>\n",
       "      <th>21278</th>\n",
       "      <td>21278</td>\n",
       "      <td>Shiseido has a great reputation with putting o...</td>\n",
       "      <td>1.0</td>\n",
       "      <td>5</td>\n",
       "      <td>409</td>\n",
       "      <td>shiseido has a great reputation with putting o...</td>\n",
       "      <td>['shiseido', 'great', 'reput', 'put', 'qualiti...</td>\n",
       "      <td>shiseido great reput put qualiti product glad ...</td>\n",
       "    </tr>\n",
       "  </tbody>\n",
       "</table>\n",
       "</div>"
      ],
      "text/plain": [
       "       Unnamed: 0                                        review_text  label  \\\n",
       "21278       21278  Shiseido has a great reputation with putting o...    1.0   \n",
       "\n",
       "       rating  text_word_count  \\\n",
       "21278       5              409   \n",
       "\n",
       "                                              clean_text  \\\n",
       "21278  shiseido has a great reputation with putting o...   \n",
       "\n",
       "                                          tokenized_text  \\\n",
       "21278  ['shiseido', 'great', 'reput', 'put', 'qualiti...   \n",
       "\n",
       "                                        tokenized_text_2  \n",
       "21278  shiseido great reput put qualiti product glad ...  "
      ]
     },
     "execution_count": 45,
     "metadata": {},
     "output_type": "execute_result"
    }
   ],
   "source": [
    "reviews_sample.loc[reviews_sample['text_word_count']==409]"
   ]
  },
  {
   "cell_type": "code",
   "execution_count": 46,
   "id": "252b7d8c",
   "metadata": {},
   "outputs": [
    {
     "data": {
      "text/plain": [
       "count    156820.000000\n",
       "mean         58.845606\n",
       "std          41.760496\n",
       "min           1.000000\n",
       "25%          31.000000\n",
       "50%          49.000000\n",
       "75%          75.000000\n",
       "max         409.000000\n",
       "Name: text_word_count, dtype: float64"
      ]
     },
     "execution_count": 46,
     "metadata": {},
     "output_type": "execute_result"
    }
   ],
   "source": [
    "reviews_sample['text_word_count'].describe()"
   ]
  },
  {
   "cell_type": "code",
   "execution_count": 47,
   "id": "6cec359d",
   "metadata": {},
   "outputs": [],
   "source": [
    "X= reviews_sample['clean_text']\n",
    "y = reviews_sample['label'] "
   ]
  },
  {
   "cell_type": "code",
   "execution_count": 48,
   "id": "c9fcf9b6",
   "metadata": {},
   "outputs": [],
   "source": [
    "from sklearn.model_selection import train_test_split\n",
    "\n",
    "# Split the data into train and test sets\n",
    "X_train, X_test, y_train, y_test = train_test_split(X, y, test_size=0.80)"
   ]
  },
  {
   "cell_type": "code",
   "execution_count": 49,
   "id": "7c32ba47",
   "metadata": {},
   "outputs": [],
   "source": [
    "from tensorflow.keras.models import Sequential\n",
    "from tensorflow.keras.layers import Dense,LSTM, TextVectorization\n",
    "from tensorflow.keras.optimizers import Adam"
   ]
  },
  {
   "cell_type": "code",
   "execution_count": 50,
   "id": "692f0e17",
   "metadata": {},
   "outputs": [],
   "source": [
    "max_features = 5000  # Maximum vocab size.\n",
    "max_len = 200  # Sequence length to pad the outputs to.\n",
    "\n",
    "# Create the layer.\n",
    "vectorize_layer = tf.keras.layers.TextVectorization(\n",
    " max_tokens=max_features,\n",
    " output_mode='int',\n",
    " output_sequence_length=max_len)\n",
    "\n",
    "# Now that the vocab layer has been created, call `adapt` on the\n",
    "# text-only dataset to create the vocabulary. You don't have to batch,\n",
    "# but for large datasets this means we're not keeping spare copies of\n",
    "# the dataset.\n",
    "vectorize_layer.adapt(X_train)"
   ]
  },
  {
   "cell_type": "code",
   "execution_count": 51,
   "id": "adaf067a",
   "metadata": {},
   "outputs": [],
   "source": [
    "x_train = vectorize_layer(X_train)"
   ]
  },
  {
   "cell_type": "code",
   "execution_count": 52,
   "id": "cb213135",
   "metadata": {},
   "outputs": [
    {
     "data": {
      "text/plain": [
       "<tf.Tensor: shape=(200,), dtype=int64, numpy=\n",
       "array([  36,  186,   13,    3,   65,  171,   11,    6,  299,  143,  555,\n",
       "         16,  151,    3,   11,    5, 1951,  106,   43,   16,   94,    0,\n",
       "          0,    0,    0,    0,    0,    0,    0,    0,    0,    0,    0,\n",
       "          0,    0,    0,    0,    0,    0,    0,    0,    0,    0,    0,\n",
       "          0,    0,    0,    0,    0,    0,    0,    0,    0,    0,    0,\n",
       "          0,    0,    0,    0,    0,    0,    0,    0,    0,    0,    0,\n",
       "          0,    0,    0,    0,    0,    0,    0,    0,    0,    0,    0,\n",
       "          0,    0,    0,    0,    0,    0,    0,    0,    0,    0,    0,\n",
       "          0,    0,    0,    0,    0,    0,    0,    0,    0,    0,    0,\n",
       "          0,    0,    0,    0,    0,    0,    0,    0,    0,    0,    0,\n",
       "          0,    0,    0,    0,    0,    0,    0,    0,    0,    0,    0,\n",
       "          0,    0,    0,    0,    0,    0,    0,    0,    0,    0,    0,\n",
       "          0,    0,    0,    0,    0,    0,    0,    0,    0,    0,    0,\n",
       "          0,    0,    0,    0,    0,    0,    0,    0,    0,    0,    0,\n",
       "          0,    0,    0,    0,    0,    0,    0,    0,    0,    0,    0,\n",
       "          0,    0,    0,    0,    0,    0,    0,    0,    0,    0,    0,\n",
       "          0,    0,    0,    0,    0,    0,    0,    0,    0,    0,    0,\n",
       "          0,    0,    0,    0,    0,    0,    0,    0,    0,    0,    0,\n",
       "          0,    0], dtype=int64)>"
      ]
     },
     "execution_count": 52,
     "metadata": {},
     "output_type": "execute_result"
    }
   ],
   "source": [
    "x_train[0]"
   ]
  },
  {
   "cell_type": "code",
   "execution_count": 53,
   "id": "5d86574a",
   "metadata": {},
   "outputs": [],
   "source": [
    "x_test = vectorize_layer(X_test)"
   ]
  },
  {
   "cell_type": "code",
   "execution_count": 54,
   "id": "c9758fdd",
   "metadata": {},
   "outputs": [],
   "source": [
    "x_train=np.array(x_train)"
   ]
  },
  {
   "cell_type": "code",
   "execution_count": 55,
   "id": "48122050",
   "metadata": {},
   "outputs": [],
   "source": [
    "from sklearn.preprocessing import LabelEncoder\n",
    "le = LabelEncoder() # encoding\n",
    "y_train_label= le.fit_transform(y_train)\n",
    "y_test_label= le.transform(y_test)"
   ]
  },
  {
   "cell_type": "code",
   "execution_count": 56,
   "id": "56f4701b",
   "metadata": {},
   "outputs": [
    {
     "data": {
      "text/plain": [
       "dict_values([15683, 15681])"
      ]
     },
     "execution_count": 56,
     "metadata": {},
     "output_type": "execute_result"
    }
   ],
   "source": [
    "from collections import Counter\n",
    "\n",
    "Counter(y_train_label).keys() # equals to list(set(words))\n",
    "Counter(y_train_label).values() # counts the elements' frequency"
   ]
  },
  {
   "cell_type": "code",
   "execution_count": 57,
   "id": "7486d3d6",
   "metadata": {},
   "outputs": [
    {
     "data": {
      "text/plain": [
       "((31364, 200), (31364,))"
      ]
     },
     "execution_count": 57,
     "metadata": {},
     "output_type": "execute_result"
    }
   ],
   "source": [
    "x_train.shape,y_train_label.shape"
   ]
  },
  {
   "cell_type": "code",
   "execution_count": 67,
   "id": "5f16f515",
   "metadata": {
    "scrolled": true
   },
   "outputs": [
    {
     "name": "stdout",
     "output_type": "stream",
     "text": [
      "Model: \"sequential_7\"\n",
      "_________________________________________________________________\n",
      " Layer (type)                Output Shape              Param #   \n",
      "=================================================================\n",
      " embedding_7 (Embedding)     (None, 200, 64)           160000    \n",
      "                                                                 \n",
      " bidirectional_7 (Bidirectio  (None, 128)              66048     \n",
      " nal)                                                            \n",
      "                                                                 \n",
      " dense_10 (Dense)            (None, 25)                3225      \n",
      "                                                                 \n",
      " dense_11 (Dense)            (None, 1)                 26        \n",
      "                                                                 \n",
      "=================================================================\n",
      "Total params: 229,299\n",
      "Trainable params: 229,299\n",
      "Non-trainable params: 0\n",
      "_________________________________________________________________\n"
     ]
    }
   ],
   "source": [
    "from tensorflow.keras.models import Sequential\n",
    "from tensorflow.keras.layers import Embedding, Bidirectional, Dropout\n",
    "from tensorflow.keras.optimizers import Adam\n",
    "model = Sequential()\n",
    "model.add(Embedding(max_features,64,input_length = 200))\n",
    "model.add(Bidirectional(LSTM(64)))\n",
    "# model.add(Dropout(0.2))\n",
    "# model.add(LSTM(64))\n",
    "model.add(Dense(25, activation='relu'))\n",
    "model.add(Dense(1, activation='sigmoid'))\n",
    "model.compile(loss='binary_crossentropy',optimizer='Adam',metrics=['accuracy'])\n",
    "model.summary()"
   ]
  },
  {
   "cell_type": "code",
   "execution_count": 68,
   "id": "13da3a8d",
   "metadata": {
    "scrolled": true
   },
   "outputs": [
    {
     "name": "stdout",
     "output_type": "stream",
     "text": [
      "Epoch 1/2\n",
      "981/981 [==============================] - 71s 70ms/step - loss: 0.3503 - accuracy: 0.8495\n",
      "Epoch 2/2\n",
      "981/981 [==============================] - 66s 67ms/step - loss: 0.2538 - accuracy: 0.90370s - loss: 0.2541 - accu\n"
     ]
    },
    {
     "data": {
      "text/plain": [
       "<keras.callbacks.History at 0x2195d4d3fa0>"
      ]
     },
     "execution_count": 68,
     "metadata": {},
     "output_type": "execute_result"
    }
   ],
   "source": [
    "model.fit(x_train,y_train_label, epochs = 2)"
   ]
  },
  {
   "cell_type": "code",
   "execution_count": 60,
   "id": "4022bf36",
   "metadata": {},
   "outputs": [
    {
     "data": {
      "text/plain": [
       "array([[0.01733035],\n",
       "       [0.01139319],\n",
       "       [0.33395857],\n",
       "       ...,\n",
       "       [0.0649789 ],\n",
       "       [0.07474905],\n",
       "       [0.9682166 ]], dtype=float32)"
      ]
     },
     "execution_count": 60,
     "metadata": {},
     "output_type": "execute_result"
    }
   ],
   "source": [
    "model.predict(x_test)"
   ]
  },
  {
   "cell_type": "code",
   "execution_count": 71,
   "id": "13671bee",
   "metadata": {},
   "outputs": [
    {
     "data": {
      "text/plain": [
       "array([[0.14532462]], dtype=float32)"
      ]
     },
     "execution_count": 71,
     "metadata": {},
     "output_type": "execute_result"
    }
   ],
   "source": [
    "model.predict(vectorize_layer(['Gel type moisturizers are not typically my thing']))"
   ]
  },
  {
   "cell_type": "code",
   "execution_count": 14,
   "id": "911dd606",
   "metadata": {},
   "outputs": [
    {
     "data": {
      "text/plain": [
       "array([0, 1, 1, ..., 0, 0, 1], dtype=int64)"
      ]
     },
     "execution_count": 14,
     "metadata": {},
     "output_type": "execute_result"
    }
   ],
   "source": [
    "y_train_label"
   ]
  },
  {
   "cell_type": "code",
   "execution_count": null,
   "id": "5215a2da",
   "metadata": {},
   "outputs": [],
   "source": []
  }
 ],
 "metadata": {
  "kernelspec": {
   "display_name": "Python 3 (ipykernel)",
   "language": "python",
   "name": "python3"
  },
  "language_info": {
   "codemirror_mode": {
    "name": "ipython",
    "version": 3
   },
   "file_extension": ".py",
   "mimetype": "text/x-python",
   "name": "python",
   "nbconvert_exporter": "python",
   "pygments_lexer": "ipython3",
   "version": "3.9.7"
  }
 },
 "nbformat": 4,
 "nbformat_minor": 5
}
