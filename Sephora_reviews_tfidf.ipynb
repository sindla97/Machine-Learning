{
 "cells": [
  {
   "cell_type": "code",
   "execution_count": 1,
   "id": "6feb6759",
   "metadata": {},
   "outputs": [],
   "source": [
    "import pandas as pd\n",
    "import numpy as np\n"
   ]
  },
  {
   "cell_type": "code",
   "execution_count": 3,
   "id": "26131e7d",
   "metadata": {},
   "outputs": [
    {
     "data": {
      "text/html": [
       "<div>\n",
       "<style scoped>\n",
       "    .dataframe tbody tr th:only-of-type {\n",
       "        vertical-align: middle;\n",
       "    }\n",
       "\n",
       "    .dataframe tbody tr th {\n",
       "        vertical-align: top;\n",
       "    }\n",
       "\n",
       "    .dataframe thead th {\n",
       "        text-align: right;\n",
       "    }\n",
       "</style>\n",
       "<table border=\"1\" class=\"dataframe\">\n",
       "  <thead>\n",
       "    <tr style=\"text-align: right;\">\n",
       "      <th></th>\n",
       "      <th>Unnamed: 0</th>\n",
       "      <th>review_text</th>\n",
       "      <th>label</th>\n",
       "      <th>rating</th>\n",
       "      <th>text_word_count</th>\n",
       "      <th>clean_text</th>\n",
       "      <th>tokenized_text</th>\n",
       "      <th>tokenized_text_2</th>\n",
       "    </tr>\n",
       "  </thead>\n",
       "  <tbody>\n",
       "    <tr>\n",
       "      <th>0</th>\n",
       "      <td>0</td>\n",
       "      <td>Gel type moisturizers aren’t typically my go-t...</td>\n",
       "      <td>1.0</td>\n",
       "      <td>5</td>\n",
       "      <td>51</td>\n",
       "      <td>gel type moisturizers aren’t typically my goto...</td>\n",
       "      <td>['gel', 'type', 'moistur', '’', 'typic', 'goto...</td>\n",
       "      <td>gel type moistur ’ typic goto one impress gel ...</td>\n",
       "    </tr>\n",
       "    <tr>\n",
       "      <th>1</th>\n",
       "      <td>1</td>\n",
       "      <td>smells great! works really well on my acne sca...</td>\n",
       "      <td>1.0</td>\n",
       "      <td>4</td>\n",
       "      <td>44</td>\n",
       "      <td>smells great works really well on my acne scar...</td>\n",
       "      <td>['smell', 'great', 'work', 'realli', 'well', '...</td>\n",
       "      <td>smell great work realli well acn scare need co...</td>\n",
       "    </tr>\n",
       "    <tr>\n",
       "      <th>2</th>\n",
       "      <td>2</td>\n",
       "      <td>Caused me so many breakouts. I thought this wo...</td>\n",
       "      <td>0.0</td>\n",
       "      <td>1</td>\n",
       "      <td>29</td>\n",
       "      <td>caused me so many breakouts i thought this wou...</td>\n",
       "      <td>['caus', 'mani', 'breakout', 'thought', 'would...</td>\n",
       "      <td>caus mani breakout thought would good use clea...</td>\n",
       "    </tr>\n",
       "    <tr>\n",
       "      <th>3</th>\n",
       "      <td>3</td>\n",
       "      <td>I could not be happier with this mask! I alway...</td>\n",
       "      <td>1.0</td>\n",
       "      <td>5</td>\n",
       "      <td>45</td>\n",
       "      <td>i could not be happier with this mask i always...</td>\n",
       "      <td>['could', 'happier', 'mask', 'alway', 'use', '...</td>\n",
       "      <td>could happier mask alway use overnight mask am...</td>\n",
       "    </tr>\n",
       "    <tr>\n",
       "      <th>4</th>\n",
       "      <td>4</td>\n",
       "      <td>Fastest acting spot reducer I have ever tried....</td>\n",
       "      <td>1.0</td>\n",
       "      <td>5</td>\n",
       "      <td>50</td>\n",
       "      <td>fastest acting spot reducer i have ever tried ...</td>\n",
       "      <td>['fastest', 'act', 'spot', 'reduc', 'ever', 't...</td>\n",
       "      <td>fastest act spot reduc ever tri got watch one ...</td>\n",
       "    </tr>\n",
       "  </tbody>\n",
       "</table>\n",
       "</div>"
      ],
      "text/plain": [
       "   Unnamed: 0                                        review_text  label  \\\n",
       "0           0  Gel type moisturizers aren’t typically my go-t...    1.0   \n",
       "1           1  smells great! works really well on my acne sca...    1.0   \n",
       "2           2  Caused me so many breakouts. I thought this wo...    0.0   \n",
       "3           3  I could not be happier with this mask! I alway...    1.0   \n",
       "4           4  Fastest acting spot reducer I have ever tried....    1.0   \n",
       "\n",
       "   rating  text_word_count                                         clean_text  \\\n",
       "0       5               51  gel type moisturizers aren’t typically my goto...   \n",
       "1       4               44  smells great works really well on my acne scar...   \n",
       "2       1               29  caused me so many breakouts i thought this wou...   \n",
       "3       5               45  i could not be happier with this mask i always...   \n",
       "4       5               50  fastest acting spot reducer i have ever tried ...   \n",
       "\n",
       "                                      tokenized_text  \\\n",
       "0  ['gel', 'type', 'moistur', '’', 'typic', 'goto...   \n",
       "1  ['smell', 'great', 'work', 'realli', 'well', '...   \n",
       "2  ['caus', 'mani', 'breakout', 'thought', 'would...   \n",
       "3  ['could', 'happier', 'mask', 'alway', 'use', '...   \n",
       "4  ['fastest', 'act', 'spot', 'reduc', 'ever', 't...   \n",
       "\n",
       "                                    tokenized_text_2  \n",
       "0  gel type moistur ’ typic goto one impress gel ...  \n",
       "1  smell great work realli well acn scare need co...  \n",
       "2  caus mani breakout thought would good use clea...  \n",
       "3  could happier mask alway use overnight mask am...  \n",
       "4  fastest act spot reduc ever tri got watch one ...  "
      ]
     },
     "execution_count": 3,
     "metadata": {},
     "output_type": "execute_result"
    }
   ],
   "source": [
    "reviews_sample= pd.read_csv(r'C:\\Users\\shanm\\OneDrive\\Desktop\\Git_data\\Sephora_sample\\X_reviews_sample.csv',low_memory =True)\n",
    "reviews_sample.head()"
   ]
  },
  {
   "cell_type": "code",
   "execution_count": 4,
   "id": "a1a02de0",
   "metadata": {},
   "outputs": [],
   "source": [
    "X= reviews_sample['tokenized_text_2']\n",
    "y = reviews_sample['label'] "
   ]
  },
  {
   "cell_type": "code",
   "execution_count": 5,
   "id": "3c00159b",
   "metadata": {},
   "outputs": [],
   "source": [
    "from sklearn.model_selection import train_test_split\n",
    "\n",
    "# Split the data into train and test sets\n",
    "X_train, X_test, y_train, y_test = train_test_split(X, y, test_size=0.80)"
   ]
  },
  {
   "cell_type": "code",
   "execution_count": 6,
   "id": "cac6c58e",
   "metadata": {},
   "outputs": [],
   "source": [
    "from sklearn.preprocessing import LabelEncoder\n",
    "le = LabelEncoder() # encoding\n",
    "y_train_label= le.fit_transform(y_train)\n",
    "y_test_label= le.transform(y_test)"
   ]
  },
  {
   "cell_type": "code",
   "execution_count": 7,
   "id": "09b04c00",
   "metadata": {},
   "outputs": [],
   "source": [
    "from sklearn.feature_extraction.text import TfidfVectorizer\n",
    "vec = TfidfVectorizer(stop_words=\"english\", analyzer='word', \n",
    "                            ngram_range=(1, 1), max_df=1.0, min_df=1, max_features=15000)\n",
    "vec.fit(X_train)\n",
    "x_train=vec.transform(X_train)\n",
    "x_test=vec.transform(X_test)"
   ]
  },
  {
   "cell_type": "code",
   "execution_count": 13,
   "id": "36713f61",
   "metadata": {},
   "outputs": [
    {
     "name": "stdout",
     "output_type": "stream",
     "text": [
      "[0. 0. 0. ... 0. 0. 0.]\n"
     ]
    }
   ],
   "source": [
    "print(vec.transform(['happi hear work other hand oili complexion']).toarray()[0][0:-10])"
   ]
  },
  {
   "cell_type": "code",
   "execution_count": 14,
   "id": "d930a300",
   "metadata": {},
   "outputs": [
    {
     "data": {
      "text/plain": [
       "array(['aa', 'aaaaag', 'aaaaahmaz', ..., 'ꜰʀᴏᴍ', 'ꜰᴀʟʟꜰᴀᴠᴇꜱᴠᴏxʙᴏx', 'ꜰᴏʀ'],\n",
       "      dtype=object)"
      ]
     },
     "execution_count": 14,
     "metadata": {},
     "output_type": "execute_result"
    }
   ],
   "source": [
    "vec.get_feature_names_out()"
   ]
  },
  {
   "cell_type": "code",
   "execution_count": 15,
   "id": "76c69910",
   "metadata": {},
   "outputs": [],
   "source": [
    " x_train = x_train.toarray()"
   ]
  },
  {
   "cell_type": "code",
   "execution_count": 16,
   "id": "d6c2e280",
   "metadata": {},
   "outputs": [
    {
     "data": {
      "text/plain": [
       "array([0., 0., 0., ..., 0., 0., 0.])"
      ]
     },
     "execution_count": 16,
     "metadata": {},
     "output_type": "execute_result"
    }
   ],
   "source": [
    "x_train[25][:-2]"
   ]
  },
  {
   "cell_type": "code",
   "execution_count": 11,
   "id": "d7aacc45",
   "metadata": {},
   "outputs": [
    {
     "name": "stdout",
     "output_type": "stream",
     "text": [
      "Model: \"sequential\"\n",
      "_________________________________________________________________\n",
      " Layer (type)                Output Shape              Param #   \n",
      "=================================================================\n",
      " dense (Dense)               (None, 50)                750050    \n",
      "                                                                 \n",
      " dense_1 (Dense)             (None, 25)                1275      \n",
      "                                                                 \n",
      " dense_2 (Dense)             (None, 1)                 26        \n",
      "                                                                 \n",
      "=================================================================\n",
      "Total params: 751,351\n",
      "Trainable params: 751,351\n",
      "Non-trainable params: 0\n",
      "_________________________________________________________________\n"
     ]
    }
   ],
   "source": [
    "from tensorflow.keras.models import Sequential\n",
    "from tensorflow.keras.layers import Dense\n",
    "from tensorflow.keras.optimizers import Adam\n",
    "model = Sequential()\n",
    "model.add(Dense(50, input_dim=x_train.shape[1], activation='relu'))\n",
    "model.add(Dense(25, activation='relu'))\n",
    "model.add(Dense(1, activation='sigmoid'))\n",
    "model.compile(loss='binary_crossentropy',optimizer='Adam',metrics=['accuracy'])\n",
    "model.summary()"
   ]
  },
  {
   "cell_type": "code",
   "execution_count": 12,
   "id": "59a03a92",
   "metadata": {},
   "outputs": [
    {
     "name": "stdout",
     "output_type": "stream",
     "text": [
      "Epoch 1/10\n",
      "10/10 [==============================] - 2s 78ms/step - loss: 0.6867 - accuracy: 0.7135\n",
      "Epoch 2/10\n",
      "10/10 [==============================] - 1s 74ms/step - loss: 0.6566 - accuracy: 0.8128\n",
      "Epoch 3/10\n",
      "10/10 [==============================] - 1s 74ms/step - loss: 0.6115 - accuracy: 0.8368\n",
      "Epoch 4/10\n",
      "10/10 [==============================] - 1s 72ms/step - loss: 0.5541 - accuracy: 0.8482\n",
      "Epoch 5/10\n",
      "10/10 [==============================] - 1s 76ms/step - loss: 0.4897 - accuracy: 0.8635\n",
      "Epoch 6/10\n",
      "10/10 [==============================] - 1s 75ms/step - loss: 0.4266 - accuracy: 0.8722\n",
      "Epoch 7/10\n",
      "10/10 [==============================] - 1s 74ms/step - loss: 0.3720 - accuracy: 0.8805\n",
      "Epoch 8/10\n",
      "10/10 [==============================] - 1s 74ms/step - loss: 0.3296 - accuracy: 0.8874\n",
      "Epoch 9/10\n",
      "10/10 [==============================] - 1s 76ms/step - loss: 0.2985 - accuracy: 0.8937\n",
      "Epoch 10/10\n",
      "10/10 [==============================] - 1s 66ms/step - loss: 0.2758 - accuracy: 0.9000\n"
     ]
    },
    {
     "data": {
      "text/plain": [
       "<keras.callbacks.History at 0x28b3ac4f070>"
      ]
     },
     "execution_count": 12,
     "metadata": {},
     "output_type": "execute_result"
    }
   ],
   "source": [
    "model.fit(x_train,y_train_label,epochs=10,steps_per_epoch=10)"
   ]
  },
  {
   "cell_type": "code",
   "execution_count": 24,
   "id": "6e8ccd39",
   "metadata": {},
   "outputs": [
    {
     "data": {
      "text/plain": [
       "array([[0.39144894]], dtype=float32)"
      ]
     },
     "execution_count": 24,
     "metadata": {},
     "output_type": "execute_result"
    }
   ],
   "source": [
    "model.predict(vec.transform(['happi hear work other hand oili complexion']).toarray())"
   ]
  },
  {
   "cell_type": "code",
   "execution_count": null,
   "id": "19c895d8",
   "metadata": {},
   "outputs": [],
   "source": []
  }
 ],
 "metadata": {
  "kernelspec": {
   "display_name": "Python 3 (ipykernel)",
   "language": "python",
   "name": "python3"
  },
  "language_info": {
   "codemirror_mode": {
    "name": "ipython",
    "version": 3
   },
   "file_extension": ".py",
   "mimetype": "text/x-python",
   "name": "python",
   "nbconvert_exporter": "python",
   "pygments_lexer": "ipython3",
   "version": "3.9.7"
  }
 },
 "nbformat": 4,
 "nbformat_minor": 5
}
