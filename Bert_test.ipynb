{
  "nbformat": 4,
  "nbformat_minor": 0,
  "metadata": {
    "colab": {
      "provenance": [],
      "authorship_tag": "ABX9TyMfqAjrYt2XJnxAPQCYiMG4",
      "include_colab_link": true
    },
    "kernelspec": {
      "name": "python3",
      "display_name": "Python 3"
    },
    "language_info": {
      "name": "python"
    }
  },
  "cells": [
    {
      "cell_type": "markdown",
      "metadata": {
        "id": "view-in-github",
        "colab_type": "text"
      },
      "source": [
        "<a href=\"https://colab.research.google.com/github/sindla97/Machine-Learning/blob/main/Bert_test.ipynb\" target=\"_parent\"><img src=\"https://colab.research.google.com/assets/colab-badge.svg\" alt=\"Open In Colab\"/></a>"
      ]
    },
    {
      "cell_type": "code",
      "execution_count": 1,
      "metadata": {
        "id": "jnwovpC4a_Ja"
      },
      "outputs": [],
      "source": [
        "import pandas as pd\n",
        "import numpy as np"
      ]
    },
    {
      "cell_type": "code",
      "source": [
        "from transformers import TFBertTokenizer,BertTokenizerFast, TFBertModel, BertLayer\n"
      ],
      "metadata": {
        "id": "wtFj8SmWbxbr"
      },
      "execution_count": 3,
      "outputs": []
    },
    {
      "cell_type": "code",
      "source": [
        "tokenize=TFBertTokenizer.from_pretrained('bert-large-cased')"
      ],
      "metadata": {
        "id": "YkQ5youacTmU"
      },
      "execution_count": 6,
      "outputs": []
    },
    {
      "cell_type": "code",
      "source": [
        "encoded=tokenize(['Hemanth','is a asshole'])\n",
        "\n"
      ],
      "metadata": {
        "id": "ww54MZUadKdM"
      },
      "execution_count": 8,
      "outputs": []
    },
    {
      "cell_type": "code",
      "source": [
        "model=TFBertModel.from_pretrained('bert-large-cased')"
      ],
      "metadata": {
        "colab": {
          "base_uri": "https://localhost:8080/"
        },
        "id": "vGvYsRwDjq6L",
        "outputId": "405cc85a-07fd-4145-bb5e-15cb12b4254e"
      },
      "execution_count": 9,
      "outputs": [
        {
          "output_type": "stream",
          "name": "stderr",
          "text": [
            "Some weights of the PyTorch model were not used when initializing the TF 2.0 model TFBertModel: ['cls.predictions.transform.LayerNorm.weight', 'cls.seq_relationship.bias', 'cls.predictions.transform.LayerNorm.bias', 'cls.predictions.bias', 'cls.seq_relationship.weight', 'cls.predictions.transform.dense.bias', 'cls.predictions.transform.dense.weight']\n",
            "- This IS expected if you are initializing TFBertModel from a PyTorch model trained on another task or with another architecture (e.g. initializing a TFBertForSequenceClassification model from a BertForPreTraining model).\n",
            "- This IS NOT expected if you are initializing TFBertModel from a PyTorch model that you expect to be exactly identical (e.g. initializing a TFBertForSequenceClassification model from a BertForSequenceClassification model).\n",
            "All the weights of TFBertModel were initialized from the PyTorch model.\n",
            "If your task is similar to the task the model of the checkpoint was trained on, you can already use TFBertModel for predictions without further training.\n"
          ]
        }
      ]
    },
    {
      "cell_type": "code",
      "source": [
        "encoded"
      ],
      "metadata": {
        "colab": {
          "base_uri": "https://localhost:8080/"
        },
        "id": "qHDgqY6Znaou",
        "outputId": "95bc0aef-6547-44bb-bf2d-467e2ba288a7"
      },
      "execution_count": 10,
      "outputs": [
        {
          "output_type": "execute_result",
          "data": {
            "text/plain": [
              "{'input_ids': <tf.Tensor: shape=(2, 5), dtype=int64, numpy=\n",
              " array([[  101,  1124,  1399,  1582,   102],\n",
              "        [  101,  1110,   170, 27877,   102]])>,\n",
              " 'attention_mask': <tf.Tensor: shape=(2, 5), dtype=int64, numpy=\n",
              " array([[1, 1, 1, 1, 1],\n",
              "        [1, 1, 1, 1, 1]])>,\n",
              " 'token_type_ids': <tf.Tensor: shape=(2, 5), dtype=int64, numpy=\n",
              " array([[0, 0, 0, 0, 0],\n",
              "        [0, 0, 0, 0, 0]])>}"
            ]
          },
          "metadata": {},
          "execution_count": 10
        }
      ]
    },
    {
      "cell_type": "code",
      "source": [
        "model(encoded)"
      ],
      "metadata": {
        "colab": {
          "base_uri": "https://localhost:8080/"
        },
        "id": "ia6-1E_uu3mm",
        "outputId": "e2e44625-40d6-4711-e75c-1bc401cf345a"
      },
      "execution_count": 13,
      "outputs": [
        {
          "output_type": "execute_result",
          "data": {
            "text/plain": [
              "TFBaseModelOutputWithPoolingAndCrossAttentions(last_hidden_state=<tf.Tensor: shape=(2, 5, 1024), dtype=float32, numpy=\n",
              "array([[[-0.7410247 , -0.08453304,  0.3512593 , ..., -0.03892468,\n",
              "         -0.6113131 ,  0.13222834],\n",
              "        [-0.5081473 , -1.0046306 , -0.09670912, ..., -0.5713471 ,\n",
              "          0.25065717, -0.39655128],\n",
              "        [-0.13297059,  0.04868938,  0.32917523, ..., -0.11524402,\n",
              "         -0.14398642, -0.2851179 ],\n",
              "        [-1.1150161 , -0.4759027 , -0.11566375, ...,  0.6752935 ,\n",
              "          0.07073672,  0.13514736],\n",
              "        [-0.61365634, -1.4850808 ,  0.38189974, ...,  0.5183874 ,\n",
              "         -0.4681304 , -0.17568077]],\n",
              "\n",
              "       [[-0.49310523, -0.21431933,  0.5574328 , ..., -0.35691494,\n",
              "         -0.4983406 ,  0.09909564],\n",
              "        [-0.50194514, -0.7799337 , -0.24431807, ..., -0.35499412,\n",
              "         -0.00606415,  0.0461541 ],\n",
              "        [ 0.16381828,  0.27361274,  0.07078988, ...,  0.6253388 ,\n",
              "          0.12387747,  0.29849824],\n",
              "        [ 0.19375493,  0.08191492,  0.04811272, ...,  0.703217  ,\n",
              "         -0.13053925, -0.21962611],\n",
              "        [ 0.20187718, -1.0649668 , -0.34099454, ..., -0.5381267 ,\n",
              "         -0.2256309 ,  0.21484292]]], dtype=float32)>, pooler_output=<tf.Tensor: shape=(2, 1024), dtype=float32, numpy=\n",
              "array([[ 0.90172505,  0.95764935,  0.9796124 , ..., -0.99575007,\n",
              "        -0.21323003,  0.88841534],\n",
              "       [ 0.8857407 ,  0.999637  ,  0.9995478 , ..., -0.9999776 ,\n",
              "         0.302898  ,  0.9912014 ]], dtype=float32)>, past_key_values=None, hidden_states=None, attentions=None, cross_attentions=None)"
            ]
          },
          "metadata": {},
          "execution_count": 13
        }
      ]
    }
  ]
}