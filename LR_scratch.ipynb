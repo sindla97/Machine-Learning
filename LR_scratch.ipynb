{
  "nbformat": 4,
  "nbformat_minor": 0,
  "metadata": {
    "colab": {
      "provenance": [],
      "authorship_tag": "ABX9TyNdMgU+ieWOWLTK2u3dwiAF",
      "include_colab_link": true
    },
    "kernelspec": {
      "name": "python3",
      "display_name": "Python 3"
    },
    "language_info": {
      "name": "python"
    }
  },
  "cells": [
    {
      "cell_type": "markdown",
      "metadata": {
        "id": "view-in-github",
        "colab_type": "text"
      },
      "source": [
        "<a href=\"https://colab.research.google.com/github/sindla97/Machine-Learning/blob/main/LR_scratch.ipynb\" target=\"_parent\"><img src=\"https://colab.research.google.com/assets/colab-badge.svg\" alt=\"Open In Colab\"/></a>"
      ]
    },
    {
      "cell_type": "code",
      "execution_count": 1,
      "metadata": {
        "id": "EuesGOywJmnk"
      },
      "outputs": [],
      "source": [
        "import numpy as np\n",
        "import pandas as pd"
      ]
    },
    {
      "cell_type": "code",
      "source": [
        "class LinearRegression:\n",
        "  def predict(X):\n",
        "    y_pred=np.multiply(np.array(X),coef)\n",
        "    return y_pred\n",
        "  def fit(X,y,n=1000):\n",
        "    X=np.array(X)\n",
        "    y=np.array(y)\n",
        "    num_coef=len(X[0])\n",
        "    coef=np.ones(num_coef)\n",
        "    for i in range(n+1):\n",
        "       ycap=np.matmul(X,coef.T)\n",
        "       err=y-ycap\n",
        "\n",
        "\n",
        "\n"
      ],
      "metadata": {
        "id": "vD0TWMWTJt5F"
      },
      "execution_count": null,
      "outputs": []
    },
    {
      "cell_type": "code",
      "source": [
        "np.matmul(np.reshape(np.array(range(1,11)),(5,2)), np.reshape(np.array(range(1,11)),(5,2)).T)"
      ],
      "metadata": {
        "colab": {
          "base_uri": "https://localhost:8080/"
        },
        "id": "Vnc27ZxZKZq3",
        "outputId": "22698f0c-1be4-4587-fcbb-26c0372c322f"
      },
      "execution_count": 25,
      "outputs": [
        {
          "output_type": "execute_result",
          "data": {
            "text/plain": [
              "array([[  5,  11,  17,  23,  29],\n",
              "       [ 11,  25,  39,  53,  67],\n",
              "       [ 17,  39,  61,  83, 105],\n",
              "       [ 23,  53,  83, 113, 143],\n",
              "       [ 29,  67, 105, 143, 181]])"
            ]
          },
          "metadata": {},
          "execution_count": 25
        }
      ]
    },
    {
      "cell_type": "code",
      "source": [
        "np.reshape(np.array(range(1,11)),(10)).T.shape"
      ],
      "metadata": {
        "colab": {
          "base_uri": "https://localhost:8080/"
        },
        "id": "3pJ-kmIpT4t6",
        "outputId": "bc511b79-9f27-430b-bc03-001e5fc075e6"
      },
      "execution_count": 24,
      "outputs": [
        {
          "output_type": "execute_result",
          "data": {
            "text/plain": [
              "(10,)"
            ]
          },
          "metadata": {},
          "execution_count": 24
        }
      ]
    }
  ]
}