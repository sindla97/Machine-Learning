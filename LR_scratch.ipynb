{
  "nbformat": 4,
  "nbformat_minor": 0,
  "metadata": {
    "colab": {
      "provenance": [],
      "authorship_tag": "ABX9TyNawX6xlsA10Nt94MBwts3L",
      "include_colab_link": true
    },
    "kernelspec": {
      "name": "python3",
      "display_name": "Python 3"
    },
    "language_info": {
      "name": "python"
    }
  },
  "cells": [
    {
      "cell_type": "markdown",
      "metadata": {
        "id": "view-in-github",
        "colab_type": "text"
      },
      "source": [
        "<a href=\"https://colab.research.google.com/github/sindla97/Machine-Learning/blob/main/LR_scratch.ipynb\" target=\"_parent\"><img src=\"https://colab.research.google.com/assets/colab-badge.svg\" alt=\"Open In Colab\"/></a>"
      ]
    },
    {
      "cell_type": "code",
      "execution_count": 1,
      "metadata": {
        "id": "EuesGOywJmnk"
      },
      "outputs": [],
      "source": [
        "import numpy as np\n",
        "import pandas as pd"
      ]
    },
    {
      "cell_type": "code",
      "source": [
        "class LinearRegression():\n",
        "  def __init__(self):\n",
        "    self.iter=None\n",
        "\n",
        "  def fit(self,X,y,n=10,rate=0.01):\n",
        "    rows,cls=X.shape\n",
        "    coef=np.ones(cls)\n",
        "    self.coef=coef\n",
        "    for i in range(n+1):\n",
        "       ycap=self.predict(X)\n",
        "       err=y-ycap\n",
        "       dcoef=-(2*(X.T.dot(err)))/rows\n",
        "       self.coef += -rate*dcoef\n",
        "    return self\n",
        "\n",
        "  def predict(self,X):\n",
        "    y_pred=X.dot(self.coef.T)\n",
        "    return y_pred\n",
        "\n",
        "\n",
        "\n"
      ],
      "metadata": {
        "id": "vD0TWMWTJt5F"
      },
      "execution_count": 140,
      "outputs": []
    },
    {
      "cell_type": "code",
      "source": [
        "X=np.matmul(np.reshape(np.array(range(1,126)),(25,5)), np.reshape(np.array(range(1,126)),(25,5)).T)\n",
        "y=np.reshape(range(1,75,3),(25))"
      ],
      "metadata": {
        "id": "Vnc27ZxZKZq3"
      },
      "execution_count": 135,
      "outputs": []
    },
    {
      "cell_type": "code",
      "source": [
        "lr=LinearRegression()\n",
        "lr.fit(X,y)"
      ],
      "metadata": {
        "colab": {
          "base_uri": "https://localhost:8080/"
        },
        "id": "ewR_gRLycrku",
        "outputId": "f90d499d-b170-401d-9ee6-a16e182e5978"
      },
      "execution_count": 141,
      "outputs": [
        {
          "output_type": "execute_result",
          "data": {
            "text/plain": [
              "<__main__.LinearRegression at 0x7907980cbca0>"
            ]
          },
          "metadata": {},
          "execution_count": 141
        }
      ]
    },
    {
      "cell_type": "code",
      "source": [
        "lr.predict(X)"
      ],
      "metadata": {
        "colab": {
          "base_uri": "https://localhost:8080/"
        },
        "id": "fzf97I1Np3wM",
        "outputId": "b2a0b216-ffe9-44a4-ecbb-607dfade8d2f"
      },
      "execution_count": 142,
      "outputs": [
        {
          "output_type": "execute_result",
          "data": {
            "text/plain": [
              "array([-2.10664126e+98, -5.58994151e+98, -9.07324176e+98, -1.25565420e+99,\n",
              "       -1.60398423e+99, -1.95231425e+99, -2.30064428e+99, -2.64897430e+99,\n",
              "       -2.99730433e+99, -3.34563435e+99, -3.69396438e+99, -4.04229440e+99,\n",
              "       -4.39062443e+99, -4.73895445e+99, -5.08728448e+99, -5.43561450e+99,\n",
              "       -5.78394453e+99, -6.13227455e+99, -6.48060458e+99, -6.82893460e+99,\n",
              "       -7.17726463e+99, -7.52559466e+99, -7.87392468e+99, -8.22225471e+99,\n",
              "       -8.57058473e+99])"
            ]
          },
          "metadata": {},
          "execution_count": 142
        }
      ]
    },
    {
      "cell_type": "code",
      "source": [
        "np.reshape(np.array(range(1,11)),(10)).T.shape"
      ],
      "metadata": {
        "colab": {
          "base_uri": "https://localhost:8080/"
        },
        "id": "3pJ-kmIpT4t6",
        "outputId": "bc511b79-9f27-430b-bc03-001e5fc075e6"
      },
      "execution_count": 24,
      "outputs": [
        {
          "output_type": "execute_result",
          "data": {
            "text/plain": [
              "(10,)"
            ]
          },
          "metadata": {},
          "execution_count": 24
        }
      ]
    }
  ]
}